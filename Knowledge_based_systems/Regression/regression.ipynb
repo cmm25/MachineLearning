{
 "cells": [
  {
   "cell_type": "markdown",
   "metadata": {},
   "source": [
    "Concatenation of all CSV's to one csv."
   ]
  },
  {
   "cell_type": "code",
   "execution_count": 12,
   "metadata": {},
   "outputs": [],
   "source": [
    "import pandas as pd\n",
    "import glob\n",
    "import os\n"
   ]
  },
  {
   "cell_type": "code",
   "execution_count": 20,
   "metadata": {},
   "outputs": [
    {
     "name": "stdout",
     "output_type": "stream",
     "text": [
      "Current working directory: c:\\Users\\HP\\Documents\\Projects\\school\\machinelearning_self_learn\\Knowledge_based_systems\\Regression\n",
      "Full path: c:\\Users\\HP\\Documents\\Projects\\school\\machinelearning_self_learn\\Knowledge_based_systems\\Regression\\Nairobi_Securities_Exchange_All_Stocks_Prices_2007_2012\n",
      "Full path: c:\\Users\\HP\\Documents\\Projects\\school\\machinelearning_self_learn\\Knowledge_based_systems\\Regression\\Nairobi_Securities_Exchange_All_Stocks_Prices_2007_2012\n",
      "Successfully read: c:\\Users\\HP\\Documents\\Projects\\school\\machinelearning_self_learn\\Knowledge_based_systems\\Regression\\Nairobi_Securities_Exchange_All_Stocks_Prices_2007_2012\\NSE_data_all_stocks_2007.csv with 10608 rows.\n",
      "Successfully read: c:\\Users\\HP\\Documents\\Projects\\school\\machinelearning_self_learn\\Knowledge_based_systems\\Regression\\Nairobi_Securities_Exchange_All_Stocks_Prices_2007_2012\\NSE_data_all_stocks_2008.csv with 10583 rows.\n",
      "Successfully read: c:\\Users\\HP\\Documents\\Projects\\school\\machinelearning_self_learn\\Knowledge_based_systems\\Regression\\Nairobi_Securities_Exchange_All_Stocks_Prices_2007_2012\\NSE_data_all_stocks_2009.csv with 14386 rows.\n",
      "Successfully read: c:\\Users\\HP\\Documents\\Projects\\school\\machinelearning_self_learn\\Knowledge_based_systems\\Regression\\Nairobi_Securities_Exchange_All_Stocks_Prices_2007_2012\\NSE_data_all_stocks_2010.csv with 14952 rows.\n",
      "Successfully read: c:\\Users\\HP\\Documents\\Projects\\school\\machinelearning_self_learn\\Knowledge_based_systems\\Regression\\Nairobi_Securities_Exchange_All_Stocks_Prices_2007_2012\\NSE_data_all_stocks_2011.csv with 14931 rows.\n",
      "Successfully read: c:\\Users\\HP\\Documents\\Projects\\school\\machinelearning_self_learn\\Knowledge_based_systems\\Regression\\Nairobi_Securities_Exchange_All_Stocks_Prices_2007_2012\\NSE_data_all_stocks_2012.csv with 16044 rows.\n",
      "Created new directory: c:\\Users\\HP\\Documents\\Projects\\school\\machinelearning_self_learn\\Knowledge_based_systems\\Regression\\Combined_NSE_Data\n",
      "All CSV files have been successfully combined into 'c:\\Users\\HP\\Documents\\Projects\\school\\machinelearning_self_learn\\Knowledge_based_systems\\Regression\\Combined_NSE_Data\\NSE_data_all_stocks_2007_2012_combined.csv'.\n"
     ]
    }
   ],
   "source": [
    "current_dir = os.getcwd()\n",
    "print(f\"Current working directory: {current_dir}\")\n",
    "\n",
    "path = os.path.join(current_dir, \"Nairobi_Securities_Exchange_All_Stocks_Prices_2007_2012\")\n",
    "print(f\"Full path: {path}\")\n",
    "print(f\"Full path: {path}\")\n",
    "if not os.path.isdir(path):\n",
    "    raise FileNotFoundError(f\"The directory '{path}' does not exist.\")\n",
    "\n",
    "csv_pattern_lower = os.path.join(path, \"NSE_data_all_stocks_*.csv\")\n",
    "csv_files = glob.glob(csv_pattern_lower)\n",
    "\n",
    "df_list = []\n",
    "for file in csv_files:\n",
    "    try:\n",
    "        df = pd.read_csv(file)\n",
    "        df_list.append(df)\n",
    "        print(f\"Successfully read: {file} with {len(df)} rows.\")\n",
    "    except Exception as e:\n",
    "        print(f\"Error reading {file}: {e}\")\n",
    "\n",
    "# Check if any DataFrames were successfully read\n",
    "if not df_list:\n",
    "    raise ValueError(\"No DataFrames were loaded. Please check the CSV files for readability.\")\n",
    "\n",
    "# Concatenate all DataFrames in the list into a single DataFrame\n",
    "combined_df = pd.concat(df_list, ignore_index=True, sort=False)\n",
    "\n",
    "# Create a new directory for combined output\n",
    "combined_output_dir = os.path.join(current_dir, \"Combined_NSE_Data\")\n",
    "if not os.path.exists(combined_output_dir):\n",
    "    os.makedirs(combined_output_dir)\n",
    "    print(f\"Created new directory: {combined_output_dir}\")\n",
    "\n",
    "output_file = os.path.join(combined_output_dir, \"NSE_data_all_stocks_2007_2012_combined.csv\")\n",
    "combined_df.to_csv(output_file, index=False)\n",
    "\n",
    "print(f\"All CSV files have been successfully combined into '{output_file}'.\")"
   ]
  }
 ],
 "metadata": {
  "kernelspec": {
   "display_name": "base",
   "language": "python",
   "name": "python3"
  },
  "language_info": {
   "codemirror_mode": {
    "name": "ipython",
    "version": 3
   },
   "file_extension": ".py",
   "mimetype": "text/x-python",
   "name": "python",
   "nbconvert_exporter": "python",
   "pygments_lexer": "ipython3",
   "version": "3.12.4"
  }
 },
 "nbformat": 4,
 "nbformat_minor": 2
}
