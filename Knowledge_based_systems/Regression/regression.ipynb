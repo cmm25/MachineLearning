{
 "cells": [
  {
   "cell_type": "markdown",
   "metadata": {},
   "source": [
    "Concatenation of all CSV's to one csv."
   ]
  },
  {
   "cell_type": "code",
   "execution_count": 761,
   "metadata": {},
   "outputs": [],
   "source": [
    "import pandas as pd\n",
    "import glob\n",
    "import os\n"
   ]
  },
  {
   "cell_type": "code",
   "execution_count": 762,
   "metadata": {},
   "outputs": [
    {
     "name": "stdout",
     "output_type": "stream",
     "text": [
      "Current working directory: c:\\Users\\HP\\Documents\\Projects\\school\\machinelearning_self_learn\\Knowledge_based_systems\\Regression\n",
      "Full path: c:\\Users\\HP\\Documents\\Projects\\school\\machinelearning_self_learn\\Knowledge_based_systems\\Regression\\Nairobi_Securities_Exchange_All_Stocks_Prices_2007_2012\n",
      "Full path: c:\\Users\\HP\\Documents\\Projects\\school\\machinelearning_self_learn\\Knowledge_based_systems\\Regression\\Nairobi_Securities_Exchange_All_Stocks_Prices_2007_2012\n",
      "Successfully read: c:\\Users\\HP\\Documents\\Projects\\school\\machinelearning_self_learn\\Knowledge_based_systems\\Regression\\Nairobi_Securities_Exchange_All_Stocks_Prices_2007_2012\\NSE_data_all_stocks_2007.csv with 10608 rows.\n",
      "Successfully read: c:\\Users\\HP\\Documents\\Projects\\school\\machinelearning_self_learn\\Knowledge_based_systems\\Regression\\Nairobi_Securities_Exchange_All_Stocks_Prices_2007_2012\\NSE_data_all_stocks_2008.csv with 10583 rows.\n",
      "Successfully read: c:\\Users\\HP\\Documents\\Projects\\school\\machinelearning_self_learn\\Knowledge_based_systems\\Regression\\Nairobi_Securities_Exchange_All_Stocks_Prices_2007_2012\\NSE_data_all_stocks_2009.csv with 14386 rows.\n",
      "Successfully read: c:\\Users\\HP\\Documents\\Projects\\school\\machinelearning_self_learn\\Knowledge_based_systems\\Regression\\Nairobi_Securities_Exchange_All_Stocks_Prices_2007_2012\\NSE_data_all_stocks_2010.csv with 14952 rows.\n",
      "Successfully read: c:\\Users\\HP\\Documents\\Projects\\school\\machinelearning_self_learn\\Knowledge_based_systems\\Regression\\Nairobi_Securities_Exchange_All_Stocks_Prices_2007_2012\\NSE_data_all_stocks_2011.csv with 14931 rows.\n",
      "Successfully read: c:\\Users\\HP\\Documents\\Projects\\school\\machinelearning_self_learn\\Knowledge_based_systems\\Regression\\Nairobi_Securities_Exchange_All_Stocks_Prices_2007_2012\\NSE_data_all_stocks_2012.csv with 16044 rows.\n",
      "All CSV files have been successfully combined into 'c:\\Users\\HP\\Documents\\Projects\\school\\machinelearning_self_learn\\Knowledge_based_systems\\Regression\\Combined_NSE_Data\\NSE_data_all_stocks_2007_2012_combined.csv'.\n"
     ]
    }
   ],
   "source": [
    "current_dir = os.getcwd()\n",
    "print(f\"Current working directory: {current_dir}\")\n",
    "\n",
    "path = os.path.join(current_dir, \"Nairobi_Securities_Exchange_All_Stocks_Prices_2007_2012\")\n",
    "print(f\"Full path: {path}\")\n",
    "print(f\"Full path: {path}\")\n",
    "if not os.path.isdir(path):\n",
    "    raise FileNotFoundError(f\"The directory '{path}' does not exist.\")\n",
    "\n",
    "csv_pattern_lower = os.path.join(path, \"NSE_data_all_stocks_*.csv\")\n",
    "csv_files = glob.glob(csv_pattern_lower)\n",
    "\n",
    "df_list = []\n",
    "for file in csv_files:\n",
    "    try:\n",
    "        df = pd.read_csv(file)\n",
    "        df_list.append(df)\n",
    "        print(f\"Successfully read: {file} with {len(df)} rows.\")\n",
    "    except Exception as e:\n",
    "        print(f\"Error reading {file}: {e}\")\n",
    "\n",
    "# Check if any DataFrames were successfully read\n",
    "if not df_list:\n",
    "    raise ValueError(\"No DataFrames were loaded. Please check the CSV files for readability.\")\n",
    "\n",
    "# Concatenate all DataFrames in the list into a single DataFrame\n",
    "combined_df = pd.concat(df_list, ignore_index=True, sort=False)\n",
    "\n",
    "# Create a new directory for combined output\n",
    "combined_output_dir = os.path.join(current_dir, \"Combined_NSE_Data\")\n",
    "if not os.path.exists(combined_output_dir):\n",
    "    os.makedirs(combined_output_dir)\n",
    "    print(f\"Created new directory: {combined_output_dir}\")\n",
    "\n",
    "output_file = os.path.join(combined_output_dir, \"NSE_data_all_stocks_2007_2012_combined.csv\")\n",
    "combined_df.to_csv(output_file, index=False)\n",
    "\n",
    "print(f\"All CSV files have been successfully combined into '{output_file}'.\")"
   ]
  },
  {
   "cell_type": "markdown",
   "metadata": {},
   "source": []
  },
  {
   "cell_type": "code",
   "execution_count": 763,
   "metadata": {},
   "outputs": [
    {
     "name": "stdout",
     "output_type": "stream",
     "text": [
      "           DATE  CODE        NAME 12m Low 12m High Day Low Day High Day Price  \\\n",
      "92     1/4/2007  LIMT  Limuru Tea     400      500     350      350       350   \n",
      "1972   3/6/2007  LIMT  Limuru Tea     400      500     400      400       400   \n",
      "2263  3/15/2007  LIMT  Limuru Tea     400      500     400      400       400   \n",
      "2305  3/16/2007  LIMT  Limuru Tea     400      500     400      400       400   \n",
      "2428  3/21/2007  LIMT  Limuru Tea     400      500     400      400       400   \n",
      "\n",
      "     Previous Change Change% Volume Adjust Date Adjusted  \n",
      "92        350      -       -    100    175  NaN      NaN  \n",
      "1972      350     50  12.50%    100    200  NaN      NaN  \n",
      "2263      400      -       -    500    200  NaN      NaN  \n",
      "2305      400      -       -    100    200  NaN      NaN  \n",
      "2428      400      -       -    100    200  NaN      NaN  \n"
     ]
    },
    {
     "name": "stderr",
     "output_type": "stream",
     "text": [
      "C:\\Users\\HP\\AppData\\Local\\Temp\\ipykernel_14176\\3842580086.py:1: DtypeWarning: Columns (13,14) have mixed types. Specify dtype option on import or set low_memory=False.\n",
      "  data = pd.read_csv(output_file)\n"
     ]
    }
   ],
   "source": [
    "data = pd.read_csv(output_file)\n",
    "\n",
    "limuru_data = data[data['CODE'] == 'LIMT']\n",
    "print(limuru_data.head())\n"
   ]
  },
  {
   "cell_type": "code",
   "execution_count": 764,
   "metadata": {},
   "outputs": [
    {
     "name": "stdout",
     "output_type": "stream",
     "text": [
      "The total number of rows in the dataset is 81504\n"
     ]
    }
   ],
   "source": [
    "data_size = len(data['CODE'])\n",
    "print(f\"The total number of rows in the dataset is {data_size}\")\n"
   ]
  },
  {
   "cell_type": "code",
   "execution_count": 765,
   "metadata": {},
   "outputs": [
    {
     "name": "stdout",
     "output_type": "stream",
     "text": [
      "             DATE  CODE        NAME 12m Low 12m High Day Low Day High  \\\n",
      "92       1/4/2007  LIMT  Limuru Tea     400      500     350      350   \n",
      "1972     3/6/2007  LIMT  Limuru Tea     400      500     400      400   \n",
      "2263    3/15/2007  LIMT  Limuru Tea     400      500     400      400   \n",
      "2305    3/16/2007  LIMT  Limuru Tea     400      500     400      400   \n",
      "2428    3/21/2007  LIMT  Limuru Tea     400      500     400      400   \n",
      "...           ...   ...         ...     ...      ...     ...      ...   \n",
      "81244  12/21/2012  LIMT  Limuru Tea     400      500     430      430   \n",
      "81308  12/24/2012  LIMT  Limuru Tea     400      500     430      430   \n",
      "81372  12/27/2012  LIMT  Limuru Tea     400      500     430      430   \n",
      "81436  12/28/2012  LIMT  Limuru Tea     400      500     430      430   \n",
      "81500  12/31/2012  LIMT  Limuru Tea     400      500     430      430   \n",
      "\n",
      "      Day Price Previous Change Change% Volume Adjust Date Adjusted  \n",
      "92          350      350      -       -    100    175  NaN      NaN  \n",
      "1972        400      350     50  12.50%    100    200  NaN      NaN  \n",
      "2263        400      400      -       -    500    200  NaN      NaN  \n",
      "2305        400      400      -       -    100    200  NaN      NaN  \n",
      "2428        400      400      -       -    100    200  NaN      NaN  \n",
      "...         ...      ...    ...     ...    ...    ...  ...      ...  \n",
      "81244       430      430      -       -      0      -  NaN      NaN  \n",
      "81308       430      430      -       -      0      -  NaN      NaN  \n",
      "81372       430      430      -       -      0      -  NaN      NaN  \n",
      "81436       430      430      -       -      0      -  NaN      NaN  \n",
      "81500       430      430      -       -      0      -  NaN      NaN  \n",
      "\n",
      "[995 rows x 15 columns]\n"
     ]
    }
   ],
   "source": [
    "print(limuru_data)"
   ]
  },
  {
   "cell_type": "markdown",
   "metadata": {},
   "source": [
    "# 📈 Predicting Limuru Stock Using Linear Regression 📊\n",
    "\n",
    "In this project, I am using **Linear Regression** to predict the stock price of **Limuru**. The **target variable** for the model is the **Day Price** 💹, which represents the stock's price for a given day.\n",
    "\n",
    "### 🔑 Key Points:\n",
    "- **Model Type**: Linear Regression 🤖\n",
    "- **Target Variable**: Day Price 💵\n",
    "- **Objective**: Predict the stock price on any given day, helping stock buyers make informed decisions 🛍️.\n",
    "\n",
    "This model will leverage historical stock data 📅 to predict the future price movement 🔮, offering valuable insights into Limuru's stock performance 🚀.\n"
   ]
  },
  {
   "cell_type": "code",
   "execution_count": 766,
   "metadata": {},
   "outputs": [
    {
     "name": "stdout",
     "output_type": "stream",
     "text": [
      "🔍 Missing values in each column:\n",
      "DATE           5\n",
      "CODE           0\n",
      "NAME           0\n",
      "12m Low        0\n",
      "12m High       0\n",
      "Day Low        0\n",
      "Day High       0\n",
      "Day Price      0\n",
      "Previous       0\n",
      "Change         0\n",
      "Change%        0\n",
      "Volume         0\n",
      "Adjust         5\n",
      "Date         990\n",
      "Adjusted     990\n",
      "dtype: int64\n"
     ]
    }
   ],
   "source": [
    "missing_values = limuru_data.isnull().sum()\n",
    "print(\"🔍 Missing values in each column:\")\n",
    "print(missing_values)"
   ]
  },
  {
   "cell_type": "code",
   "execution_count": 767,
   "metadata": {},
   "outputs": [
    {
     "name": "stdout",
     "output_type": "stream",
     "text": [
      "<class 'pandas.core.frame.DataFrame'>\n",
      "Index: 995 entries, 92 to 81500\n",
      "Data columns (total 16 columns):\n",
      " #   Column     Non-Null Count  Dtype         \n",
      "---  ------     --------------  -----         \n",
      " 0   DATE       990 non-null    datetime64[ns]\n",
      " 1   CODE       995 non-null    object        \n",
      " 2   NAME       995 non-null    object        \n",
      " 3   12m Low    995 non-null    object        \n",
      " 4   12m High   995 non-null    object        \n",
      " 5   Day Low    995 non-null    object        \n",
      " 6   Day High   995 non-null    object        \n",
      " 7   Day Price  995 non-null    object        \n",
      " 8   Previous   995 non-null    object        \n",
      " 9   Change     995 non-null    object        \n",
      " 10  Change%    995 non-null    object        \n",
      " 11  Volume     995 non-null    object        \n",
      " 12  Adjust     990 non-null    object        \n",
      " 13  Date       5 non-null      object        \n",
      " 14  Adjusted   5 non-null      object        \n",
      " 15  Year       990 non-null    float64       \n",
      "dtypes: datetime64[ns](1), float64(1), object(14)\n",
      "memory usage: 132.1+ KB\n"
     ]
    },
    {
     "name": "stderr",
     "output_type": "stream",
     "text": [
      "C:\\Users\\HP\\AppData\\Local\\Temp\\ipykernel_14176\\441026628.py:1: SettingWithCopyWarning: \n",
      "A value is trying to be set on a copy of a slice from a DataFrame.\n",
      "Try using .loc[row_indexer,col_indexer] = value instead\n",
      "\n",
      "See the caveats in the documentation: https://pandas.pydata.org/pandas-docs/stable/user_guide/indexing.html#returning-a-view-versus-a-copy\n",
      "  limuru_data['DATE'] = pd.to_datetime(limuru_data['DATE'], format='%m/%d/%Y', errors='coerce')\n",
      "C:\\Users\\HP\\AppData\\Local\\Temp\\ipykernel_14176\\441026628.py:4: SettingWithCopyWarning: \n",
      "A value is trying to be set on a copy of a slice from a DataFrame.\n",
      "Try using .loc[row_indexer,col_indexer] = value instead\n",
      "\n",
      "See the caveats in the documentation: https://pandas.pydata.org/pandas-docs/stable/user_guide/indexing.html#returning-a-view-versus-a-copy\n",
      "  limuru_data['Year'] = limuru_data['DATE'].dt.year\n"
     ]
    }
   ],
   "source": [
    "limuru_data['DATE'] = pd.to_datetime(limuru_data['DATE'], format='%m/%d/%Y', errors='coerce')\n",
    "\n",
    "# Extract year and create a new 'Year' column\n",
    "limuru_data['Year'] = limuru_data['DATE'].dt.year\n",
    "limuru_data.info()"
   ]
  },
  {
   "cell_type": "code",
   "execution_count": 768,
   "metadata": {},
   "outputs": [
    {
     "name": "stderr",
     "output_type": "stream",
     "text": [
      "C:\\Users\\HP\\AppData\\Local\\Temp\\ipykernel_14176\\2513055157.py:1: FutureWarning: DataFrame.fillna with 'method' is deprecated and will raise in a future version. Use obj.ffill() or obj.bfill() instead.\n",
      "  limuru_data = limuru_data.fillna(method='ffill')\n"
     ]
    },
    {
     "name": "stdout",
     "output_type": "stream",
     "text": [
      "\n",
      "✅ Data after forward filling missing values:\n",
      "<class 'pandas.core.frame.DataFrame'>\n",
      "RangeIndex: 81504 entries, 0 to 81503\n",
      "Data columns (total 15 columns):\n",
      " #   Column     Non-Null Count  Dtype \n",
      "---  ------     --------------  ----- \n",
      " 0   DATE       70921 non-null  object\n",
      " 1   CODE       81504 non-null  object\n",
      " 2   NAME       81456 non-null  object\n",
      " 3   12m Low    81504 non-null  object\n",
      " 4   12m High   81504 non-null  object\n",
      " 5   Day Low    81504 non-null  object\n",
      " 6   Day High   81504 non-null  object\n",
      " 7   Day Price  81504 non-null  object\n",
      " 8   Previous   81504 non-null  object\n",
      " 9   Change     81504 non-null  object\n",
      " 10  Change%    81504 non-null  object\n",
      " 11  Volume     81504 non-null  object\n",
      " 12  Adjust     70921 non-null  object\n",
      " 13  Date       10583 non-null  object\n",
      " 14  Adjusted   10583 non-null  object\n",
      "dtypes: object(15)\n",
      "memory usage: 9.3+ MB\n",
      "None\n"
     ]
    }
   ],
   "source": [
    "limuru_data = limuru_data.fillna(method='ffill') \n",
    "print(\"\\n✅ Data after forward filling missing values:\")\n",
    "print(data.info())\n"
   ]
  },
  {
   "cell_type": "code",
   "execution_count": 769,
   "metadata": {},
   "outputs": [
    {
     "name": "stdout",
     "output_type": "stream",
     "text": [
      "\n",
      "✅ Data after forward filling missing values:\n"
     ]
    },
    {
     "name": "stderr",
     "output_type": "stream",
     "text": [
      "C:\\Users\\HP\\AppData\\Local\\Temp\\ipykernel_14176\\2513055157.py:1: FutureWarning: DataFrame.fillna with 'method' is deprecated and will raise in a future version. Use obj.ffill() or obj.bfill() instead.\n",
      "  limuru_data = limuru_data.fillna(method='ffill')\n"
     ]
    },
    {
     "name": "stdout",
     "output_type": "stream",
     "text": [
      "<class 'pandas.core.frame.DataFrame'>\n",
      "RangeIndex: 81504 entries, 0 to 81503\n",
      "Data columns (total 15 columns):\n",
      " #   Column     Non-Null Count  Dtype \n",
      "---  ------     --------------  ----- \n",
      " 0   DATE       70921 non-null  object\n",
      " 1   CODE       81504 non-null  object\n",
      " 2   NAME       81456 non-null  object\n",
      " 3   12m Low    81504 non-null  object\n",
      " 4   12m High   81504 non-null  object\n",
      " 5   Day Low    81504 non-null  object\n",
      " 6   Day High   81504 non-null  object\n",
      " 7   Day Price  81504 non-null  object\n",
      " 8   Previous   81504 non-null  object\n",
      " 9   Change     81504 non-null  object\n",
      " 10  Change%    81504 non-null  object\n",
      " 11  Volume     81504 non-null  object\n",
      " 12  Adjust     70921 non-null  object\n",
      " 13  Date       10583 non-null  object\n",
      " 14  Adjusted   10583 non-null  object\n",
      "dtypes: object(15)\n",
      "memory usage: 9.3+ MB\n",
      "None\n"
     ]
    }
   ],
   "source": [
    "limuru_data = limuru_data.fillna(method='ffill') \n",
    "print(\"\\n✅ Data after forward filling missing values:\")\n",
    "print(data.info())\n"
   ]
  },
  {
   "cell_type": "code",
   "execution_count": 770,
   "metadata": {},
   "outputs": [
    {
     "name": "stdout",
     "output_type": "stream",
     "text": [
      "🔍 Missing values in each column:\n",
      "DATE         0\n",
      "CODE         0\n",
      "NAME         0\n",
      "12m Low      0\n",
      "12m High     0\n",
      "Day Low      0\n",
      "Day High     0\n",
      "Day Price    0\n",
      "Previous     0\n",
      "Change       0\n",
      "Change%      0\n",
      "Volume       0\n",
      "Adjust       0\n",
      "Date         7\n",
      "Adjusted     7\n",
      "Year         0\n",
      "dtype: int64\n"
     ]
    }
   ],
   "source": [
    "missing_values = limuru_data.isnull().sum()\n",
    "print(\"🔍 Missing values in each column:\")\n",
    "print(missing_values)\n"
   ]
  },
  {
   "cell_type": "code",
   "execution_count": 771,
   "metadata": {},
   "outputs": [
    {
     "data": {
      "text/plain": [
       "2"
      ]
     },
     "execution_count": 771,
     "metadata": {},
     "output_type": "execute_result"
    }
   ],
   "source": [
    "limuru_data.duplicated().sum()"
   ]
  },
  {
   "cell_type": "code",
   "execution_count": 772,
   "metadata": {},
   "outputs": [
    {
     "data": {
      "text/html": [
       "<div>\n",
       "<style scoped>\n",
       "    .dataframe tbody tr th:only-of-type {\n",
       "        vertical-align: middle;\n",
       "    }\n",
       "\n",
       "    .dataframe tbody tr th {\n",
       "        vertical-align: top;\n",
       "    }\n",
       "\n",
       "    .dataframe thead th {\n",
       "        text-align: right;\n",
       "    }\n",
       "</style>\n",
       "<table border=\"1\" class=\"dataframe\">\n",
       "  <thead>\n",
       "    <tr style=\"text-align: right;\">\n",
       "      <th></th>\n",
       "      <th>DATE</th>\n",
       "      <th>CODE</th>\n",
       "      <th>NAME</th>\n",
       "      <th>12m Low</th>\n",
       "      <th>12m High</th>\n",
       "      <th>Day Low</th>\n",
       "      <th>Day High</th>\n",
       "      <th>Day Price</th>\n",
       "      <th>Previous</th>\n",
       "      <th>Change</th>\n",
       "      <th>Change%</th>\n",
       "      <th>Volume</th>\n",
       "      <th>Adjust</th>\n",
       "      <th>Date</th>\n",
       "      <th>Adjusted</th>\n",
       "      <th>Year</th>\n",
       "    </tr>\n",
       "  </thead>\n",
       "  <tbody>\n",
       "    <tr>\n",
       "      <th>92</th>\n",
       "      <td>2007-01-04</td>\n",
       "      <td>LIMT</td>\n",
       "      <td>Limuru Tea</td>\n",
       "      <td>400</td>\n",
       "      <td>500</td>\n",
       "      <td>350</td>\n",
       "      <td>350</td>\n",
       "      <td>350</td>\n",
       "      <td>350</td>\n",
       "      <td>-</td>\n",
       "      <td>-</td>\n",
       "      <td>100</td>\n",
       "      <td>175</td>\n",
       "      <td>NaN</td>\n",
       "      <td>NaN</td>\n",
       "      <td>2007.0</td>\n",
       "    </tr>\n",
       "    <tr>\n",
       "      <th>1972</th>\n",
       "      <td>2007-03-06</td>\n",
       "      <td>LIMT</td>\n",
       "      <td>Limuru Tea</td>\n",
       "      <td>400</td>\n",
       "      <td>500</td>\n",
       "      <td>400</td>\n",
       "      <td>400</td>\n",
       "      <td>400</td>\n",
       "      <td>350</td>\n",
       "      <td>50</td>\n",
       "      <td>12.50%</td>\n",
       "      <td>100</td>\n",
       "      <td>200</td>\n",
       "      <td>NaN</td>\n",
       "      <td>NaN</td>\n",
       "      <td>2007.0</td>\n",
       "    </tr>\n",
       "    <tr>\n",
       "      <th>2263</th>\n",
       "      <td>2007-03-15</td>\n",
       "      <td>LIMT</td>\n",
       "      <td>Limuru Tea</td>\n",
       "      <td>400</td>\n",
       "      <td>500</td>\n",
       "      <td>400</td>\n",
       "      <td>400</td>\n",
       "      <td>400</td>\n",
       "      <td>400</td>\n",
       "      <td>-</td>\n",
       "      <td>-</td>\n",
       "      <td>500</td>\n",
       "      <td>200</td>\n",
       "      <td>NaN</td>\n",
       "      <td>NaN</td>\n",
       "      <td>2007.0</td>\n",
       "    </tr>\n",
       "    <tr>\n",
       "      <th>2305</th>\n",
       "      <td>2007-03-16</td>\n",
       "      <td>LIMT</td>\n",
       "      <td>Limuru Tea</td>\n",
       "      <td>400</td>\n",
       "      <td>500</td>\n",
       "      <td>400</td>\n",
       "      <td>400</td>\n",
       "      <td>400</td>\n",
       "      <td>400</td>\n",
       "      <td>-</td>\n",
       "      <td>-</td>\n",
       "      <td>100</td>\n",
       "      <td>200</td>\n",
       "      <td>NaN</td>\n",
       "      <td>NaN</td>\n",
       "      <td>2007.0</td>\n",
       "    </tr>\n",
       "    <tr>\n",
       "      <th>2428</th>\n",
       "      <td>2007-03-21</td>\n",
       "      <td>LIMT</td>\n",
       "      <td>Limuru Tea</td>\n",
       "      <td>400</td>\n",
       "      <td>500</td>\n",
       "      <td>400</td>\n",
       "      <td>400</td>\n",
       "      <td>400</td>\n",
       "      <td>400</td>\n",
       "      <td>-</td>\n",
       "      <td>-</td>\n",
       "      <td>100</td>\n",
       "      <td>200</td>\n",
       "      <td>NaN</td>\n",
       "      <td>NaN</td>\n",
       "      <td>2007.0</td>\n",
       "    </tr>\n",
       "    <tr>\n",
       "      <th>...</th>\n",
       "      <td>...</td>\n",
       "      <td>...</td>\n",
       "      <td>...</td>\n",
       "      <td>...</td>\n",
       "      <td>...</td>\n",
       "      <td>...</td>\n",
       "      <td>...</td>\n",
       "      <td>...</td>\n",
       "      <td>...</td>\n",
       "      <td>...</td>\n",
       "      <td>...</td>\n",
       "      <td>...</td>\n",
       "      <td>...</td>\n",
       "      <td>...</td>\n",
       "      <td>...</td>\n",
       "      <td>...</td>\n",
       "    </tr>\n",
       "    <tr>\n",
       "      <th>81244</th>\n",
       "      <td>2012-12-21</td>\n",
       "      <td>LIMT</td>\n",
       "      <td>Limuru Tea</td>\n",
       "      <td>400</td>\n",
       "      <td>500</td>\n",
       "      <td>430</td>\n",
       "      <td>430</td>\n",
       "      <td>430</td>\n",
       "      <td>430</td>\n",
       "      <td>-</td>\n",
       "      <td>-</td>\n",
       "      <td>0</td>\n",
       "      <td>-</td>\n",
       "      <td>12/4/2008</td>\n",
       "      <td>152.5</td>\n",
       "      <td>2012.0</td>\n",
       "    </tr>\n",
       "    <tr>\n",
       "      <th>81308</th>\n",
       "      <td>2012-12-24</td>\n",
       "      <td>LIMT</td>\n",
       "      <td>Limuru Tea</td>\n",
       "      <td>400</td>\n",
       "      <td>500</td>\n",
       "      <td>430</td>\n",
       "      <td>430</td>\n",
       "      <td>430</td>\n",
       "      <td>430</td>\n",
       "      <td>-</td>\n",
       "      <td>-</td>\n",
       "      <td>0</td>\n",
       "      <td>-</td>\n",
       "      <td>12/4/2008</td>\n",
       "      <td>152.5</td>\n",
       "      <td>2012.0</td>\n",
       "    </tr>\n",
       "    <tr>\n",
       "      <th>81372</th>\n",
       "      <td>2012-12-27</td>\n",
       "      <td>LIMT</td>\n",
       "      <td>Limuru Tea</td>\n",
       "      <td>400</td>\n",
       "      <td>500</td>\n",
       "      <td>430</td>\n",
       "      <td>430</td>\n",
       "      <td>430</td>\n",
       "      <td>430</td>\n",
       "      <td>-</td>\n",
       "      <td>-</td>\n",
       "      <td>0</td>\n",
       "      <td>-</td>\n",
       "      <td>12/4/2008</td>\n",
       "      <td>152.5</td>\n",
       "      <td>2012.0</td>\n",
       "    </tr>\n",
       "    <tr>\n",
       "      <th>81436</th>\n",
       "      <td>2012-12-28</td>\n",
       "      <td>LIMT</td>\n",
       "      <td>Limuru Tea</td>\n",
       "      <td>400</td>\n",
       "      <td>500</td>\n",
       "      <td>430</td>\n",
       "      <td>430</td>\n",
       "      <td>430</td>\n",
       "      <td>430</td>\n",
       "      <td>-</td>\n",
       "      <td>-</td>\n",
       "      <td>0</td>\n",
       "      <td>-</td>\n",
       "      <td>12/4/2008</td>\n",
       "      <td>152.5</td>\n",
       "      <td>2012.0</td>\n",
       "    </tr>\n",
       "    <tr>\n",
       "      <th>81500</th>\n",
       "      <td>2012-12-31</td>\n",
       "      <td>LIMT</td>\n",
       "      <td>Limuru Tea</td>\n",
       "      <td>400</td>\n",
       "      <td>500</td>\n",
       "      <td>430</td>\n",
       "      <td>430</td>\n",
       "      <td>430</td>\n",
       "      <td>430</td>\n",
       "      <td>-</td>\n",
       "      <td>-</td>\n",
       "      <td>0</td>\n",
       "      <td>-</td>\n",
       "      <td>12/4/2008</td>\n",
       "      <td>152.5</td>\n",
       "      <td>2012.0</td>\n",
       "    </tr>\n",
       "  </tbody>\n",
       "</table>\n",
       "<p>993 rows × 16 columns</p>\n",
       "</div>"
      ],
      "text/plain": [
       "            DATE  CODE        NAME 12m Low 12m High Day Low Day High  \\\n",
       "92    2007-01-04  LIMT  Limuru Tea     400      500     350      350   \n",
       "1972  2007-03-06  LIMT  Limuru Tea     400      500     400      400   \n",
       "2263  2007-03-15  LIMT  Limuru Tea     400      500     400      400   \n",
       "2305  2007-03-16  LIMT  Limuru Tea     400      500     400      400   \n",
       "2428  2007-03-21  LIMT  Limuru Tea     400      500     400      400   \n",
       "...          ...   ...         ...     ...      ...     ...      ...   \n",
       "81244 2012-12-21  LIMT  Limuru Tea     400      500     430      430   \n",
       "81308 2012-12-24  LIMT  Limuru Tea     400      500     430      430   \n",
       "81372 2012-12-27  LIMT  Limuru Tea     400      500     430      430   \n",
       "81436 2012-12-28  LIMT  Limuru Tea     400      500     430      430   \n",
       "81500 2012-12-31  LIMT  Limuru Tea     400      500     430      430   \n",
       "\n",
       "      Day Price Previous Change Change% Volume Adjust       Date Adjusted  \\\n",
       "92          350      350      -       -    100    175        NaN      NaN   \n",
       "1972        400      350     50  12.50%    100    200        NaN      NaN   \n",
       "2263        400      400      -       -    500    200        NaN      NaN   \n",
       "2305        400      400      -       -    100    200        NaN      NaN   \n",
       "2428        400      400      -       -    100    200        NaN      NaN   \n",
       "...         ...      ...    ...     ...    ...    ...        ...      ...   \n",
       "81244       430      430      -       -      0      -  12/4/2008    152.5   \n",
       "81308       430      430      -       -      0      -  12/4/2008    152.5   \n",
       "81372       430      430      -       -      0      -  12/4/2008    152.5   \n",
       "81436       430      430      -       -      0      -  12/4/2008    152.5   \n",
       "81500       430      430      -       -      0      -  12/4/2008    152.5   \n",
       "\n",
       "         Year  \n",
       "92     2007.0  \n",
       "1972   2007.0  \n",
       "2263   2007.0  \n",
       "2305   2007.0  \n",
       "2428   2007.0  \n",
       "...       ...  \n",
       "81244  2012.0  \n",
       "81308  2012.0  \n",
       "81372  2012.0  \n",
       "81436  2012.0  \n",
       "81500  2012.0  \n",
       "\n",
       "[993 rows x 16 columns]"
      ]
     },
     "execution_count": 772,
     "metadata": {},
     "output_type": "execute_result"
    }
   ],
   "source": [
    "limuru_data.drop_duplicates()\n"
   ]
  },
  {
   "cell_type": "code",
   "execution_count": 773,
   "metadata": {},
   "outputs": [
    {
     "data": {
      "text/plain": [
       "DATE         0\n",
       "CODE         0\n",
       "NAME         0\n",
       "12m Low      0\n",
       "12m High     0\n",
       "Day Low      0\n",
       "Day High     0\n",
       "Day Price    0\n",
       "Previous     0\n",
       "Change       0\n",
       "Change%      0\n",
       "Volume       0\n",
       "Adjust       0\n",
       "Date         7\n",
       "Adjusted     7\n",
       "Year         0\n",
       "dtype: int64"
      ]
     },
     "execution_count": 773,
     "metadata": {},
     "output_type": "execute_result"
    }
   ],
   "source": [
    "limuru_data.isnull().sum()"
   ]
  },
  {
   "cell_type": "code",
   "execution_count": 774,
   "metadata": {},
   "outputs": [
    {
     "name": "stdout",
     "output_type": "stream",
     "text": [
      "0\n"
     ]
    },
    {
     "name": "stderr",
     "output_type": "stream",
     "text": [
      "C:\\Users\\HP\\AppData\\Local\\Temp\\ipykernel_14176\\2483635251.py:1: FutureWarning: Series.fillna with 'method' is deprecated and will raise in a future version. Use obj.ffill() or obj.bfill() instead.\n",
      "  limuru_data['DATE'] = limuru_data['DATE'].fillna(method='ffill')\n"
     ]
    }
   ],
   "source": [
    "limuru_data['DATE'] = limuru_data['DATE'].fillna(method='ffill')\n",
    "print(limuru_data[\"DATE\"].isnull().sum())"
   ]
  },
  {
   "cell_type": "code",
   "execution_count": 775,
   "metadata": {},
   "outputs": [
    {
     "data": {
      "text/html": [
       "<div>\n",
       "<style scoped>\n",
       "    .dataframe tbody tr th:only-of-type {\n",
       "        vertical-align: middle;\n",
       "    }\n",
       "\n",
       "    .dataframe tbody tr th {\n",
       "        vertical-align: top;\n",
       "    }\n",
       "\n",
       "    .dataframe thead th {\n",
       "        text-align: right;\n",
       "    }\n",
       "</style>\n",
       "<table border=\"1\" class=\"dataframe\">\n",
       "  <thead>\n",
       "    <tr style=\"text-align: right;\">\n",
       "      <th></th>\n",
       "      <th>DATE</th>\n",
       "      <th>CODE</th>\n",
       "      <th>NAME</th>\n",
       "      <th>12m Low</th>\n",
       "      <th>12m High</th>\n",
       "      <th>Day Low</th>\n",
       "      <th>Day High</th>\n",
       "      <th>Day Price</th>\n",
       "      <th>Previous</th>\n",
       "      <th>Volume</th>\n",
       "      <th>Year</th>\n",
       "    </tr>\n",
       "  </thead>\n",
       "  <tbody>\n",
       "    <tr>\n",
       "      <th>92</th>\n",
       "      <td>2007-01-04</td>\n",
       "      <td>LIMT</td>\n",
       "      <td>Limuru Tea</td>\n",
       "      <td>400</td>\n",
       "      <td>500</td>\n",
       "      <td>350</td>\n",
       "      <td>350</td>\n",
       "      <td>350</td>\n",
       "      <td>350</td>\n",
       "      <td>100</td>\n",
       "      <td>2007.0</td>\n",
       "    </tr>\n",
       "    <tr>\n",
       "      <th>1972</th>\n",
       "      <td>2007-03-06</td>\n",
       "      <td>LIMT</td>\n",
       "      <td>Limuru Tea</td>\n",
       "      <td>400</td>\n",
       "      <td>500</td>\n",
       "      <td>400</td>\n",
       "      <td>400</td>\n",
       "      <td>400</td>\n",
       "      <td>350</td>\n",
       "      <td>100</td>\n",
       "      <td>2007.0</td>\n",
       "    </tr>\n",
       "    <tr>\n",
       "      <th>2263</th>\n",
       "      <td>2007-03-15</td>\n",
       "      <td>LIMT</td>\n",
       "      <td>Limuru Tea</td>\n",
       "      <td>400</td>\n",
       "      <td>500</td>\n",
       "      <td>400</td>\n",
       "      <td>400</td>\n",
       "      <td>400</td>\n",
       "      <td>400</td>\n",
       "      <td>500</td>\n",
       "      <td>2007.0</td>\n",
       "    </tr>\n",
       "    <tr>\n",
       "      <th>2305</th>\n",
       "      <td>2007-03-16</td>\n",
       "      <td>LIMT</td>\n",
       "      <td>Limuru Tea</td>\n",
       "      <td>400</td>\n",
       "      <td>500</td>\n",
       "      <td>400</td>\n",
       "      <td>400</td>\n",
       "      <td>400</td>\n",
       "      <td>400</td>\n",
       "      <td>100</td>\n",
       "      <td>2007.0</td>\n",
       "    </tr>\n",
       "    <tr>\n",
       "      <th>2428</th>\n",
       "      <td>2007-03-21</td>\n",
       "      <td>LIMT</td>\n",
       "      <td>Limuru Tea</td>\n",
       "      <td>400</td>\n",
       "      <td>500</td>\n",
       "      <td>400</td>\n",
       "      <td>400</td>\n",
       "      <td>400</td>\n",
       "      <td>400</td>\n",
       "      <td>100</td>\n",
       "      <td>2007.0</td>\n",
       "    </tr>\n",
       "    <tr>\n",
       "      <th>...</th>\n",
       "      <td>...</td>\n",
       "      <td>...</td>\n",
       "      <td>...</td>\n",
       "      <td>...</td>\n",
       "      <td>...</td>\n",
       "      <td>...</td>\n",
       "      <td>...</td>\n",
       "      <td>...</td>\n",
       "      <td>...</td>\n",
       "      <td>...</td>\n",
       "      <td>...</td>\n",
       "    </tr>\n",
       "    <tr>\n",
       "      <th>81244</th>\n",
       "      <td>2012-12-21</td>\n",
       "      <td>LIMT</td>\n",
       "      <td>Limuru Tea</td>\n",
       "      <td>400</td>\n",
       "      <td>500</td>\n",
       "      <td>430</td>\n",
       "      <td>430</td>\n",
       "      <td>430</td>\n",
       "      <td>430</td>\n",
       "      <td>0</td>\n",
       "      <td>2012.0</td>\n",
       "    </tr>\n",
       "    <tr>\n",
       "      <th>81308</th>\n",
       "      <td>2012-12-24</td>\n",
       "      <td>LIMT</td>\n",
       "      <td>Limuru Tea</td>\n",
       "      <td>400</td>\n",
       "      <td>500</td>\n",
       "      <td>430</td>\n",
       "      <td>430</td>\n",
       "      <td>430</td>\n",
       "      <td>430</td>\n",
       "      <td>0</td>\n",
       "      <td>2012.0</td>\n",
       "    </tr>\n",
       "    <tr>\n",
       "      <th>81372</th>\n",
       "      <td>2012-12-27</td>\n",
       "      <td>LIMT</td>\n",
       "      <td>Limuru Tea</td>\n",
       "      <td>400</td>\n",
       "      <td>500</td>\n",
       "      <td>430</td>\n",
       "      <td>430</td>\n",
       "      <td>430</td>\n",
       "      <td>430</td>\n",
       "      <td>0</td>\n",
       "      <td>2012.0</td>\n",
       "    </tr>\n",
       "    <tr>\n",
       "      <th>81436</th>\n",
       "      <td>2012-12-28</td>\n",
       "      <td>LIMT</td>\n",
       "      <td>Limuru Tea</td>\n",
       "      <td>400</td>\n",
       "      <td>500</td>\n",
       "      <td>430</td>\n",
       "      <td>430</td>\n",
       "      <td>430</td>\n",
       "      <td>430</td>\n",
       "      <td>0</td>\n",
       "      <td>2012.0</td>\n",
       "    </tr>\n",
       "    <tr>\n",
       "      <th>81500</th>\n",
       "      <td>2012-12-31</td>\n",
       "      <td>LIMT</td>\n",
       "      <td>Limuru Tea</td>\n",
       "      <td>400</td>\n",
       "      <td>500</td>\n",
       "      <td>430</td>\n",
       "      <td>430</td>\n",
       "      <td>430</td>\n",
       "      <td>430</td>\n",
       "      <td>0</td>\n",
       "      <td>2012.0</td>\n",
       "    </tr>\n",
       "  </tbody>\n",
       "</table>\n",
       "<p>995 rows × 11 columns</p>\n",
       "</div>"
      ],
      "text/plain": [
       "            DATE  CODE        NAME 12m Low 12m High Day Low Day High  \\\n",
       "92    2007-01-04  LIMT  Limuru Tea     400      500     350      350   \n",
       "1972  2007-03-06  LIMT  Limuru Tea     400      500     400      400   \n",
       "2263  2007-03-15  LIMT  Limuru Tea     400      500     400      400   \n",
       "2305  2007-03-16  LIMT  Limuru Tea     400      500     400      400   \n",
       "2428  2007-03-21  LIMT  Limuru Tea     400      500     400      400   \n",
       "...          ...   ...         ...     ...      ...     ...      ...   \n",
       "81244 2012-12-21  LIMT  Limuru Tea     400      500     430      430   \n",
       "81308 2012-12-24  LIMT  Limuru Tea     400      500     430      430   \n",
       "81372 2012-12-27  LIMT  Limuru Tea     400      500     430      430   \n",
       "81436 2012-12-28  LIMT  Limuru Tea     400      500     430      430   \n",
       "81500 2012-12-31  LIMT  Limuru Tea     400      500     430      430   \n",
       "\n",
       "      Day Price Previous Volume    Year  \n",
       "92          350      350    100  2007.0  \n",
       "1972        400      350    100  2007.0  \n",
       "2263        400      400    500  2007.0  \n",
       "2305        400      400    100  2007.0  \n",
       "2428        400      400    100  2007.0  \n",
       "...         ...      ...    ...     ...  \n",
       "81244       430      430      0  2012.0  \n",
       "81308       430      430      0  2012.0  \n",
       "81372       430      430      0  2012.0  \n",
       "81436       430      430      0  2012.0  \n",
       "81500       430      430      0  2012.0  \n",
       "\n",
       "[995 rows x 11 columns]"
      ]
     },
     "execution_count": 775,
     "metadata": {},
     "output_type": "execute_result"
    }
   ],
   "source": [
    "columns_to_drop = ['Date','Change','Change%','Adjust', 'Adjusted']\n",
    "limuru_data = limuru_data.drop(columns=columns_to_drop)\n",
    "limuru_data"
   ]
  },
  {
   "cell_type": "code",
   "execution_count": 776,
   "metadata": {},
   "outputs": [
    {
     "data": {
      "text/plain": [
       "DATE         0\n",
       "CODE         0\n",
       "NAME         0\n",
       "12m Low      0\n",
       "12m High     0\n",
       "Day Low      0\n",
       "Day High     0\n",
       "Day Price    0\n",
       "Previous     0\n",
       "Volume       0\n",
       "Year         0\n",
       "dtype: int64"
      ]
     },
     "execution_count": 776,
     "metadata": {},
     "output_type": "execute_result"
    }
   ],
   "source": [
    "limuru_data.isnull().sum()"
   ]
  },
  {
   "cell_type": "code",
   "execution_count": 777,
   "metadata": {},
   "outputs": [],
   "source": [
    "limuru_data['Previous'] = limuru_data['Previous'].fillna(limuru_data['Day Price'])"
   ]
  },
  {
   "cell_type": "code",
   "execution_count": 778,
   "metadata": {},
   "outputs": [
    {
     "name": "stdout",
     "output_type": "stream",
     "text": [
      "<class 'pandas.core.frame.DataFrame'>\n",
      "Index: 995 entries, 92 to 81500\n",
      "Data columns (total 11 columns):\n",
      " #   Column     Non-Null Count  Dtype         \n",
      "---  ------     --------------  -----         \n",
      " 0   DATE       995 non-null    datetime64[ns]\n",
      " 1   CODE       995 non-null    object        \n",
      " 2   NAME       995 non-null    object        \n",
      " 3   12m Low    995 non-null    int64         \n",
      " 4   12m High   995 non-null    int64         \n",
      " 5   Day Low    995 non-null    int64         \n",
      " 6   Day High   995 non-null    int64         \n",
      " 7   Day Price  995 non-null    int64         \n",
      " 8   Previous   995 non-null    int64         \n",
      " 9   Volume     995 non-null    int64         \n",
      " 10  Year       995 non-null    float64       \n",
      "dtypes: datetime64[ns](1), float64(1), int64(7), object(2)\n",
      "memory usage: 93.3+ KB\n"
     ]
    }
   ],
   "source": [
    "numeric_columns = ['12m Low', '12m High', 'Day Low', 'Day High', 'Day Price',\n",
    "                    'Previous','Volume']\n",
    "for col in numeric_columns:\n",
    "    limuru_data[col] = pd.to_numeric(\n",
    "        limuru_data[col].replace('[^0-9.-]', '', regex=True), errors='coerce'\n",
    "    )\n",
    "limuru_data.info()"
   ]
  },
  {
   "cell_type": "markdown",
   "metadata": {},
   "source": [
    "### **Data Visualization: Trends Present in Limuru Stock Price** 📈  \n",
    "\n",
    "Now that we have our dataset cleaned and preprocessed, we can analyze the distribution of stock prices, time series trends, and other related graphs to visualize the data effectively.  \n"
   ]
  },
  {
   "cell_type": "code",
   "execution_count": 779,
   "metadata": {},
   "outputs": [],
   "source": [
    "import matplotlib.pyplot as plt\n",
    "import seaborn as sns"
   ]
  },
  {
   "cell_type": "code",
   "execution_count": 780,
   "metadata": {},
   "outputs": [],
   "source": [
    "fig_size = (15, 6)"
   ]
  },
  {
   "cell_type": "markdown",
   "metadata": {},
   "source": [
    "###  Box Plot for Price Distribution\n",
    "---"
   ]
  },
  {
   "cell_type": "code",
   "execution_count": 781,
   "metadata": {},
   "outputs": [
    {
     "data": {
      "image/png": "[encoded data removed]",
      "text/plain": [
       "<Figure size 1500x600 with 1 Axes>"
      ]
     },
     "metadata": {},
     "output_type": "display_data"
    }
   ],
   "source": [
    "plt.figure(figsize=fig_size)\n",
    "sns.boxplot(y=limuru_data['Day Price'])\n",
    "plt.title('Box Plot of Day Prices')\n",
    "plt.ylabel('Stock Price')\n",
    "plt.tight_layout()\n",
    "plt.show()"
   ]
  },
  {
   "cell_type": "code",
   "execution_count": 782,
   "metadata": {},
   "outputs": [
    {
     "data": {
      "image/png": "[encoded data removed]",
      "text/plain": [
       "<Figure size 1500x600 with 1 Axes>"
      ]
     },
     "metadata": {},
     "output_type": "display_data"
    }
   ],
   "source": [
    "plt.figure(figsize=fig_size)\n",
    "sns.boxplot(y=limuru_data['Day High'])\n",
    "plt.title('Box Plot of Day High')\n",
    "plt.ylabel('Stock Price')\n",
    "plt.tight_layout()\n",
    "plt.show()"
   ]
  },
  {
   "cell_type": "code",
   "execution_count": 783,
   "metadata": {},
   "outputs": [
    {
     "data": {
      "image/png": "[encoded data removed]",
      "text/plain": [
       "<Figure size 1500x600 with 1 Axes>"
      ]
     },
     "metadata": {},
     "output_type": "display_data"
    }
   ],
   "source": [
    "plt.figure(figsize=fig_size)\n",
    "sns.boxplot(y=limuru_data['Day Low'])\n",
    "plt.title('Winsorized Boxplot Plot of Day Low')\n",
    "plt.ylabel('Stock Price')\n",
    "plt.tight_layout()\n",
    "plt.show()"
   ]
  },
  {
   "cell_type": "markdown",
   "metadata": {},
   "source": [
    "### Handling Outliers.\n",
    "---"
   ]
  },
  {
   "cell_type": "code",
   "execution_count": 784,
   "metadata": {},
   "outputs": [],
   "source": [
    "from scipy.stats import mstats"
   ]
  },
  {
   "cell_type": "code",
   "execution_count": 800,
   "metadata": {},
   "outputs": [
    {
     "name": "stdout",
     "output_type": "stream",
     "text": [
      "Outliers have been handled using winsorization.\n",
      "🔍 Summary Statistics After Handling Outliers:\n",
      "          Day Price      Day High     Day Low  12m High  12m Low\n",
      "count  9.950000e+02  9.950000e+02  995.000000     995.0    995.0\n",
      "mean   5.712906e-17  1.142581e-16    0.000000       0.0      0.0\n",
      "std    1.000503e+00  1.000503e+00    1.000503       0.0      0.0\n",
      "min   -7.549080e-01 -7.557201e-01   -0.753738       0.0      0.0\n",
      "25%   -7.549080e-01 -7.557201e-01   -0.753738       0.0      0.0\n",
      "50%   -6.294431e-01 -6.303254e-01   -0.628149       0.0      0.0\n",
      "75%    6.502993e-01  6.486999e-01    0.652863       0.0      0.0\n",
      "max    1.754391e+00  1.752173e+00    1.758050       0.0      0.0\n"
     ]
    }
   ],
   "source": [
    "def handle_outliers(data, columns, limits=(0.05, 0.05)):\n",
    "    for col in columns:\n",
    "        data[col] = mstats.winsorize(data[col], limits=limits)\n",
    "    return data\n",
    "numeric_columns = ['Day Price', 'Day High', 'Day Low', '12m High', '12m Low']\n",
    "\n",
    "limuru_data = handle_outliers(limuru_data, numeric_columns, limits=(0.2, 0.2))\n",
    "\n",
    "print(\"Outliers have been handled using winsorization.\")\n",
    "\n",
    "# Summary statistics after handling outliers\n",
    "print(\"🔍 Summary Statistics After Handling Outliers:\")\n",
    "print(limuru_data[numeric_columns].describe())\n"
   ]
  },
  {
   "cell_type": "code",
   "execution_count": 786,
   "metadata": {},
   "outputs": [
    {
     "data": {
      "image/png": "[encoded data removed]",
      "text/plain": [
       "<Figure size 1500x600 with 1 Axes>"
      ]
     },
     "metadata": {},
     "output_type": "display_data"
    }
   ],
   "source": [
    "plt.figure(figsize=fig_size)\n",
    "sns.boxplot(y=limuru_data['Day High'])\n",
    "plt.title('Winsorized Boxplot Plot of Day High')\n",
    "plt.ylabel('Stock Price')\n",
    "plt.tight_layout()\n",
    "plt.show()"
   ]
  },
  {
   "cell_type": "code",
   "execution_count": 787,
   "metadata": {},
   "outputs": [
    {
     "data": {
      "image/png": "[encoded data removed]",
      "text/plain": [
       "<Figure size 1500x600 with 1 Axes>"
      ]
     },
     "metadata": {},
     "output_type": "display_data"
    }
   ],
   "source": [
    "plt.figure(figsize=fig_size)\n",
    "sns.boxplot(y=limuru_data['Day Price'])\n",
    "plt.title('Winsorized Boxplot Plot of Day Prices')\n",
    "plt.ylabel('Stock Price')\n",
    "plt.tight_layout()\n",
    "plt.show()"
   ]
  },
  {
   "cell_type": "code",
   "execution_count": 788,
   "metadata": {},
   "outputs": [
    {
     "data": {
      "image/png": "[encoded data removed]",
      "text/plain": [
       "<Figure size 1500x600 with 1 Axes>"
      ]
     },
     "metadata": {},
     "output_type": "display_data"
    }
   ],
   "source": [
    "plt.figure(figsize=fig_size)\n",
    "sns.boxplot(y=limuru_data['Day Low'])\n",
    "plt.title('Winsorized Boxplot Plot of Day Low')\n",
    "plt.ylabel('Stock Price')\n",
    "plt.tight_layout()\n",
    "plt.show()"
   ]
  },
  {
   "cell_type": "markdown",
   "metadata": {},
   "source": [
    "###  Distribution of Stock Prices\n",
    "\n",
    "---"
   ]
  },
  {
   "cell_type": "code",
   "execution_count": 789,
   "metadata": {},
   "outputs": [
    {
     "data": {
      "image/png": "[encoded data removed]",
      "text/plain": [
       "<Figure size 1500x600 with 1 Axes>"
      ]
     },
     "metadata": {},
     "output_type": "display_data"
    }
   ],
   "source": [
    "plt.figure(figsize=fig_size)\n",
    "sns.histplot(data=limuru_data, x='Day Price', kde=True)\n",
    "plt.title('Distribution of Limuru Stock Day Prices')\n",
    "plt.xlabel('Stock Price')\n",
    "plt.ylabel('Frequency')\n",
    "plt.tight_layout()\n",
    "plt.show()"
   ]
  },
  {
   "cell_type": "code",
   "execution_count": 790,
   "metadata": {},
   "outputs": [
    {
     "data": {
      "image/png": "[encoded data removed]",
      "text/plain": [
       "<Figure size 1500x600 with 1 Axes>"
      ]
     },
     "metadata": {},
     "output_type": "display_data"
    }
   ],
   "source": [
    "plt.figure(figsize=fig_size)\n",
    "plt.plot(limuru_data['DATE'], limuru_data['Day Price'], label='Day Price', color='Red')\n",
    "plt.title('Trend of Day Price for Limuru')\n",
    "plt.xlabel('DATE')\n",
    "plt.ylabel('Day Price')\n",
    "plt.legend()\n",
    "plt.grid()\n",
    "plt.show()\n"
   ]
  },
  {
   "cell_type": "markdown",
   "metadata": {},
   "source": [
    "### 🚀 **Training and Testing Data: The Journey Begins** 🧑‍🏫\n",
    "\n",
    "Now that we have our dataset cleaned and preprocessed, it's time to move on to —**Training** and **Testing** our model! 🎯\n",
    "\n",
    "---\n",
    "\n",
    "\n"
   ]
  },
  {
   "cell_type": "code",
   "execution_count": 791,
   "metadata": {},
   "outputs": [],
   "source": [
    "from sklearn.model_selection import train_test_split\n",
    "from sklearn.linear_model import LinearRegression\n",
    "from sklearn.metrics import mean_squared_error, r2_score\n",
    "from sklearn.preprocessing import LabelEncoder, StandardScaler"
   ]
  },
  {
   "cell_type": "markdown",
   "metadata": {},
   "source": [
    "#### Data Encoding.\n",
    "---"
   ]
  },
  {
   "cell_type": "code",
   "execution_count": 792,
   "metadata": {},
   "outputs": [
    {
     "name": "stdout",
     "output_type": "stream",
     "text": [
      "<class 'pandas.core.frame.DataFrame'>\n",
      "Index: 995 entries, 92 to 81500\n",
      "Data columns (total 11 columns):\n",
      " #   Column     Non-Null Count  Dtype         \n",
      "---  ------     --------------  -----         \n",
      " 0   DATE       995 non-null    datetime64[ns]\n",
      " 1   CODE       995 non-null    int32         \n",
      " 2   NAME       995 non-null    object        \n",
      " 3   12m Low    995 non-null    int64         \n",
      " 4   12m High   995 non-null    int64         \n",
      " 5   Day Low    995 non-null    int64         \n",
      " 6   Day High   995 non-null    int64         \n",
      " 7   Day Price  995 non-null    int64         \n",
      " 8   Previous   995 non-null    int64         \n",
      " 9   Volume     995 non-null    int64         \n",
      " 10  Year       995 non-null    float64       \n",
      "dtypes: datetime64[ns](1), float64(1), int32(1), int64(7), object(1)\n",
      "memory usage: 89.4+ KB\n"
     ]
    }
   ],
   "source": [
    "label_encoder = LabelEncoder()\n",
    "limuru_data['CODE'] = label_encoder.fit_transform(limuru_data['CODE'])\n",
    "limuru_data.info()"
   ]
  },
  {
   "cell_type": "markdown",
   "metadata": {},
   "source": [
    "#### Data Feature Scaling Process ⚖️  \n",
    "---  "
   ]
  },
  {
   "cell_type": "code",
   "execution_count": 802,
   "metadata": {},
   "outputs": [
    {
     "data": {
      "text/html": [
       "<div>\n",
       "<style scoped>\n",
       "    .dataframe tbody tr th:only-of-type {\n",
       "        vertical-align: middle;\n",
       "    }\n",
       "\n",
       "    .dataframe tbody tr th {\n",
       "        vertical-align: top;\n",
       "    }\n",
       "\n",
       "    .dataframe thead th {\n",
       "        text-align: right;\n",
       "    }\n",
       "</style>\n",
       "<table border=\"1\" class=\"dataframe\">\n",
       "  <thead>\n",
       "    <tr style=\"text-align: right;\">\n",
       "      <th></th>\n",
       "      <th>12m Low</th>\n",
       "      <th>12m High</th>\n",
       "      <th>Day Low</th>\n",
       "      <th>Day High</th>\n",
       "      <th>Day Price</th>\n",
       "      <th>Previous</th>\n",
       "      <th>Volume</th>\n",
       "      <th>Year</th>\n",
       "    </tr>\n",
       "  </thead>\n",
       "  <tbody>\n",
       "    <tr>\n",
       "      <th>92</th>\n",
       "      <td>0.0</td>\n",
       "      <td>0.0</td>\n",
       "      <td>0.502156</td>\n",
       "      <td>0.498226</td>\n",
       "      <td>0.499741</td>\n",
       "      <td>0.223543</td>\n",
       "      <td>0.0</td>\n",
       "      <td>-2.992797</td>\n",
       "    </tr>\n",
       "    <tr>\n",
       "      <th>1972</th>\n",
       "      <td>0.0</td>\n",
       "      <td>0.0</td>\n",
       "      <td>1.758050</td>\n",
       "      <td>1.752173</td>\n",
       "      <td>1.754391</td>\n",
       "      <td>0.223543</td>\n",
       "      <td>0.0</td>\n",
       "      <td>-2.992797</td>\n",
       "    </tr>\n",
       "    <tr>\n",
       "      <th>2263</th>\n",
       "      <td>0.0</td>\n",
       "      <td>0.0</td>\n",
       "      <td>1.758050</td>\n",
       "      <td>1.752173</td>\n",
       "      <td>1.754391</td>\n",
       "      <td>1.133407</td>\n",
       "      <td>0.0</td>\n",
       "      <td>-2.992797</td>\n",
       "    </tr>\n",
       "    <tr>\n",
       "      <th>2305</th>\n",
       "      <td>0.0</td>\n",
       "      <td>0.0</td>\n",
       "      <td>1.758050</td>\n",
       "      <td>1.752173</td>\n",
       "      <td>1.754391</td>\n",
       "      <td>1.133407</td>\n",
       "      <td>0.0</td>\n",
       "      <td>-2.992797</td>\n",
       "    </tr>\n",
       "    <tr>\n",
       "      <th>2428</th>\n",
       "      <td>0.0</td>\n",
       "      <td>0.0</td>\n",
       "      <td>1.758050</td>\n",
       "      <td>1.752173</td>\n",
       "      <td>1.754391</td>\n",
       "      <td>1.133407</td>\n",
       "      <td>0.0</td>\n",
       "      <td>-2.992797</td>\n",
       "    </tr>\n",
       "    <tr>\n",
       "      <th>2632</th>\n",
       "      <td>0.0</td>\n",
       "      <td>0.0</td>\n",
       "      <td>1.758050</td>\n",
       "      <td>1.752173</td>\n",
       "      <td>1.754391</td>\n",
       "      <td>1.133407</td>\n",
       "      <td>0.0</td>\n",
       "      <td>-2.992797</td>\n",
       "    </tr>\n",
       "    <tr>\n",
       "      <th>5699</th>\n",
       "      <td>0.0</td>\n",
       "      <td>0.0</td>\n",
       "      <td>1.130103</td>\n",
       "      <td>1.125199</td>\n",
       "      <td>1.127066</td>\n",
       "      <td>1.133407</td>\n",
       "      <td>0.0</td>\n",
       "      <td>-2.992797</td>\n",
       "    </tr>\n",
       "    <tr>\n",
       "      <th>12601</th>\n",
       "      <td>0.0</td>\n",
       "      <td>0.0</td>\n",
       "      <td>0.200741</td>\n",
       "      <td>0.197279</td>\n",
       "      <td>0.198625</td>\n",
       "      <td>0.678475</td>\n",
       "      <td>0.0</td>\n",
       "      <td>-2.992797</td>\n",
       "    </tr>\n",
       "    <tr>\n",
       "      <th>16457</th>\n",
       "      <td>0.0</td>\n",
       "      <td>0.0</td>\n",
       "      <td>0.200741</td>\n",
       "      <td>0.197279</td>\n",
       "      <td>0.198625</td>\n",
       "      <td>0.005176</td>\n",
       "      <td>0.0</td>\n",
       "      <td>-2.992797</td>\n",
       "    </tr>\n",
       "    <tr>\n",
       "      <th>18946</th>\n",
       "      <td>0.0</td>\n",
       "      <td>0.0</td>\n",
       "      <td>0.200741</td>\n",
       "      <td>0.197279</td>\n",
       "      <td>0.198625</td>\n",
       "      <td>0.005176</td>\n",
       "      <td>0.0</td>\n",
       "      <td>-2.992797</td>\n",
       "    </tr>\n",
       "    <tr>\n",
       "      <th>19155</th>\n",
       "      <td>0.0</td>\n",
       "      <td>0.0</td>\n",
       "      <td>0.200741</td>\n",
       "      <td>0.197279</td>\n",
       "      <td>0.198625</td>\n",
       "      <td>0.005176</td>\n",
       "      <td>0.0</td>\n",
       "      <td>-2.992797</td>\n",
       "    </tr>\n",
       "    <tr>\n",
       "      <th>20537</th>\n",
       "      <td>0.0</td>\n",
       "      <td>0.0</td>\n",
       "      <td>-0.628149</td>\n",
       "      <td>-0.630325</td>\n",
       "      <td>-0.629443</td>\n",
       "      <td>0.005176</td>\n",
       "      <td>0.0</td>\n",
       "      <td>-2.992797</td>\n",
       "    </tr>\n",
       "    <tr>\n",
       "      <th>22123</th>\n",
       "      <td>0.0</td>\n",
       "      <td>0.0</td>\n",
       "      <td>-0.628149</td>\n",
       "      <td>-0.630325</td>\n",
       "      <td>-0.629443</td>\n",
       "      <td>-0.595335</td>\n",
       "      <td>0.0</td>\n",
       "      <td>-1.277455</td>\n",
       "    </tr>\n",
       "    <tr>\n",
       "      <th>22182</th>\n",
       "      <td>0.0</td>\n",
       "      <td>0.0</td>\n",
       "      <td>-0.628149</td>\n",
       "      <td>-0.630325</td>\n",
       "      <td>-0.629443</td>\n",
       "      <td>-0.595335</td>\n",
       "      <td>0.0</td>\n",
       "      <td>-1.277455</td>\n",
       "    </tr>\n",
       "    <tr>\n",
       "      <th>22241</th>\n",
       "      <td>0.0</td>\n",
       "      <td>0.0</td>\n",
       "      <td>-0.628149</td>\n",
       "      <td>-0.630325</td>\n",
       "      <td>-0.629443</td>\n",
       "      <td>-0.595335</td>\n",
       "      <td>0.0</td>\n",
       "      <td>-1.277455</td>\n",
       "    </tr>\n",
       "  </tbody>\n",
       "</table>\n",
       "</div>"
      ],
      "text/plain": [
       "       12m Low  12m High   Day Low  Day High  Day Price  Previous  Volume  \\\n",
       "92         0.0       0.0  0.502156  0.498226   0.499741  0.223543     0.0   \n",
       "1972       0.0       0.0  1.758050  1.752173   1.754391  0.223543     0.0   \n",
       "2263       0.0       0.0  1.758050  1.752173   1.754391  1.133407     0.0   \n",
       "2305       0.0       0.0  1.758050  1.752173   1.754391  1.133407     0.0   \n",
       "2428       0.0       0.0  1.758050  1.752173   1.754391  1.133407     0.0   \n",
       "2632       0.0       0.0  1.758050  1.752173   1.754391  1.133407     0.0   \n",
       "5699       0.0       0.0  1.130103  1.125199   1.127066  1.133407     0.0   \n",
       "12601      0.0       0.0  0.200741  0.197279   0.198625  0.678475     0.0   \n",
       "16457      0.0       0.0  0.200741  0.197279   0.198625  0.005176     0.0   \n",
       "18946      0.0       0.0  0.200741  0.197279   0.198625  0.005176     0.0   \n",
       "19155      0.0       0.0  0.200741  0.197279   0.198625  0.005176     0.0   \n",
       "20537      0.0       0.0 -0.628149 -0.630325  -0.629443  0.005176     0.0   \n",
       "22123      0.0       0.0 -0.628149 -0.630325  -0.629443 -0.595335     0.0   \n",
       "22182      0.0       0.0 -0.628149 -0.630325  -0.629443 -0.595335     0.0   \n",
       "22241      0.0       0.0 -0.628149 -0.630325  -0.629443 -0.595335     0.0   \n",
       "\n",
       "           Year  \n",
       "92    -2.992797  \n",
       "1972  -2.992797  \n",
       "2263  -2.992797  \n",
       "2305  -2.992797  \n",
       "2428  -2.992797  \n",
       "2632  -2.992797  \n",
       "5699  -2.992797  \n",
       "12601 -2.992797  \n",
       "16457 -2.992797  \n",
       "18946 -2.992797  \n",
       "19155 -2.992797  \n",
       "20537 -2.992797  \n",
       "22123 -1.277455  \n",
       "22182 -1.277455  \n",
       "22241 -1.277455  "
      ]
     },
     "execution_count": 802,
     "metadata": {},
     "output_type": "execute_result"
    }
   ],
   "source": [
    "numeric_columns = limuru_data.select_dtypes(include=['float64', 'int64']).columns\n",
    "\n",
    "scaler = StandardScaler()\n",
    "limuru_data[numeric_columns] = scaler.fit_transform(limuru_data[numeric_columns])\n",
    "\n",
    "# Verify the scaled features\n",
    "limuru_data[numeric_columns].head(15)"
   ]
  },
  {
   "cell_type": "markdown",
   "metadata": {},
   "source": [
    "#### Train-Test Split Process ✂️  \n",
    "---  "
   ]
  },
  {
   "cell_type": "code",
   "execution_count": 807,
   "metadata": {},
   "outputs": [
    {
     "name": "stdout",
     "output_type": "stream",
     "text": [
      "The total number of rows in 'Day Price' is: 995\n"
     ]
    }
   ],
   "source": [
    "data_size = limuru_data['Day Price'].size\n",
    "print(f\"The total number of rows in 'Day Price' is: {data_size}\")\n"
   ]
  },
  {
   "cell_type": "code",
   "execution_count": 804,
   "metadata": {},
   "outputs": [],
   "source": [
    "X = limuru_data.drop(columns=['Day Price', 'DATE']) \n",
    "y = limuru_data['Day Price'] \n",
    "X_train, X_test, y_train, y_test = train_test_split(X, y, test_size=0.2, random_state=42)"
   ]
  },
  {
   "cell_type": "code",
   "execution_count": 805,
   "metadata": {},
   "outputs": [
    {
     "name": "stdout",
     "output_type": "stream",
     "text": [
      "Training data (X_train) shape: (796, 9)\n",
      "Testing data (X_test) shape: (199, 9)\n"
     ]
    }
   ],
   "source": [
    "print(f\"Training data (X_train) shape: {X_train.shape}\")\n",
    "print(f\"Testing data (X_test) shape: {X_test.shape}\")\n"
   ]
  },
  {
   "cell_type": "markdown",
   "metadata": {},
   "source": [
    "#### Building the Neural Network 🧠  \n",
    "---  "
   ]
  }
 ],
 "metadata": {
  "kernelspec": {
   "display_name": "base",
   "language": "python",
   "name": "python3"
  },
  "language_info": {
   "codemirror_mode": {
    "name": "ipython",
    "version": 3
   },
   "file_extension": ".py",
   "mimetype": "text/x-python",
   "name": "python",
   "nbconvert_exporter": "python",
   "pygments_lexer": "ipython3",
   "version": "3.12.4"
  }
 },
 "nbformat": 4,
 "nbformat_minor": 2
}
