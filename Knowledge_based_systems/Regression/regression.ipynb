{
 "cells": [
  {
   "cell_type": "markdown",
   "metadata": {},
   "source": [
    "## Concatenation of all CSV's to one csv."
   ]
  },
  {
   "cell_type": "code",
   "execution_count": 94,
   "metadata": {},
   "outputs": [],
   "source": [
    "import pandas as pd\n",
    "import glob\n",
    "import os\n"
   ]
  },
  {
   "cell_type": "code",
   "execution_count": 95,
   "metadata": {},
   "outputs": [
    {
     "name": "stdout",
     "output_type": "stream",
     "text": [
      "Current working directory: c:\\Users\\HP\\Documents\\Projects\\school\\machinelearning_self_learn\\Knowledge_based_systems\\Regression\n",
      "Full path: c:\\Users\\HP\\Documents\\Projects\\school\\machinelearning_self_learn\\Knowledge_based_systems\\Regression\\Nairobi_Securities_Exchange_All_Stocks_Prices_2007_2012\n",
      "Full path: c:\\Users\\HP\\Documents\\Projects\\school\\machinelearning_self_learn\\Knowledge_based_systems\\Regression\\Nairobi_Securities_Exchange_All_Stocks_Prices_2007_2012\n",
      "Successfully read: c:\\Users\\HP\\Documents\\Projects\\school\\machinelearning_self_learn\\Knowledge_based_systems\\Regression\\Nairobi_Securities_Exchange_All_Stocks_Prices_2007_2012\\NSE_data_all_stocks_2007.csv with 10608 rows.\n",
      "Successfully read: c:\\Users\\HP\\Documents\\Projects\\school\\machinelearning_self_learn\\Knowledge_based_systems\\Regression\\Nairobi_Securities_Exchange_All_Stocks_Prices_2007_2012\\NSE_data_all_stocks_2008.csv with 10583 rows.\n",
      "Successfully read: c:\\Users\\HP\\Documents\\Projects\\school\\machinelearning_self_learn\\Knowledge_based_systems\\Regression\\Nairobi_Securities_Exchange_All_Stocks_Prices_2007_2012\\NSE_data_all_stocks_2009.csv with 14386 rows.\n",
      "Successfully read: c:\\Users\\HP\\Documents\\Projects\\school\\machinelearning_self_learn\\Knowledge_based_systems\\Regression\\Nairobi_Securities_Exchange_All_Stocks_Prices_2007_2012\\NSE_data_all_stocks_2010.csv with 14952 rows.\n",
      "Successfully read: c:\\Users\\HP\\Documents\\Projects\\school\\machinelearning_self_learn\\Knowledge_based_systems\\Regression\\Nairobi_Securities_Exchange_All_Stocks_Prices_2007_2012\\NSE_data_all_stocks_2011.csv with 14931 rows.\n",
      "Successfully read: c:\\Users\\HP\\Documents\\Projects\\school\\machinelearning_self_learn\\Knowledge_based_systems\\Regression\\Nairobi_Securities_Exchange_All_Stocks_Prices_2007_2012\\NSE_data_all_stocks_2012.csv with 16044 rows.\n",
      "All CSV files have been successfully combined into 'c:\\Users\\HP\\Documents\\Projects\\school\\machinelearning_self_learn\\Knowledge_based_systems\\Regression\\Combined_NSE_Data\\NSE_data_all_stocks_2007_2012_combined.csv'.\n"
     ]
    }
   ],
   "source": [
    "current_dir = os.getcwd()\n",
    "print(f\"Current working directory: {current_dir}\")\n",
    "\n",
    "path = os.path.join(current_dir, \"Nairobi_Securities_Exchange_All_Stocks_Prices_2007_2012\")\n",
    "print(f\"Full path: {path}\")\n",
    "print(f\"Full path: {path}\")\n",
    "if not os.path.isdir(path):\n",
    "    raise FileNotFoundError(f\"The directory '{path}' does not exist.\")\n",
    "\n",
    "csv_pattern_lower = os.path.join(path, \"NSE_data_all_stocks_*.csv\")\n",
    "csv_files = glob.glob(csv_pattern_lower)\n",
    "\n",
    "df_list = []\n",
    "for file in csv_files:\n",
    "    try:\n",
    "        df = pd.read_csv(file)\n",
    "        df_list.append(df)\n",
    "        print(f\"Successfully read: {file} with {len(df)} rows.\")\n",
    "    except Exception as e:\n",
    "        print(f\"Error reading {file}: {e}\")\n",
    "\n",
    "# Check if any DataFrames were successfully read\n",
    "if not df_list:\n",
    "    raise ValueError(\"No DataFrames were loaded. Please check the CSV files for readability.\")\n",
    "\n",
    "# Concatenate all DataFrames in the list into a single DataFrame\n",
    "combined_df = pd.concat(df_list, ignore_index=True, sort=False)\n",
    "\n",
    "# Create a new directory for combined output\n",
    "combined_output_dir = os.path.join(current_dir, \"Combined_NSE_Data\")\n",
    "if not os.path.exists(combined_output_dir):\n",
    "    os.makedirs(combined_output_dir)\n",
    "    print(f\"Created new directory: {combined_output_dir}\")\n",
    "\n",
    "output_file = os.path.join(combined_output_dir, \"NSE_data_all_stocks_2007_2012_combined.csv\")\n",
    "combined_df.to_csv(output_file, index=False)\n",
    "\n",
    "print(f\"All CSV files have been successfully combined into '{output_file}'.\")"
   ]
  },
  {
   "cell_type": "code",
   "execution_count": 96,
   "metadata": {},
   "outputs": [
    {
     "name": "stdout",
     "output_type": "stream",
     "text": [
      "           DATE  CODE        NAME 12m Low 12m High Day Low Day High Day Price  \\\n",
      "92     1/4/2007  LIMT  Limuru Tea     400      500     350      350       350   \n",
      "1972   3/6/2007  LIMT  Limuru Tea     400      500     400      400       400   \n",
      "2263  3/15/2007  LIMT  Limuru Tea     400      500     400      400       400   \n",
      "2305  3/16/2007  LIMT  Limuru Tea     400      500     400      400       400   \n",
      "2428  3/21/2007  LIMT  Limuru Tea     400      500     400      400       400   \n",
      "\n",
      "     Previous Change Change% Volume Adjust Date Adjusted  \n",
      "92        350      -       -    100    175  NaN      NaN  \n",
      "1972      350     50  12.50%    100    200  NaN      NaN  \n",
      "2263      400      -       -    500    200  NaN      NaN  \n",
      "2305      400      -       -    100    200  NaN      NaN  \n",
      "2428      400      -       -    100    200  NaN      NaN  \n"
     ]
    },
    {
     "name": "stderr",
     "output_type": "stream",
     "text": [
      "C:\\Users\\HP\\AppData\\Local\\Temp\\ipykernel_14196\\3842580086.py:1: DtypeWarning: Columns (13,14) have mixed types. Specify dtype option on import or set low_memory=False.\n",
      "  data = pd.read_csv(output_file)\n"
     ]
    }
   ],
   "source": [
    "data = pd.read_csv(output_file)\n",
    "\n",
    "limuru_data = data[data['CODE'] == 'LIMT']\n",
    "print(limuru_data.head())\n"
   ]
  },
  {
   "cell_type": "code",
   "execution_count": 97,
   "metadata": {},
   "outputs": [
    {
     "name": "stdout",
     "output_type": "stream",
     "text": [
      "The total number of rows in the dataset is 81504\n"
     ]
    }
   ],
   "source": [
    "data_size = len(data['CODE'])\n",
    "print(f\"The total number of rows in the dataset is {data_size}\")\n"
   ]
  },
  {
   "cell_type": "code",
   "execution_count": 98,
   "metadata": {},
   "outputs": [
    {
     "name": "stdout",
     "output_type": "stream",
     "text": [
      "             DATE  CODE        NAME 12m Low 12m High Day Low Day High  \\\n",
      "92       1/4/2007  LIMT  Limuru Tea     400      500     350      350   \n",
      "1972     3/6/2007  LIMT  Limuru Tea     400      500     400      400   \n",
      "2263    3/15/2007  LIMT  Limuru Tea     400      500     400      400   \n",
      "2305    3/16/2007  LIMT  Limuru Tea     400      500     400      400   \n",
      "2428    3/21/2007  LIMT  Limuru Tea     400      500     400      400   \n",
      "...           ...   ...         ...     ...      ...     ...      ...   \n",
      "81244  12/21/2012  LIMT  Limuru Tea     400      500     430      430   \n",
      "81308  12/24/2012  LIMT  Limuru Tea     400      500     430      430   \n",
      "81372  12/27/2012  LIMT  Limuru Tea     400      500     430      430   \n",
      "81436  12/28/2012  LIMT  Limuru Tea     400      500     430      430   \n",
      "81500  12/31/2012  LIMT  Limuru Tea     400      500     430      430   \n",
      "\n",
      "      Day Price Previous Change Change% Volume Adjust Date Adjusted  \n",
      "92          350      350      -       -    100    175  NaN      NaN  \n",
      "1972        400      350     50  12.50%    100    200  NaN      NaN  \n",
      "2263        400      400      -       -    500    200  NaN      NaN  \n",
      "2305        400      400      -       -    100    200  NaN      NaN  \n",
      "2428        400      400      -       -    100    200  NaN      NaN  \n",
      "...         ...      ...    ...     ...    ...    ...  ...      ...  \n",
      "81244       430      430      -       -      0      -  NaN      NaN  \n",
      "81308       430      430      -       -      0      -  NaN      NaN  \n",
      "81372       430      430      -       -      0      -  NaN      NaN  \n",
      "81436       430      430      -       -      0      -  NaN      NaN  \n",
      "81500       430      430      -       -      0      -  NaN      NaN  \n",
      "\n",
      "[995 rows x 15 columns]\n"
     ]
    }
   ],
   "source": [
    "print(limuru_data)"
   ]
  },
  {
   "cell_type": "markdown",
   "metadata": {},
   "source": [
    "# 📈 Predicting Limuru Stock Using Linear Regression 📊\n",
    "\n",
    "In this project, I am using **Linear Regression** to predict the stock price of **Limuru**. The **target variable** for the model is the **Day Price** 💹, which represents the stock's price for a given day.\n",
    "\n",
    "### 🔑 Key Points:\n",
    "- **Model Type**: Linear Regression 🤖\n",
    "- **Target Variable**: Day Price 💵\n",
    "- **Objective**: Predict the stock price on any given day, helping stock buyers make informed decisions 🛍️.\n",
    "\n",
    "This model will leverage historical stock data 📅 to predict the future price movement 🔮, offering valuable insights into Limuru's stock performance 🚀.\n"
   ]
  },
  {
   "cell_type": "code",
   "execution_count": 99,
   "metadata": {},
   "outputs": [
    {
     "name": "stdout",
     "output_type": "stream",
     "text": [
      "🔍 Missing values in each column:\n",
      "DATE           5\n",
      "CODE           0\n",
      "NAME           0\n",
      "12m Low        0\n",
      "12m High       0\n",
      "Day Low        0\n",
      "Day High       0\n",
      "Day Price      0\n",
      "Previous       0\n",
      "Change         0\n",
      "Change%        0\n",
      "Volume         0\n",
      "Adjust         5\n",
      "Date         990\n",
      "Adjusted     990\n",
      "dtype: int64\n"
     ]
    }
   ],
   "source": [
    "missing_values = limuru_data.isnull().sum()\n",
    "print(\"🔍 Missing values in each column:\")\n",
    "print(missing_values)"
   ]
  },
  {
   "cell_type": "code",
   "execution_count": 100,
   "metadata": {},
   "outputs": [
    {
     "name": "stdout",
     "output_type": "stream",
     "text": [
      "<class 'pandas.core.frame.DataFrame'>\n",
      "Index: 995 entries, 92 to 81500\n",
      "Data columns (total 16 columns):\n",
      " #   Column     Non-Null Count  Dtype         \n",
      "---  ------     --------------  -----         \n",
      " 0   DATE       990 non-null    datetime64[ns]\n",
      " 1   CODE       995 non-null    object        \n",
      " 2   NAME       995 non-null    object        \n",
      " 3   12m Low    995 non-null    object        \n",
      " 4   12m High   995 non-null    object        \n",
      " 5   Day Low    995 non-null    object        \n",
      " 6   Day High   995 non-null    object        \n",
      " 7   Day Price  995 non-null    object        \n",
      " 8   Previous   995 non-null    object        \n",
      " 9   Change     995 non-null    object        \n",
      " 10  Change%    995 non-null    object        \n",
      " 11  Volume     995 non-null    object        \n",
      " 12  Adjust     990 non-null    object        \n",
      " 13  Date       5 non-null      object        \n",
      " 14  Adjusted   5 non-null      object        \n",
      " 15  Year       990 non-null    float64       \n",
      "dtypes: datetime64[ns](1), float64(1), object(14)\n",
      "memory usage: 132.1+ KB\n"
     ]
    },
    {
     "name": "stderr",
     "output_type": "stream",
     "text": [
      "C:\\Users\\HP\\AppData\\Local\\Temp\\ipykernel_14196\\441026628.py:1: SettingWithCopyWarning: \n",
      "A value is trying to be set on a copy of a slice from a DataFrame.\n",
      "Try using .loc[row_indexer,col_indexer] = value instead\n",
      "\n",
      "See the caveats in the documentation: https://pandas.pydata.org/pandas-docs/stable/user_guide/indexing.html#returning-a-view-versus-a-copy\n",
      "  limuru_data['DATE'] = pd.to_datetime(limuru_data['DATE'], format='%m/%d/%Y', errors='coerce')\n",
      "C:\\Users\\HP\\AppData\\Local\\Temp\\ipykernel_14196\\441026628.py:4: SettingWithCopyWarning: \n",
      "A value is trying to be set on a copy of a slice from a DataFrame.\n",
      "Try using .loc[row_indexer,col_indexer] = value instead\n",
      "\n",
      "See the caveats in the documentation: https://pandas.pydata.org/pandas-docs/stable/user_guide/indexing.html#returning-a-view-versus-a-copy\n",
      "  limuru_data['Year'] = limuru_data['DATE'].dt.year\n"
     ]
    }
   ],
   "source": [
    "limuru_data['DATE'] = pd.to_datetime(limuru_data['DATE'], format='%m/%d/%Y', errors='coerce')\n",
    "\n",
    "# Extract year and create a new 'Year' column\n",
    "limuru_data['Year'] = limuru_data['DATE'].dt.year\n",
    "limuru_data.info()"
   ]
  },
  {
   "cell_type": "code",
   "execution_count": 101,
   "metadata": {},
   "outputs": [
    {
     "name": "stdout",
     "output_type": "stream",
     "text": [
      "\n",
      "✅ Data after forward filling missing values:\n"
     ]
    },
    {
     "name": "stderr",
     "output_type": "stream",
     "text": [
      "C:\\Users\\HP\\AppData\\Local\\Temp\\ipykernel_14196\\2513055157.py:1: FutureWarning: DataFrame.fillna with 'method' is deprecated and will raise in a future version. Use obj.ffill() or obj.bfill() instead.\n",
      "  limuru_data = limuru_data.fillna(method='ffill')\n"
     ]
    },
    {
     "name": "stdout",
     "output_type": "stream",
     "text": [
      "<class 'pandas.core.frame.DataFrame'>\n",
      "RangeIndex: 81504 entries, 0 to 81503\n",
      "Data columns (total 15 columns):\n",
      " #   Column     Non-Null Count  Dtype \n",
      "---  ------     --------------  ----- \n",
      " 0   DATE       70921 non-null  object\n",
      " 1   CODE       81504 non-null  object\n",
      " 2   NAME       81456 non-null  object\n",
      " 3   12m Low    81504 non-null  object\n",
      " 4   12m High   81504 non-null  object\n",
      " 5   Day Low    81504 non-null  object\n",
      " 6   Day High   81504 non-null  object\n",
      " 7   Day Price  81504 non-null  object\n",
      " 8   Previous   81504 non-null  object\n",
      " 9   Change     81504 non-null  object\n",
      " 10  Change%    81504 non-null  object\n",
      " 11  Volume     81504 non-null  object\n",
      " 12  Adjust     70921 non-null  object\n",
      " 13  Date       10583 non-null  object\n",
      " 14  Adjusted   10583 non-null  object\n",
      "dtypes: object(15)\n",
      "memory usage: 9.3+ MB\n",
      "None\n"
     ]
    }
   ],
   "source": [
    "limuru_data = limuru_data.fillna(method='ffill') \n",
    "print(\"\\n✅ Data after forward filling missing values:\")\n",
    "print(data.info())\n"
   ]
  },
  {
   "cell_type": "code",
   "execution_count": 102,
   "metadata": {},
   "outputs": [
    {
     "name": "stdout",
     "output_type": "stream",
     "text": [
      "\n",
      "✅ Data after forward filling missing values:\n",
      "<class 'pandas.core.frame.DataFrame'>\n",
      "RangeIndex: 81504 entries, 0 to 81503\n",
      "Data columns (total 15 columns):\n",
      " #   Column     Non-Null Count  Dtype \n",
      "---  ------     --------------  ----- \n",
      " 0   DATE       70921 non-null  object\n",
      " 1   CODE       81504 non-null  object\n",
      " 2   NAME       81456 non-null  object\n",
      " 3   12m Low    81504 non-null  object\n",
      " 4   12m High   81504 non-null  object\n",
      " 5   Day Low    81504 non-null  object\n",
      " 6   Day High   81504 non-null  object\n",
      " 7   Day Price  81504 non-null  object\n",
      " 8   Previous   81504 non-null  object\n",
      " 9   Change     81504 non-null  object\n",
      " 10  Change%    81504 non-null  object\n",
      " 11  Volume     81504 non-null  object\n",
      " 12  Adjust     70921 non-null  object\n",
      " 13  Date       10583 non-null  object\n",
      " 14  Adjusted   10583 non-null  object\n",
      "dtypes: object(15)\n",
      "memory usage: 9.3+ MB\n",
      "None\n"
     ]
    },
    {
     "name": "stderr",
     "output_type": "stream",
     "text": [
      "C:\\Users\\HP\\AppData\\Local\\Temp\\ipykernel_14196\\2513055157.py:1: FutureWarning: DataFrame.fillna with 'method' is deprecated and will raise in a future version. Use obj.ffill() or obj.bfill() instead.\n",
      "  limuru_data = limuru_data.fillna(method='ffill')\n"
     ]
    }
   ],
   "source": [
    "limuru_data = limuru_data.fillna(method='ffill') \n",
    "print(\"\\n✅ Data after forward filling missing values:\")\n",
    "print(data.info())\n"
   ]
  },
  {
   "cell_type": "code",
   "execution_count": 103,
   "metadata": {},
   "outputs": [
    {
     "name": "stdout",
     "output_type": "stream",
     "text": [
      "🔍 Missing values in each column:\n",
      "DATE         0\n",
      "CODE         0\n",
      "NAME         0\n",
      "12m Low      0\n",
      "12m High     0\n",
      "Day Low      0\n",
      "Day High     0\n",
      "Day Price    0\n",
      "Previous     0\n",
      "Change       0\n",
      "Change%      0\n",
      "Volume       0\n",
      "Adjust       0\n",
      "Date         7\n",
      "Adjusted     7\n",
      "Year         0\n",
      "dtype: int64\n"
     ]
    }
   ],
   "source": [
    "missing_values = limuru_data.isnull().sum()\n",
    "print(\"🔍 Missing values in each column:\")\n",
    "print(missing_values)\n"
   ]
  },
  {
   "cell_type": "code",
   "execution_count": 104,
   "metadata": {},
   "outputs": [
    {
     "data": {
      "text/plain": [
       "2"
      ]
     },
     "execution_count": 104,
     "metadata": {},
     "output_type": "execute_result"
    }
   ],
   "source": [
    "limuru_data.duplicated().sum()"
   ]
  },
  {
   "cell_type": "code",
   "execution_count": 105,
   "metadata": {},
   "outputs": [
    {
     "data": {
      "text/html": [
       "<div>\n",
       "<style scoped>\n",
       "    .dataframe tbody tr th:only-of-type {\n",
       "        vertical-align: middle;\n",
       "    }\n",
       "\n",
       "    .dataframe tbody tr th {\n",
       "        vertical-align: top;\n",
       "    }\n",
       "\n",
       "    .dataframe thead th {\n",
       "        text-align: right;\n",
       "    }\n",
       "</style>\n",
       "<table border=\"1\" class=\"dataframe\">\n",
       "  <thead>\n",
       "    <tr style=\"text-align: right;\">\n",
       "      <th></th>\n",
       "      <th>DATE</th>\n",
       "      <th>CODE</th>\n",
       "      <th>NAME</th>\n",
       "      <th>12m Low</th>\n",
       "      <th>12m High</th>\n",
       "      <th>Day Low</th>\n",
       "      <th>Day High</th>\n",
       "      <th>Day Price</th>\n",
       "      <th>Previous</th>\n",
       "      <th>Change</th>\n",
       "      <th>Change%</th>\n",
       "      <th>Volume</th>\n",
       "      <th>Adjust</th>\n",
       "      <th>Date</th>\n",
       "      <th>Adjusted</th>\n",
       "      <th>Year</th>\n",
       "    </tr>\n",
       "  </thead>\n",
       "  <tbody>\n",
       "    <tr>\n",
       "      <th>92</th>\n",
       "      <td>2007-01-04</td>\n",
       "      <td>LIMT</td>\n",
       "      <td>Limuru Tea</td>\n",
       "      <td>400</td>\n",
       "      <td>500</td>\n",
       "      <td>350</td>\n",
       "      <td>350</td>\n",
       "      <td>350</td>\n",
       "      <td>350</td>\n",
       "      <td>-</td>\n",
       "      <td>-</td>\n",
       "      <td>100</td>\n",
       "      <td>175</td>\n",
       "      <td>NaN</td>\n",
       "      <td>NaN</td>\n",
       "      <td>2007.0</td>\n",
       "    </tr>\n",
       "    <tr>\n",
       "      <th>1972</th>\n",
       "      <td>2007-03-06</td>\n",
       "      <td>LIMT</td>\n",
       "      <td>Limuru Tea</td>\n",
       "      <td>400</td>\n",
       "      <td>500</td>\n",
       "      <td>400</td>\n",
       "      <td>400</td>\n",
       "      <td>400</td>\n",
       "      <td>350</td>\n",
       "      <td>50</td>\n",
       "      <td>12.50%</td>\n",
       "      <td>100</td>\n",
       "      <td>200</td>\n",
       "      <td>NaN</td>\n",
       "      <td>NaN</td>\n",
       "      <td>2007.0</td>\n",
       "    </tr>\n",
       "    <tr>\n",
       "      <th>2263</th>\n",
       "      <td>2007-03-15</td>\n",
       "      <td>LIMT</td>\n",
       "      <td>Limuru Tea</td>\n",
       "      <td>400</td>\n",
       "      <td>500</td>\n",
       "      <td>400</td>\n",
       "      <td>400</td>\n",
       "      <td>400</td>\n",
       "      <td>400</td>\n",
       "      <td>-</td>\n",
       "      <td>-</td>\n",
       "      <td>500</td>\n",
       "      <td>200</td>\n",
       "      <td>NaN</td>\n",
       "      <td>NaN</td>\n",
       "      <td>2007.0</td>\n",
       "    </tr>\n",
       "    <tr>\n",
       "      <th>2305</th>\n",
       "      <td>2007-03-16</td>\n",
       "      <td>LIMT</td>\n",
       "      <td>Limuru Tea</td>\n",
       "      <td>400</td>\n",
       "      <td>500</td>\n",
       "      <td>400</td>\n",
       "      <td>400</td>\n",
       "      <td>400</td>\n",
       "      <td>400</td>\n",
       "      <td>-</td>\n",
       "      <td>-</td>\n",
       "      <td>100</td>\n",
       "      <td>200</td>\n",
       "      <td>NaN</td>\n",
       "      <td>NaN</td>\n",
       "      <td>2007.0</td>\n",
       "    </tr>\n",
       "    <tr>\n",
       "      <th>2428</th>\n",
       "      <td>2007-03-21</td>\n",
       "      <td>LIMT</td>\n",
       "      <td>Limuru Tea</td>\n",
       "      <td>400</td>\n",
       "      <td>500</td>\n",
       "      <td>400</td>\n",
       "      <td>400</td>\n",
       "      <td>400</td>\n",
       "      <td>400</td>\n",
       "      <td>-</td>\n",
       "      <td>-</td>\n",
       "      <td>100</td>\n",
       "      <td>200</td>\n",
       "      <td>NaN</td>\n",
       "      <td>NaN</td>\n",
       "      <td>2007.0</td>\n",
       "    </tr>\n",
       "    <tr>\n",
       "      <th>...</th>\n",
       "      <td>...</td>\n",
       "      <td>...</td>\n",
       "      <td>...</td>\n",
       "      <td>...</td>\n",
       "      <td>...</td>\n",
       "      <td>...</td>\n",
       "      <td>...</td>\n",
       "      <td>...</td>\n",
       "      <td>...</td>\n",
       "      <td>...</td>\n",
       "      <td>...</td>\n",
       "      <td>...</td>\n",
       "      <td>...</td>\n",
       "      <td>...</td>\n",
       "      <td>...</td>\n",
       "      <td>...</td>\n",
       "    </tr>\n",
       "    <tr>\n",
       "      <th>81244</th>\n",
       "      <td>2012-12-21</td>\n",
       "      <td>LIMT</td>\n",
       "      <td>Limuru Tea</td>\n",
       "      <td>400</td>\n",
       "      <td>500</td>\n",
       "      <td>430</td>\n",
       "      <td>430</td>\n",
       "      <td>430</td>\n",
       "      <td>430</td>\n",
       "      <td>-</td>\n",
       "      <td>-</td>\n",
       "      <td>0</td>\n",
       "      <td>-</td>\n",
       "      <td>12/4/2008</td>\n",
       "      <td>152.5</td>\n",
       "      <td>2012.0</td>\n",
       "    </tr>\n",
       "    <tr>\n",
       "      <th>81308</th>\n",
       "      <td>2012-12-24</td>\n",
       "      <td>LIMT</td>\n",
       "      <td>Limuru Tea</td>\n",
       "      <td>400</td>\n",
       "      <td>500</td>\n",
       "      <td>430</td>\n",
       "      <td>430</td>\n",
       "      <td>430</td>\n",
       "      <td>430</td>\n",
       "      <td>-</td>\n",
       "      <td>-</td>\n",
       "      <td>0</td>\n",
       "      <td>-</td>\n",
       "      <td>12/4/2008</td>\n",
       "      <td>152.5</td>\n",
       "      <td>2012.0</td>\n",
       "    </tr>\n",
       "    <tr>\n",
       "      <th>81372</th>\n",
       "      <td>2012-12-27</td>\n",
       "      <td>LIMT</td>\n",
       "      <td>Limuru Tea</td>\n",
       "      <td>400</td>\n",
       "      <td>500</td>\n",
       "      <td>430</td>\n",
       "      <td>430</td>\n",
       "      <td>430</td>\n",
       "      <td>430</td>\n",
       "      <td>-</td>\n",
       "      <td>-</td>\n",
       "      <td>0</td>\n",
       "      <td>-</td>\n",
       "      <td>12/4/2008</td>\n",
       "      <td>152.5</td>\n",
       "      <td>2012.0</td>\n",
       "    </tr>\n",
       "    <tr>\n",
       "      <th>81436</th>\n",
       "      <td>2012-12-28</td>\n",
       "      <td>LIMT</td>\n",
       "      <td>Limuru Tea</td>\n",
       "      <td>400</td>\n",
       "      <td>500</td>\n",
       "      <td>430</td>\n",
       "      <td>430</td>\n",
       "      <td>430</td>\n",
       "      <td>430</td>\n",
       "      <td>-</td>\n",
       "      <td>-</td>\n",
       "      <td>0</td>\n",
       "      <td>-</td>\n",
       "      <td>12/4/2008</td>\n",
       "      <td>152.5</td>\n",
       "      <td>2012.0</td>\n",
       "    </tr>\n",
       "    <tr>\n",
       "      <th>81500</th>\n",
       "      <td>2012-12-31</td>\n",
       "      <td>LIMT</td>\n",
       "      <td>Limuru Tea</td>\n",
       "      <td>400</td>\n",
       "      <td>500</td>\n",
       "      <td>430</td>\n",
       "      <td>430</td>\n",
       "      <td>430</td>\n",
       "      <td>430</td>\n",
       "      <td>-</td>\n",
       "      <td>-</td>\n",
       "      <td>0</td>\n",
       "      <td>-</td>\n",
       "      <td>12/4/2008</td>\n",
       "      <td>152.5</td>\n",
       "      <td>2012.0</td>\n",
       "    </tr>\n",
       "  </tbody>\n",
       "</table>\n",
       "<p>993 rows × 16 columns</p>\n",
       "</div>"
      ],
      "text/plain": [
       "            DATE  CODE        NAME 12m Low 12m High Day Low Day High  \\\n",
       "92    2007-01-04  LIMT  Limuru Tea     400      500     350      350   \n",
       "1972  2007-03-06  LIMT  Limuru Tea     400      500     400      400   \n",
       "2263  2007-03-15  LIMT  Limuru Tea     400      500     400      400   \n",
       "2305  2007-03-16  LIMT  Limuru Tea     400      500     400      400   \n",
       "2428  2007-03-21  LIMT  Limuru Tea     400      500     400      400   \n",
       "...          ...   ...         ...     ...      ...     ...      ...   \n",
       "81244 2012-12-21  LIMT  Limuru Tea     400      500     430      430   \n",
       "81308 2012-12-24  LIMT  Limuru Tea     400      500     430      430   \n",
       "81372 2012-12-27  LIMT  Limuru Tea     400      500     430      430   \n",
       "81436 2012-12-28  LIMT  Limuru Tea     400      500     430      430   \n",
       "81500 2012-12-31  LIMT  Limuru Tea     400      500     430      430   \n",
       "\n",
       "      Day Price Previous Change Change% Volume Adjust       Date Adjusted  \\\n",
       "92          350      350      -       -    100    175        NaN      NaN   \n",
       "1972        400      350     50  12.50%    100    200        NaN      NaN   \n",
       "2263        400      400      -       -    500    200        NaN      NaN   \n",
       "2305        400      400      -       -    100    200        NaN      NaN   \n",
       "2428        400      400      -       -    100    200        NaN      NaN   \n",
       "...         ...      ...    ...     ...    ...    ...        ...      ...   \n",
       "81244       430      430      -       -      0      -  12/4/2008    152.5   \n",
       "81308       430      430      -       -      0      -  12/4/2008    152.5   \n",
       "81372       430      430      -       -      0      -  12/4/2008    152.5   \n",
       "81436       430      430      -       -      0      -  12/4/2008    152.5   \n",
       "81500       430      430      -       -      0      -  12/4/2008    152.5   \n",
       "\n",
       "         Year  \n",
       "92     2007.0  \n",
       "1972   2007.0  \n",
       "2263   2007.0  \n",
       "2305   2007.0  \n",
       "2428   2007.0  \n",
       "...       ...  \n",
       "81244  2012.0  \n",
       "81308  2012.0  \n",
       "81372  2012.0  \n",
       "81436  2012.0  \n",
       "81500  2012.0  \n",
       "\n",
       "[993 rows x 16 columns]"
      ]
     },
     "execution_count": 105,
     "metadata": {},
     "output_type": "execute_result"
    }
   ],
   "source": [
    "limuru_data.drop_duplicates()\n"
   ]
  },
  {
   "cell_type": "code",
   "execution_count": 106,
   "metadata": {},
   "outputs": [
    {
     "data": {
      "text/plain": [
       "DATE         0\n",
       "CODE         0\n",
       "NAME         0\n",
       "12m Low      0\n",
       "12m High     0\n",
       "Day Low      0\n",
       "Day High     0\n",
       "Day Price    0\n",
       "Previous     0\n",
       "Change       0\n",
       "Change%      0\n",
       "Volume       0\n",
       "Adjust       0\n",
       "Date         7\n",
       "Adjusted     7\n",
       "Year         0\n",
       "dtype: int64"
      ]
     },
     "execution_count": 106,
     "metadata": {},
     "output_type": "execute_result"
    }
   ],
   "source": [
    "limuru_data.isnull().sum()"
   ]
  },
  {
   "cell_type": "code",
   "execution_count": 107,
   "metadata": {},
   "outputs": [
    {
     "name": "stdout",
     "output_type": "stream",
     "text": [
      "0\n"
     ]
    },
    {
     "name": "stderr",
     "output_type": "stream",
     "text": [
      "C:\\Users\\HP\\AppData\\Local\\Temp\\ipykernel_14196\\2483635251.py:1: FutureWarning: Series.fillna with 'method' is deprecated and will raise in a future version. Use obj.ffill() or obj.bfill() instead.\n",
      "  limuru_data['DATE'] = limuru_data['DATE'].fillna(method='ffill')\n"
     ]
    }
   ],
   "source": [
    "limuru_data['DATE'] = limuru_data['DATE'].fillna(method='ffill')\n",
    "print(limuru_data[\"DATE\"].isnull().sum())"
   ]
  },
  {
   "cell_type": "code",
   "execution_count": 108,
   "metadata": {},
   "outputs": [
    {
     "data": {
      "text/html": [
       "<div>\n",
       "<style scoped>\n",
       "    .dataframe tbody tr th:only-of-type {\n",
       "        vertical-align: middle;\n",
       "    }\n",
       "\n",
       "    .dataframe tbody tr th {\n",
       "        vertical-align: top;\n",
       "    }\n",
       "\n",
       "    .dataframe thead th {\n",
       "        text-align: right;\n",
       "    }\n",
       "</style>\n",
       "<table border=\"1\" class=\"dataframe\">\n",
       "  <thead>\n",
       "    <tr style=\"text-align: right;\">\n",
       "      <th></th>\n",
       "      <th>DATE</th>\n",
       "      <th>CODE</th>\n",
       "      <th>12m Low</th>\n",
       "      <th>12m High</th>\n",
       "      <th>Day Low</th>\n",
       "      <th>Day High</th>\n",
       "      <th>Day Price</th>\n",
       "      <th>Previous</th>\n",
       "      <th>Volume</th>\n",
       "      <th>Year</th>\n",
       "    </tr>\n",
       "  </thead>\n",
       "  <tbody>\n",
       "    <tr>\n",
       "      <th>92</th>\n",
       "      <td>2007-01-04</td>\n",
       "      <td>LIMT</td>\n",
       "      <td>400</td>\n",
       "      <td>500</td>\n",
       "      <td>350</td>\n",
       "      <td>350</td>\n",
       "      <td>350</td>\n",
       "      <td>350</td>\n",
       "      <td>100</td>\n",
       "      <td>2007.0</td>\n",
       "    </tr>\n",
       "    <tr>\n",
       "      <th>1972</th>\n",
       "      <td>2007-03-06</td>\n",
       "      <td>LIMT</td>\n",
       "      <td>400</td>\n",
       "      <td>500</td>\n",
       "      <td>400</td>\n",
       "      <td>400</td>\n",
       "      <td>400</td>\n",
       "      <td>350</td>\n",
       "      <td>100</td>\n",
       "      <td>2007.0</td>\n",
       "    </tr>\n",
       "    <tr>\n",
       "      <th>2263</th>\n",
       "      <td>2007-03-15</td>\n",
       "      <td>LIMT</td>\n",
       "      <td>400</td>\n",
       "      <td>500</td>\n",
       "      <td>400</td>\n",
       "      <td>400</td>\n",
       "      <td>400</td>\n",
       "      <td>400</td>\n",
       "      <td>500</td>\n",
       "      <td>2007.0</td>\n",
       "    </tr>\n",
       "    <tr>\n",
       "      <th>2305</th>\n",
       "      <td>2007-03-16</td>\n",
       "      <td>LIMT</td>\n",
       "      <td>400</td>\n",
       "      <td>500</td>\n",
       "      <td>400</td>\n",
       "      <td>400</td>\n",
       "      <td>400</td>\n",
       "      <td>400</td>\n",
       "      <td>100</td>\n",
       "      <td>2007.0</td>\n",
       "    </tr>\n",
       "    <tr>\n",
       "      <th>2428</th>\n",
       "      <td>2007-03-21</td>\n",
       "      <td>LIMT</td>\n",
       "      <td>400</td>\n",
       "      <td>500</td>\n",
       "      <td>400</td>\n",
       "      <td>400</td>\n",
       "      <td>400</td>\n",
       "      <td>400</td>\n",
       "      <td>100</td>\n",
       "      <td>2007.0</td>\n",
       "    </tr>\n",
       "    <tr>\n",
       "      <th>...</th>\n",
       "      <td>...</td>\n",
       "      <td>...</td>\n",
       "      <td>...</td>\n",
       "      <td>...</td>\n",
       "      <td>...</td>\n",
       "      <td>...</td>\n",
       "      <td>...</td>\n",
       "      <td>...</td>\n",
       "      <td>...</td>\n",
       "      <td>...</td>\n",
       "    </tr>\n",
       "    <tr>\n",
       "      <th>81244</th>\n",
       "      <td>2012-12-21</td>\n",
       "      <td>LIMT</td>\n",
       "      <td>400</td>\n",
       "      <td>500</td>\n",
       "      <td>430</td>\n",
       "      <td>430</td>\n",
       "      <td>430</td>\n",
       "      <td>430</td>\n",
       "      <td>0</td>\n",
       "      <td>2012.0</td>\n",
       "    </tr>\n",
       "    <tr>\n",
       "      <th>81308</th>\n",
       "      <td>2012-12-24</td>\n",
       "      <td>LIMT</td>\n",
       "      <td>400</td>\n",
       "      <td>500</td>\n",
       "      <td>430</td>\n",
       "      <td>430</td>\n",
       "      <td>430</td>\n",
       "      <td>430</td>\n",
       "      <td>0</td>\n",
       "      <td>2012.0</td>\n",
       "    </tr>\n",
       "    <tr>\n",
       "      <th>81372</th>\n",
       "      <td>2012-12-27</td>\n",
       "      <td>LIMT</td>\n",
       "      <td>400</td>\n",
       "      <td>500</td>\n",
       "      <td>430</td>\n",
       "      <td>430</td>\n",
       "      <td>430</td>\n",
       "      <td>430</td>\n",
       "      <td>0</td>\n",
       "      <td>2012.0</td>\n",
       "    </tr>\n",
       "    <tr>\n",
       "      <th>81436</th>\n",
       "      <td>2012-12-28</td>\n",
       "      <td>LIMT</td>\n",
       "      <td>400</td>\n",
       "      <td>500</td>\n",
       "      <td>430</td>\n",
       "      <td>430</td>\n",
       "      <td>430</td>\n",
       "      <td>430</td>\n",
       "      <td>0</td>\n",
       "      <td>2012.0</td>\n",
       "    </tr>\n",
       "    <tr>\n",
       "      <th>81500</th>\n",
       "      <td>2012-12-31</td>\n",
       "      <td>LIMT</td>\n",
       "      <td>400</td>\n",
       "      <td>500</td>\n",
       "      <td>430</td>\n",
       "      <td>430</td>\n",
       "      <td>430</td>\n",
       "      <td>430</td>\n",
       "      <td>0</td>\n",
       "      <td>2012.0</td>\n",
       "    </tr>\n",
       "  </tbody>\n",
       "</table>\n",
       "<p>995 rows × 10 columns</p>\n",
       "</div>"
      ],
      "text/plain": [
       "            DATE  CODE 12m Low 12m High Day Low Day High Day Price Previous  \\\n",
       "92    2007-01-04  LIMT     400      500     350      350       350      350   \n",
       "1972  2007-03-06  LIMT     400      500     400      400       400      350   \n",
       "2263  2007-03-15  LIMT     400      500     400      400       400      400   \n",
       "2305  2007-03-16  LIMT     400      500     400      400       400      400   \n",
       "2428  2007-03-21  LIMT     400      500     400      400       400      400   \n",
       "...          ...   ...     ...      ...     ...      ...       ...      ...   \n",
       "81244 2012-12-21  LIMT     400      500     430      430       430      430   \n",
       "81308 2012-12-24  LIMT     400      500     430      430       430      430   \n",
       "81372 2012-12-27  LIMT     400      500     430      430       430      430   \n",
       "81436 2012-12-28  LIMT     400      500     430      430       430      430   \n",
       "81500 2012-12-31  LIMT     400      500     430      430       430      430   \n",
       "\n",
       "      Volume    Year  \n",
       "92       100  2007.0  \n",
       "1972     100  2007.0  \n",
       "2263     500  2007.0  \n",
       "2305     100  2007.0  \n",
       "2428     100  2007.0  \n",
       "...      ...     ...  \n",
       "81244      0  2012.0  \n",
       "81308      0  2012.0  \n",
       "81372      0  2012.0  \n",
       "81436      0  2012.0  \n",
       "81500      0  2012.0  \n",
       "\n",
       "[995 rows x 10 columns]"
      ]
     },
     "execution_count": 108,
     "metadata": {},
     "output_type": "execute_result"
    }
   ],
   "source": [
    "columns_to_drop = ['Date','Change','Change%','Adjust', 'Adjusted','NAME']\n",
    "limuru_data = limuru_data.drop(columns=columns_to_drop)\n",
    "limuru_data"
   ]
  },
  {
   "cell_type": "code",
   "execution_count": 109,
   "metadata": {},
   "outputs": [
    {
     "data": {
      "text/plain": [
       "DATE         0\n",
       "CODE         0\n",
       "12m Low      0\n",
       "12m High     0\n",
       "Day Low      0\n",
       "Day High     0\n",
       "Day Price    0\n",
       "Previous     0\n",
       "Volume       0\n",
       "Year         0\n",
       "dtype: int64"
      ]
     },
     "execution_count": 109,
     "metadata": {},
     "output_type": "execute_result"
    }
   ],
   "source": [
    "limuru_data.isnull().sum()"
   ]
  },
  {
   "cell_type": "code",
   "execution_count": 110,
   "metadata": {},
   "outputs": [],
   "source": [
    "limuru_data['Previous'] = limuru_data['Previous'].fillna(limuru_data['Day Price'])"
   ]
  },
  {
   "cell_type": "code",
   "execution_count": 111,
   "metadata": {},
   "outputs": [
    {
     "name": "stdout",
     "output_type": "stream",
     "text": [
      "<class 'pandas.core.frame.DataFrame'>\n",
      "Index: 995 entries, 92 to 81500\n",
      "Data columns (total 10 columns):\n",
      " #   Column     Non-Null Count  Dtype         \n",
      "---  ------     --------------  -----         \n",
      " 0   DATE       995 non-null    datetime64[ns]\n",
      " 1   CODE       995 non-null    object        \n",
      " 2   12m Low    995 non-null    int64         \n",
      " 3   12m High   995 non-null    int64         \n",
      " 4   Day Low    995 non-null    int64         \n",
      " 5   Day High   995 non-null    int64         \n",
      " 6   Day Price  995 non-null    int64         \n",
      " 7   Previous   995 non-null    int64         \n",
      " 8   Volume     995 non-null    int64         \n",
      " 9   Year       995 non-null    float64       \n",
      "dtypes: datetime64[ns](1), float64(1), int64(7), object(1)\n",
      "memory usage: 85.5+ KB\n"
     ]
    }
   ],
   "source": [
    "numeric_columns = ['12m Low', '12m High', 'Day Low', 'Day High', 'Day Price',\n",
    "                    'Previous','Volume']\n",
    "for col in numeric_columns:\n",
    "    limuru_data[col] = pd.to_numeric(\n",
    "        limuru_data[col].replace('[^0-9.-]', '', regex=True), errors='coerce'\n",
    "    )\n",
    "limuru_data.info()"
   ]
  },
  {
   "cell_type": "markdown",
   "metadata": {},
   "source": [
    "## **Data Visualization: Trends Present in Limuru Stock Price** 📈  \n",
    "\n",
    "Now that we have our dataset cleaned and preprocessed, we can analyze the distribution of stock prices, time series trends, and other related graphs to visualize the data effectively.  \n"
   ]
  },
  {
   "cell_type": "code",
   "execution_count": 112,
   "metadata": {},
   "outputs": [],
   "source": [
    "import matplotlib.pyplot as plt\n",
    "import seaborn as sns"
   ]
  },
  {
   "cell_type": "code",
   "execution_count": 113,
   "metadata": {},
   "outputs": [],
   "source": [
    "fig_size = (15, 6)"
   ]
  },
  {
   "cell_type": "markdown",
   "metadata": {},
   "source": [
    "###  Box Plot for Price Distribution\n",
    "---"
   ]
  },
  {
   "cell_type": "code",
   "execution_count": 114,
   "metadata": {},
   "outputs": [
    {
     "data": {
      "image/png": "[encoded data removed]",
      "text/plain": [
       "<Figure size 1500x600 with 1 Axes>"
      ]
     },
     "metadata": {},
     "output_type": "display_data"
    }
   ],
   "source": [
    "plt.figure(figsize=fig_size)\n",
    "sns.boxplot(y=limuru_data['Day Price'])\n",
    "plt.title('Box Plot of Day Prices')\n",
    "plt.ylabel('Stock Price')\n",
    "plt.tight_layout()\n",
    "plt.show()"
   ]
  },
  {
   "cell_type": "code",
   "execution_count": 115,
   "metadata": {},
   "outputs": [
    {
     "data": {
      "image/png": "[encoded data removed]",
      "text/plain": [
       "<Figure size 1500x600 with 1 Axes>"
      ]
     },
     "metadata": {},
     "output_type": "display_data"
    }
   ],
   "source": [
    "plt.figure(figsize=fig_size)\n",
    "sns.boxplot(y=limuru_data['Day High'])\n",
    "plt.title('Box Plot of Day High')\n",
    "plt.ylabel('Stock Price')\n",
    "plt.tight_layout()\n",
    "plt.show()"
   ]
  },
  {
   "cell_type": "code",
   "execution_count": 116,
   "metadata": {},
   "outputs": [
    {
     "data": {
      "image/png": "[encoded data removed]",
      "text/plain": [
       "<Figure size 1500x600 with 1 Axes>"
      ]
     },
     "metadata": {},
     "output_type": "display_data"
    }
   ],
   "source": [
    "plt.figure(figsize=fig_size)\n",
    "sns.boxplot(y=limuru_data['Day Low'])\n",
    "plt.title('Winsorized Boxplot Plot of Day Low')\n",
    "plt.ylabel('Stock Price')\n",
    "plt.tight_layout()\n",
    "plt.show()"
   ]
  },
  {
   "cell_type": "markdown",
   "metadata": {},
   "source": [
    "### Handling Outliers.\n",
    "---"
   ]
  },
  {
   "cell_type": "code",
   "execution_count": 117,
   "metadata": {},
   "outputs": [],
   "source": [
    "from scipy.stats import mstats"
   ]
  },
  {
   "cell_type": "code",
   "execution_count": 118,
   "metadata": {},
   "outputs": [
    {
     "name": "stdout",
     "output_type": "stream",
     "text": [
      "Outliers have been handled using winsorization.\n",
      "🔍 Summary Statistics After Handling Outliers:\n",
      "        Day Price    Day High     Day Low  12m High  12m Low\n",
      "count  995.000000  995.000000  995.000000     995.0    995.0\n",
      "mean   330.084422  330.133668  330.008040     500.0    400.0\n",
      "std     39.871813   39.894166   39.832293       0.0      0.0\n",
      "min    300.000000  300.000000  300.000000     500.0    400.0\n",
      "25%    300.000000  300.000000  300.000000     500.0    400.0\n",
      "50%    305.000000  305.000000  305.000000     500.0    400.0\n",
      "75%    356.000000  356.000000  356.000000     500.0    400.0\n",
      "max    400.000000  400.000000  400.000000     500.0    400.0\n"
     ]
    }
   ],
   "source": [
    "def handle_outliers(data, columns, limits=(0.05, 0.05)):\n",
    "    for col in columns:\n",
    "        data[col] = mstats.winsorize(data[col], limits=limits)\n",
    "    return data\n",
    "numeric_columns = ['Day Price', 'Day High', 'Day Low', '12m High', '12m Low']\n",
    "\n",
    "limuru_data = handle_outliers(limuru_data, numeric_columns, limits=(0.2, 0.2))\n",
    "\n",
    "print(\"Outliers have been handled using winsorization.\")\n",
    "\n",
    "# Summary statistics after handling outliers\n",
    "print(\"🔍 Summary Statistics After Handling Outliers:\")\n",
    "print(limuru_data[numeric_columns].describe())\n"
   ]
  },
  {
   "cell_type": "code",
   "execution_count": 119,
   "metadata": {},
   "outputs": [
    {
     "data": {
      "image/png": "[encoded data removed]",
      "text/plain": [
       "<Figure size 1500x600 with 1 Axes>"
      ]
     },
     "metadata": {},
     "output_type": "display_data"
    }
   ],
   "source": [
    "plt.figure(figsize=fig_size)\n",
    "sns.boxplot(y=limuru_data['Day High'])\n",
    "plt.title('Winsorized Boxplot Plot of Day High')\n",
    "plt.ylabel('Stock Price')\n",
    "plt.tight_layout()\n",
    "plt.show()"
   ]
  },
  {
   "cell_type": "code",
   "execution_count": 120,
   "metadata": {},
   "outputs": [
    {
     "data": {
      "image/png": "[encoded data removed]",
      "text/plain": [
       "<Figure size 1500x600 with 1 Axes>"
      ]
     },
     "metadata": {},
     "output_type": "display_data"
    }
   ],
   "source": [
    "plt.figure(figsize=fig_size)\n",
    "sns.boxplot(y=limuru_data['Day Price'])\n",
    "plt.title('Winsorized Boxplot Plot of Day Prices')\n",
    "plt.ylabel('Stock Price')\n",
    "plt.tight_layout()\n",
    "plt.show()"
   ]
  },
  {
   "cell_type": "code",
   "execution_count": 121,
   "metadata": {},
   "outputs": [
    {
     "data": {
      "image/png": "[encoded data removed]",
      "text/plain": [
       "<Figure size 1500x600 with 1 Axes>"
      ]
     },
     "metadata": {},
     "output_type": "display_data"
    }
   ],
   "source": [
    "plt.figure(figsize=fig_size)\n",
    "sns.boxplot(y=limuru_data['Day Low'])\n",
    "plt.title('Winsorized Boxplot Plot of Day Low')\n",
    "plt.ylabel('Stock Price')\n",
    "plt.tight_layout()\n",
    "plt.show()"
   ]
  },
  {
   "cell_type": "markdown",
   "metadata": {},
   "source": [
    "###  Distribution of Stock Prices\n",
    "\n",
    "---"
   ]
  },
  {
   "cell_type": "code",
   "execution_count": 122,
   "metadata": {},
   "outputs": [
    {
     "data": {
      "image/png": "[encoded data removed]",
      "text/plain": [
       "<Figure size 1500x600 with 1 Axes>"
      ]
     },
     "metadata": {},
     "output_type": "display_data"
    }
   ],
   "source": [
    "plt.figure(figsize=fig_size)\n",
    "sns.histplot(data=limuru_data, x='Day Price', kde=True)\n",
    "plt.title('Distribution of Limuru Stock Day Prices')\n",
    "plt.xlabel('Stock Price')\n",
    "plt.ylabel('Frequency')\n",
    "plt.tight_layout()\n",
    "plt.show()"
   ]
  },
  {
   "cell_type": "code",
   "execution_count": 123,
   "metadata": {},
   "outputs": [
    {
     "data": {
      "image/png": "[encoded data removed]",
      "text/plain": [
       "<Figure size 1500x600 with 1 Axes>"
      ]
     },
     "metadata": {},
     "output_type": "display_data"
    }
   ],
   "source": [
    "plt.figure(figsize=fig_size)\n",
    "plt.plot(limuru_data['DATE'], limuru_data['Day Price'], label='Day Price', color='Red')\n",
    "plt.title('Trend of Day Price for Limuru')\n",
    "plt.xlabel('DATE')\n",
    "plt.ylabel('Day Price')\n",
    "plt.legend()\n",
    "plt.grid()\n",
    "plt.show()\n"
   ]
  },
  {
   "cell_type": "markdown",
   "metadata": {},
   "source": [
    "### 🚀 **Training and Testing Data: The Journey Begins** 🧑‍🏫\n",
    "\n",
    "Now that we have our dataset cleaned and preprocessed, it's time to move on to —**Training** and **Testing** our model! 🎯\n",
    "\n",
    "---\n",
    "\n",
    "\n"
   ]
  },
  {
   "cell_type": "code",
   "execution_count": 124,
   "metadata": {},
   "outputs": [],
   "source": [
    "from sklearn.model_selection import train_test_split\n",
    "from sklearn.preprocessing import LabelEncoder, StandardScaler"
   ]
  },
  {
   "cell_type": "markdown",
   "metadata": {},
   "source": [
    "#### Data Encoding.\n",
    "---"
   ]
  },
  {
   "cell_type": "code",
   "execution_count": 125,
   "metadata": {},
   "outputs": [
    {
     "name": "stdout",
     "output_type": "stream",
     "text": [
      "<class 'pandas.core.frame.DataFrame'>\n",
      "Index: 995 entries, 92 to 81500\n",
      "Data columns (total 10 columns):\n",
      " #   Column     Non-Null Count  Dtype         \n",
      "---  ------     --------------  -----         \n",
      " 0   DATE       995 non-null    datetime64[ns]\n",
      " 1   CODE       995 non-null    int32         \n",
      " 2   12m Low    995 non-null    int64         \n",
      " 3   12m High   995 non-null    int64         \n",
      " 4   Day Low    995 non-null    int64         \n",
      " 5   Day High   995 non-null    int64         \n",
      " 6   Day Price  995 non-null    int64         \n",
      " 7   Previous   995 non-null    int64         \n",
      " 8   Volume     995 non-null    int64         \n",
      " 9   Year       995 non-null    float64       \n",
      "dtypes: datetime64[ns](1), float64(1), int32(1), int64(7)\n",
      "memory usage: 81.6 KB\n"
     ]
    }
   ],
   "source": [
    "label_encoder = LabelEncoder()\n",
    "limuru_data['CODE'] = label_encoder.fit_transform(limuru_data['CODE'])\n",
    "limuru_data.info()"
   ]
  },
  {
   "cell_type": "markdown",
   "metadata": {},
   "source": [
    "#### Data Feature Scaling Process ⚖️  \n",
    "---  "
   ]
  },
  {
   "cell_type": "code",
   "execution_count": 126,
   "metadata": {},
   "outputs": [
    {
     "data": {
      "text/html": [
       "<div>\n",
       "<style scoped>\n",
       "    .dataframe tbody tr th:only-of-type {\n",
       "        vertical-align: middle;\n",
       "    }\n",
       "\n",
       "    .dataframe tbody tr th {\n",
       "        vertical-align: top;\n",
       "    }\n",
       "\n",
       "    .dataframe thead th {\n",
       "        text-align: right;\n",
       "    }\n",
       "</style>\n",
       "<table border=\"1\" class=\"dataframe\">\n",
       "  <thead>\n",
       "    <tr style=\"text-align: right;\">\n",
       "      <th></th>\n",
       "      <th>12m Low</th>\n",
       "      <th>12m High</th>\n",
       "      <th>Day Low</th>\n",
       "      <th>Day High</th>\n",
       "      <th>Day Price</th>\n",
       "      <th>Previous</th>\n",
       "      <th>Volume</th>\n",
       "      <th>Year</th>\n",
       "    </tr>\n",
       "  </thead>\n",
       "  <tbody>\n",
       "    <tr>\n",
       "      <th>92</th>\n",
       "      <td>0.0</td>\n",
       "      <td>0.0</td>\n",
       "      <td>0.502156</td>\n",
       "      <td>0.498226</td>\n",
       "      <td>0.499741</td>\n",
       "      <td>0.223543</td>\n",
       "      <td>-0.090083</td>\n",
       "      <td>-2.992797</td>\n",
       "    </tr>\n",
       "    <tr>\n",
       "      <th>1972</th>\n",
       "      <td>0.0</td>\n",
       "      <td>0.0</td>\n",
       "      <td>1.758050</td>\n",
       "      <td>1.752173</td>\n",
       "      <td>1.754391</td>\n",
       "      <td>0.223543</td>\n",
       "      <td>-0.090083</td>\n",
       "      <td>-2.992797</td>\n",
       "    </tr>\n",
       "    <tr>\n",
       "      <th>2263</th>\n",
       "      <td>0.0</td>\n",
       "      <td>0.0</td>\n",
       "      <td>1.758050</td>\n",
       "      <td>1.752173</td>\n",
       "      <td>1.754391</td>\n",
       "      <td>1.133407</td>\n",
       "      <td>-0.014171</td>\n",
       "      <td>-2.992797</td>\n",
       "    </tr>\n",
       "    <tr>\n",
       "      <th>2305</th>\n",
       "      <td>0.0</td>\n",
       "      <td>0.0</td>\n",
       "      <td>1.758050</td>\n",
       "      <td>1.752173</td>\n",
       "      <td>1.754391</td>\n",
       "      <td>1.133407</td>\n",
       "      <td>-0.090083</td>\n",
       "      <td>-2.992797</td>\n",
       "    </tr>\n",
       "    <tr>\n",
       "      <th>2428</th>\n",
       "      <td>0.0</td>\n",
       "      <td>0.0</td>\n",
       "      <td>1.758050</td>\n",
       "      <td>1.752173</td>\n",
       "      <td>1.754391</td>\n",
       "      <td>1.133407</td>\n",
       "      <td>-0.090083</td>\n",
       "      <td>-2.992797</td>\n",
       "    </tr>\n",
       "    <tr>\n",
       "      <th>2632</th>\n",
       "      <td>0.0</td>\n",
       "      <td>0.0</td>\n",
       "      <td>1.758050</td>\n",
       "      <td>1.752173</td>\n",
       "      <td>1.754391</td>\n",
       "      <td>1.133407</td>\n",
       "      <td>-0.090083</td>\n",
       "      <td>-2.992797</td>\n",
       "    </tr>\n",
       "    <tr>\n",
       "      <th>5699</th>\n",
       "      <td>0.0</td>\n",
       "      <td>0.0</td>\n",
       "      <td>1.130103</td>\n",
       "      <td>1.125199</td>\n",
       "      <td>1.127066</td>\n",
       "      <td>1.133407</td>\n",
       "      <td>-0.052127</td>\n",
       "      <td>-2.992797</td>\n",
       "    </tr>\n",
       "    <tr>\n",
       "      <th>12601</th>\n",
       "      <td>0.0</td>\n",
       "      <td>0.0</td>\n",
       "      <td>0.200741</td>\n",
       "      <td>0.197279</td>\n",
       "      <td>0.198625</td>\n",
       "      <td>0.678475</td>\n",
       "      <td>-0.090083</td>\n",
       "      <td>-2.992797</td>\n",
       "    </tr>\n",
       "    <tr>\n",
       "      <th>16457</th>\n",
       "      <td>0.0</td>\n",
       "      <td>0.0</td>\n",
       "      <td>0.200741</td>\n",
       "      <td>0.197279</td>\n",
       "      <td>0.198625</td>\n",
       "      <td>0.005176</td>\n",
       "      <td>-0.090083</td>\n",
       "      <td>-2.992797</td>\n",
       "    </tr>\n",
       "    <tr>\n",
       "      <th>18946</th>\n",
       "      <td>0.0</td>\n",
       "      <td>0.0</td>\n",
       "      <td>0.200741</td>\n",
       "      <td>0.197279</td>\n",
       "      <td>0.198625</td>\n",
       "      <td>0.005176</td>\n",
       "      <td>-0.090083</td>\n",
       "      <td>-2.992797</td>\n",
       "    </tr>\n",
       "    <tr>\n",
       "      <th>19155</th>\n",
       "      <td>0.0</td>\n",
       "      <td>0.0</td>\n",
       "      <td>0.200741</td>\n",
       "      <td>0.197279</td>\n",
       "      <td>0.198625</td>\n",
       "      <td>0.005176</td>\n",
       "      <td>-0.071105</td>\n",
       "      <td>-2.992797</td>\n",
       "    </tr>\n",
       "    <tr>\n",
       "      <th>20537</th>\n",
       "      <td>0.0</td>\n",
       "      <td>0.0</td>\n",
       "      <td>-0.628149</td>\n",
       "      <td>-0.630325</td>\n",
       "      <td>-0.629443</td>\n",
       "      <td>0.005176</td>\n",
       "      <td>-0.071105</td>\n",
       "      <td>-2.992797</td>\n",
       "    </tr>\n",
       "    <tr>\n",
       "      <th>22123</th>\n",
       "      <td>0.0</td>\n",
       "      <td>0.0</td>\n",
       "      <td>-0.628149</td>\n",
       "      <td>-0.630325</td>\n",
       "      <td>-0.629443</td>\n",
       "      <td>-0.595335</td>\n",
       "      <td>-0.109061</td>\n",
       "      <td>-1.277455</td>\n",
       "    </tr>\n",
       "    <tr>\n",
       "      <th>22182</th>\n",
       "      <td>0.0</td>\n",
       "      <td>0.0</td>\n",
       "      <td>-0.628149</td>\n",
       "      <td>-0.630325</td>\n",
       "      <td>-0.629443</td>\n",
       "      <td>-0.595335</td>\n",
       "      <td>-0.109061</td>\n",
       "      <td>-1.277455</td>\n",
       "    </tr>\n",
       "    <tr>\n",
       "      <th>22241</th>\n",
       "      <td>0.0</td>\n",
       "      <td>0.0</td>\n",
       "      <td>-0.628149</td>\n",
       "      <td>-0.630325</td>\n",
       "      <td>-0.629443</td>\n",
       "      <td>-0.595335</td>\n",
       "      <td>-0.109061</td>\n",
       "      <td>-1.277455</td>\n",
       "    </tr>\n",
       "  </tbody>\n",
       "</table>\n",
       "</div>"
      ],
      "text/plain": [
       "       12m Low  12m High   Day Low  Day High  Day Price  Previous    Volume  \\\n",
       "92         0.0       0.0  0.502156  0.498226   0.499741  0.223543 -0.090083   \n",
       "1972       0.0       0.0  1.758050  1.752173   1.754391  0.223543 -0.090083   \n",
       "2263       0.0       0.0  1.758050  1.752173   1.754391  1.133407 -0.014171   \n",
       "2305       0.0       0.0  1.758050  1.752173   1.754391  1.133407 -0.090083   \n",
       "2428       0.0       0.0  1.758050  1.752173   1.754391  1.133407 -0.090083   \n",
       "2632       0.0       0.0  1.758050  1.752173   1.754391  1.133407 -0.090083   \n",
       "5699       0.0       0.0  1.130103  1.125199   1.127066  1.133407 -0.052127   \n",
       "12601      0.0       0.0  0.200741  0.197279   0.198625  0.678475 -0.090083   \n",
       "16457      0.0       0.0  0.200741  0.197279   0.198625  0.005176 -0.090083   \n",
       "18946      0.0       0.0  0.200741  0.197279   0.198625  0.005176 -0.090083   \n",
       "19155      0.0       0.0  0.200741  0.197279   0.198625  0.005176 -0.071105   \n",
       "20537      0.0       0.0 -0.628149 -0.630325  -0.629443  0.005176 -0.071105   \n",
       "22123      0.0       0.0 -0.628149 -0.630325  -0.629443 -0.595335 -0.109061   \n",
       "22182      0.0       0.0 -0.628149 -0.630325  -0.629443 -0.595335 -0.109061   \n",
       "22241      0.0       0.0 -0.628149 -0.630325  -0.629443 -0.595335 -0.109061   \n",
       "\n",
       "           Year  \n",
       "92    -2.992797  \n",
       "1972  -2.992797  \n",
       "2263  -2.992797  \n",
       "2305  -2.992797  \n",
       "2428  -2.992797  \n",
       "2632  -2.992797  \n",
       "5699  -2.992797  \n",
       "12601 -2.992797  \n",
       "16457 -2.992797  \n",
       "18946 -2.992797  \n",
       "19155 -2.992797  \n",
       "20537 -2.992797  \n",
       "22123 -1.277455  \n",
       "22182 -1.277455  \n",
       "22241 -1.277455  "
      ]
     },
     "execution_count": 126,
     "metadata": {},
     "output_type": "execute_result"
    }
   ],
   "source": [
    "numeric_columns = limuru_data.select_dtypes(include=['float64', 'int64']).columns\n",
    "\n",
    "scaler = StandardScaler()\n",
    "limuru_data[numeric_columns] = scaler.fit_transform(limuru_data[numeric_columns])\n",
    "\n",
    "# Verify the scaled features\n",
    "limuru_data[numeric_columns].head(15)"
   ]
  },
  {
   "cell_type": "markdown",
   "metadata": {},
   "source": [
    "#### Train-Test Split Process ✂️  \n",
    "---  "
   ]
  },
  {
   "cell_type": "code",
   "execution_count": 127,
   "metadata": {},
   "outputs": [
    {
     "name": "stdout",
     "output_type": "stream",
     "text": [
      "The total number of rows in 'Day Price' is: 995\n"
     ]
    }
   ],
   "source": [
    "data_size = limuru_data['Day Price'].size\n",
    "print(f\"The total number of rows in 'Day Price' is: {data_size}\")\n"
   ]
  },
  {
   "cell_type": "code",
   "execution_count": 128,
   "metadata": {},
   "outputs": [],
   "source": [
    "X = limuru_data.drop(columns=['Day Price', 'DATE']) \n",
    "y = limuru_data['Day Price'] \n",
    "X_train, X_test, y_train, y_test = train_test_split(X, y, test_size=0.2, random_state=42)"
   ]
  },
  {
   "cell_type": "code",
   "execution_count": 129,
   "metadata": {},
   "outputs": [
    {
     "name": "stdout",
     "output_type": "stream",
     "text": [
      "Training data (X_train) shape: (796, 8)\n",
      "Testing data (X_test) shape: (199, 8)\n"
     ]
    }
   ],
   "source": [
    "print(f\"Training data (X_train) shape: {X_train.shape}\")\n",
    "print(f\"Testing data (X_test) shape: {X_test.shape}\")\n"
   ]
  },
  {
   "cell_type": "markdown",
   "metadata": {},
   "source": [
    "#### Linear Regression 📉  \n",
    "---  "
   ]
  },
  {
   "cell_type": "code",
   "execution_count": 130,
   "metadata": {},
   "outputs": [],
   "source": [
    "from sklearn.linear_model import LinearRegression\n",
    "from sklearn.metrics import mean_squared_error, r2_score"
   ]
  },
  {
   "cell_type": "code",
   "execution_count": 131,
   "metadata": {},
   "outputs": [
    {
     "data": {
      "text/html": [
       "<style>#sk-container-id-3 {\n",
       "  /* Definition of color scheme common for light and dark mode */\n",
       "  --sklearn-color-text: black;\n",
       "  --sklearn-color-line: gray;\n",
       "  /* Definition of color scheme for unfitted estimators */\n",
       "  --sklearn-color-unfitted-level-0: #fff5e6;\n",
       "  --sklearn-color-unfitted-level-1: #f6e4d2;\n",
       "  --sklearn-color-unfitted-level-2: #ffe0b3;\n",
       "  --sklearn-color-unfitted-level-3: chocolate;\n",
       "  /* Definition of color scheme for fitted estimators */\n",
       "  --sklearn-color-fitted-level-0: #f0f8ff;\n",
       "  --sklearn-color-fitted-level-1: #d4ebff;\n",
       "  --sklearn-color-fitted-level-2: #b3dbfd;\n",
       "  --sklearn-color-fitted-level-3: cornflowerblue;\n",
       "\n",
       "  /* Specific color for light theme */\n",
       "  --sklearn-color-text-on-default-background: var(--sg-text-color, var(--theme-code-foreground, var(--jp-content-font-color1, black)));\n",
       "  --sklearn-color-background: var(--sg-background-color, var(--theme-background, var(--jp-layout-color0, white)));\n",
       "  --sklearn-color-border-box: var(--sg-text-color, var(--theme-code-foreground, var(--jp-content-font-color1, black)));\n",
       "  --sklearn-color-icon: #696969;\n",
       "\n",
       "  @media (prefers-color-scheme: dark) {\n",
       "    /* Redefinition of color scheme for dark theme */\n",
       "    --sklearn-color-text-on-default-background: var(--sg-text-color, var(--theme-code-foreground, var(--jp-content-font-color1, white)));\n",
       "    --sklearn-color-background: var(--sg-background-color, var(--theme-background, var(--jp-layout-color0, #111)));\n",
       "    --sklearn-color-border-box: var(--sg-text-color, var(--theme-code-foreground, var(--jp-content-font-color1, white)));\n",
       "    --sklearn-color-icon: #878787;\n",
       "  }\n",
       "}\n",
       "\n",
       "#sk-container-id-3 {\n",
       "  color: var(--sklearn-color-text);\n",
       "}\n",
       "\n",
       "#sk-container-id-3 pre {\n",
       "  padding: 0;\n",
       "}\n",
       "\n",
       "#sk-container-id-3 input.sk-hidden--visually {\n",
       "  border: 0;\n",
       "  clip: rect(1px 1px 1px 1px);\n",
       "  clip: rect(1px, 1px, 1px, 1px);\n",
       "  height: 1px;\n",
       "  margin: -1px;\n",
       "  overflow: hidden;\n",
       "  padding: 0;\n",
       "  position: absolute;\n",
       "  width: 1px;\n",
       "}\n",
       "\n",
       "#sk-container-id-3 div.sk-dashed-wrapped {\n",
       "  border: 1px dashed var(--sklearn-color-line);\n",
       "  margin: 0 0.4em 0.5em 0.4em;\n",
       "  box-sizing: border-box;\n",
       "  padding-bottom: 0.4em;\n",
       "  background-color: var(--sklearn-color-background);\n",
       "}\n",
       "\n",
       "#sk-container-id-3 div.sk-container {\n",
       "  /* jupyter's `normalize.less` sets `[hidden] { display: none; }`\n",
       "     but bootstrap.min.css set `[hidden] { display: none !important; }`\n",
       "     so we also need the `!important` here to be able to override the\n",
       "     default hidden behavior on the sphinx rendered scikit-learn.org.\n",
       "     See: https://github.com/scikit-learn/scikit-learn/issues/21755 */\n",
       "  display: inline-block !important;\n",
       "  position: relative;\n",
       "}\n",
       "\n",
       "#sk-container-id-3 div.sk-text-repr-fallback {\n",
       "  display: none;\n",
       "}\n",
       "\n",
       "div.sk-parallel-item,\n",
       "div.sk-serial,\n",
       "div.sk-item {\n",
       "  /* draw centered vertical line to link estimators */\n",
       "  background-image: linear-gradient(var(--sklearn-color-text-on-default-background), var(--sklearn-color-text-on-default-background));\n",
       "  background-size: 2px 100%;\n",
       "  background-repeat: no-repeat;\n",
       "  background-position: center center;\n",
       "}\n",
       "\n",
       "/* Parallel-specific style estimator block */\n",
       "\n",
       "#sk-container-id-3 div.sk-parallel-item::after {\n",
       "  content: \"\";\n",
       "  width: 100%;\n",
       "  border-bottom: 2px solid var(--sklearn-color-text-on-default-background);\n",
       "  flex-grow: 1;\n",
       "}\n",
       "\n",
       "#sk-container-id-3 div.sk-parallel {\n",
       "  display: flex;\n",
       "  align-items: stretch;\n",
       "  justify-content: center;\n",
       "  background-color: var(--sklearn-color-background);\n",
       "  position: relative;\n",
       "}\n",
       "\n",
       "#sk-container-id-3 div.sk-parallel-item {\n",
       "  display: flex;\n",
       "  flex-direction: column;\n",
       "}\n",
       "\n",
       "#sk-container-id-3 div.sk-parallel-item:first-child::after {\n",
       "  align-self: flex-end;\n",
       "  width: 50%;\n",
       "}\n",
       "\n",
       "#sk-container-id-3 div.sk-parallel-item:last-child::after {\n",
       "  align-self: flex-start;\n",
       "  width: 50%;\n",
       "}\n",
       "\n",
       "#sk-container-id-3 div.sk-parallel-item:only-child::after {\n",
       "  width: 0;\n",
       "}\n",
       "\n",
       "/* Serial-specific style estimator block */\n",
       "\n",
       "#sk-container-id-3 div.sk-serial {\n",
       "  display: flex;\n",
       "  flex-direction: column;\n",
       "  align-items: center;\n",
       "  background-color: var(--sklearn-color-background);\n",
       "  padding-right: 1em;\n",
       "  padding-left: 1em;\n",
       "}\n",
       "\n",
       "\n",
       "/* Toggleable style: style used for estimator/Pipeline/ColumnTransformer box that is\n",
       "clickable and can be expanded/collapsed.\n",
       "- Pipeline and ColumnTransformer use this feature and define the default style\n",
       "- Estimators will overwrite some part of the style using the `sk-estimator` class\n",
       "*/\n",
       "\n",
       "/* Pipeline and ColumnTransformer style (default) */\n",
       "\n",
       "#sk-container-id-3 div.sk-toggleable {\n",
       "  /* Default theme specific background. It is overwritten whether we have a\n",
       "  specific estimator or a Pipeline/ColumnTransformer */\n",
       "  background-color: var(--sklearn-color-background);\n",
       "}\n",
       "\n",
       "/* Toggleable label */\n",
       "#sk-container-id-3 label.sk-toggleable__label {\n",
       "  cursor: pointer;\n",
       "  display: block;\n",
       "  width: 100%;\n",
       "  margin-bottom: 0;\n",
       "  padding: 0.5em;\n",
       "  box-sizing: border-box;\n",
       "  text-align: center;\n",
       "}\n",
       "\n",
       "#sk-container-id-3 label.sk-toggleable__label-arrow:before {\n",
       "  /* Arrow on the left of the label */\n",
       "  content: \"▸\";\n",
       "  float: left;\n",
       "  margin-right: 0.25em;\n",
       "  color: var(--sklearn-color-icon);\n",
       "}\n",
       "\n",
       "#sk-container-id-3 label.sk-toggleable__label-arrow:hover:before {\n",
       "  color: var(--sklearn-color-text);\n",
       "}\n",
       "\n",
       "/* Toggleable content - dropdown */\n",
       "\n",
       "#sk-container-id-3 div.sk-toggleable__content {\n",
       "  max-height: 0;\n",
       "  max-width: 0;\n",
       "  overflow: hidden;\n",
       "  text-align: left;\n",
       "  /* unfitted */\n",
       "  background-color: var(--sklearn-color-unfitted-level-0);\n",
       "}\n",
       "\n",
       "#sk-container-id-3 div.sk-toggleable__content.fitted {\n",
       "  /* fitted */\n",
       "  background-color: var(--sklearn-color-fitted-level-0);\n",
       "}\n",
       "\n",
       "#sk-container-id-3 div.sk-toggleable__content pre {\n",
       "  margin: 0.2em;\n",
       "  border-radius: 0.25em;\n",
       "  color: var(--sklearn-color-text);\n",
       "  /* unfitted */\n",
       "  background-color: var(--sklearn-color-unfitted-level-0);\n",
       "}\n",
       "\n",
       "#sk-container-id-3 div.sk-toggleable__content.fitted pre {\n",
       "  /* unfitted */\n",
       "  background-color: var(--sklearn-color-fitted-level-0);\n",
       "}\n",
       "\n",
       "#sk-container-id-3 input.sk-toggleable__control:checked~div.sk-toggleable__content {\n",
       "  /* Expand drop-down */\n",
       "  max-height: 200px;\n",
       "  max-width: 100%;\n",
       "  overflow: auto;\n",
       "}\n",
       "\n",
       "#sk-container-id-3 input.sk-toggleable__control:checked~label.sk-toggleable__label-arrow:before {\n",
       "  content: \"▾\";\n",
       "}\n",
       "\n",
       "/* Pipeline/ColumnTransformer-specific style */\n",
       "\n",
       "#sk-container-id-3 div.sk-label input.sk-toggleable__control:checked~label.sk-toggleable__label {\n",
       "  color: var(--sklearn-color-text);\n",
       "  background-color: var(--sklearn-color-unfitted-level-2);\n",
       "}\n",
       "\n",
       "#sk-container-id-3 div.sk-label.fitted input.sk-toggleable__control:checked~label.sk-toggleable__label {\n",
       "  background-color: var(--sklearn-color-fitted-level-2);\n",
       "}\n",
       "\n",
       "/* Estimator-specific style */\n",
       "\n",
       "/* Colorize estimator box */\n",
       "#sk-container-id-3 div.sk-estimator input.sk-toggleable__control:checked~label.sk-toggleable__label {\n",
       "  /* unfitted */\n",
       "  background-color: var(--sklearn-color-unfitted-level-2);\n",
       "}\n",
       "\n",
       "#sk-container-id-3 div.sk-estimator.fitted input.sk-toggleable__control:checked~label.sk-toggleable__label {\n",
       "  /* fitted */\n",
       "  background-color: var(--sklearn-color-fitted-level-2);\n",
       "}\n",
       "\n",
       "#sk-container-id-3 div.sk-label label.sk-toggleable__label,\n",
       "#sk-container-id-3 div.sk-label label {\n",
       "  /* The background is the default theme color */\n",
       "  color: var(--sklearn-color-text-on-default-background);\n",
       "}\n",
       "\n",
       "/* On hover, darken the color of the background */\n",
       "#sk-container-id-3 div.sk-label:hover label.sk-toggleable__label {\n",
       "  color: var(--sklearn-color-text);\n",
       "  background-color: var(--sklearn-color-unfitted-level-2);\n",
       "}\n",
       "\n",
       "/* Label box, darken color on hover, fitted */\n",
       "#sk-container-id-3 div.sk-label.fitted:hover label.sk-toggleable__label.fitted {\n",
       "  color: var(--sklearn-color-text);\n",
       "  background-color: var(--sklearn-color-fitted-level-2);\n",
       "}\n",
       "\n",
       "/* Estimator label */\n",
       "\n",
       "#sk-container-id-3 div.sk-label label {\n",
       "  font-family: monospace;\n",
       "  font-weight: bold;\n",
       "  display: inline-block;\n",
       "  line-height: 1.2em;\n",
       "}\n",
       "\n",
       "#sk-container-id-3 div.sk-label-container {\n",
       "  text-align: center;\n",
       "}\n",
       "\n",
       "/* Estimator-specific */\n",
       "#sk-container-id-3 div.sk-estimator {\n",
       "  font-family: monospace;\n",
       "  border: 1px dotted var(--sklearn-color-border-box);\n",
       "  border-radius: 0.25em;\n",
       "  box-sizing: border-box;\n",
       "  margin-bottom: 0.5em;\n",
       "  /* unfitted */\n",
       "  background-color: var(--sklearn-color-unfitted-level-0);\n",
       "}\n",
       "\n",
       "#sk-container-id-3 div.sk-estimator.fitted {\n",
       "  /* fitted */\n",
       "  background-color: var(--sklearn-color-fitted-level-0);\n",
       "}\n",
       "\n",
       "/* on hover */\n",
       "#sk-container-id-3 div.sk-estimator:hover {\n",
       "  /* unfitted */\n",
       "  background-color: var(--sklearn-color-unfitted-level-2);\n",
       "}\n",
       "\n",
       "#sk-container-id-3 div.sk-estimator.fitted:hover {\n",
       "  /* fitted */\n",
       "  background-color: var(--sklearn-color-fitted-level-2);\n",
       "}\n",
       "\n",
       "/* Specification for estimator info (e.g. \"i\" and \"?\") */\n",
       "\n",
       "/* Common style for \"i\" and \"?\" */\n",
       "\n",
       ".sk-estimator-doc-link,\n",
       "a:link.sk-estimator-doc-link,\n",
       "a:visited.sk-estimator-doc-link {\n",
       "  float: right;\n",
       "  font-size: smaller;\n",
       "  line-height: 1em;\n",
       "  font-family: monospace;\n",
       "  background-color: var(--sklearn-color-background);\n",
       "  border-radius: 1em;\n",
       "  height: 1em;\n",
       "  width: 1em;\n",
       "  text-decoration: none !important;\n",
       "  margin-left: 1ex;\n",
       "  /* unfitted */\n",
       "  border: var(--sklearn-color-unfitted-level-1) 1pt solid;\n",
       "  color: var(--sklearn-color-unfitted-level-1);\n",
       "}\n",
       "\n",
       ".sk-estimator-doc-link.fitted,\n",
       "a:link.sk-estimator-doc-link.fitted,\n",
       "a:visited.sk-estimator-doc-link.fitted {\n",
       "  /* fitted */\n",
       "  border: var(--sklearn-color-fitted-level-1) 1pt solid;\n",
       "  color: var(--sklearn-color-fitted-level-1);\n",
       "}\n",
       "\n",
       "/* On hover */\n",
       "div.sk-estimator:hover .sk-estimator-doc-link:hover,\n",
       ".sk-estimator-doc-link:hover,\n",
       "div.sk-label-container:hover .sk-estimator-doc-link:hover,\n",
       ".sk-estimator-doc-link:hover {\n",
       "  /* unfitted */\n",
       "  background-color: var(--sklearn-color-unfitted-level-3);\n",
       "  color: var(--sklearn-color-background);\n",
       "  text-decoration: none;\n",
       "}\n",
       "\n",
       "div.sk-estimator.fitted:hover .sk-estimator-doc-link.fitted:hover,\n",
       ".sk-estimator-doc-link.fitted:hover,\n",
       "div.sk-label-container:hover .sk-estimator-doc-link.fitted:hover,\n",
       ".sk-estimator-doc-link.fitted:hover {\n",
       "  /* fitted */\n",
       "  background-color: var(--sklearn-color-fitted-level-3);\n",
       "  color: var(--sklearn-color-background);\n",
       "  text-decoration: none;\n",
       "}\n",
       "\n",
       "/* Span, style for the box shown on hovering the info icon */\n",
       ".sk-estimator-doc-link span {\n",
       "  display: none;\n",
       "  z-index: 9999;\n",
       "  position: relative;\n",
       "  font-weight: normal;\n",
       "  right: .2ex;\n",
       "  padding: .5ex;\n",
       "  margin: .5ex;\n",
       "  width: min-content;\n",
       "  min-width: 20ex;\n",
       "  max-width: 50ex;\n",
       "  color: var(--sklearn-color-text);\n",
       "  box-shadow: 2pt 2pt 4pt #999;\n",
       "  /* unfitted */\n",
       "  background: var(--sklearn-color-unfitted-level-0);\n",
       "  border: .5pt solid var(--sklearn-color-unfitted-level-3);\n",
       "}\n",
       "\n",
       ".sk-estimator-doc-link.fitted span {\n",
       "  /* fitted */\n",
       "  background: var(--sklearn-color-fitted-level-0);\n",
       "  border: var(--sklearn-color-fitted-level-3);\n",
       "}\n",
       "\n",
       ".sk-estimator-doc-link:hover span {\n",
       "  display: block;\n",
       "}\n",
       "\n",
       "/* \"?\"-specific style due to the `<a>` HTML tag */\n",
       "\n",
       "#sk-container-id-3 a.estimator_doc_link {\n",
       "  float: right;\n",
       "  font-size: 1rem;\n",
       "  line-height: 1em;\n",
       "  font-family: monospace;\n",
       "  background-color: var(--sklearn-color-background);\n",
       "  border-radius: 1rem;\n",
       "  height: 1rem;\n",
       "  width: 1rem;\n",
       "  text-decoration: none;\n",
       "  /* unfitted */\n",
       "  color: var(--sklearn-color-unfitted-level-1);\n",
       "  border: var(--sklearn-color-unfitted-level-1) 1pt solid;\n",
       "}\n",
       "\n",
       "#sk-container-id-3 a.estimator_doc_link.fitted {\n",
       "  /* fitted */\n",
       "  border: var(--sklearn-color-fitted-level-1) 1pt solid;\n",
       "  color: var(--sklearn-color-fitted-level-1);\n",
       "}\n",
       "\n",
       "/* On hover */\n",
       "#sk-container-id-3 a.estimator_doc_link:hover {\n",
       "  /* unfitted */\n",
       "  background-color: var(--sklearn-color-unfitted-level-3);\n",
       "  color: var(--sklearn-color-background);\n",
       "  text-decoration: none;\n",
       "}\n",
       "\n",
       "#sk-container-id-3 a.estimator_doc_link.fitted:hover {\n",
       "  /* fitted */\n",
       "  background-color: var(--sklearn-color-fitted-level-3);\n",
       "}\n",
       "</style><div id=\"sk-container-id-3\" class=\"sk-top-container\"><div class=\"sk-text-repr-fallback\"><pre>LinearRegression()</pre><b>In a Jupyter environment, please rerun this cell to show the HTML representation or trust the notebook. <br />On GitHub, the HTML representation is unable to render, please try loading this page with nbviewer.org.</b></div><div class=\"sk-container\" hidden><div class=\"sk-item\"><div class=\"sk-estimator fitted sk-toggleable\"><input class=\"sk-toggleable__control sk-hidden--visually\" id=\"sk-estimator-id-3\" type=\"checkbox\" checked><label for=\"sk-estimator-id-3\" class=\"sk-toggleable__label fitted sk-toggleable__label-arrow fitted\">&nbsp;&nbsp;LinearRegression<a class=\"sk-estimator-doc-link fitted\" rel=\"noreferrer\" target=\"_blank\" href=\"https://scikit-learn.org/1.5/modules/generated/sklearn.linear_model.LinearRegression.html\">?<span>Documentation for LinearRegression</span></a><span class=\"sk-estimator-doc-link fitted\">i<span>Fitted</span></span></label><div class=\"sk-toggleable__content fitted\"><pre>LinearRegression()</pre></div> </div></div></div></div>"
      ],
      "text/plain": [
       "LinearRegression()"
      ]
     },
     "execution_count": 131,
     "metadata": {},
     "output_type": "execute_result"
    }
   ],
   "source": [
    "model_one = LinearRegression()\n",
    "model_one.fit(X_train,y_train)\n"
   ]
  },
  {
   "cell_type": "markdown",
   "metadata": {},
   "source": [
    "##### Predict on Training Data.\n",
    "---"
   ]
  },
  {
   "cell_type": "code",
   "execution_count": 132,
   "metadata": {},
   "outputs": [
    {
     "name": "stdout",
     "output_type": "stream",
     "text": [
      "Mean Squared Error (MSE): 6.745574025847618e-05\n",
      "R-squared (R²) Score: 0.9999330981251041\n"
     ]
    }
   ],
   "source": [
    "y_train_pred = model_one.predict(X_train)\n",
    "train_mse = mean_squared_error(y_train, y_train_pred)\n",
    "r2_train = r2_score(y_train,y_train_pred)\n",
    "print(\"Mean Squared Error (MSE):\", train_mse)\n",
    "print(\"R-squared (R²) Score:\", r2_train)"
   ]
  },
  {
   "cell_type": "markdown",
   "metadata": {},
   "source": [
    "##### Predict on Test Data.\n",
    "---"
   ]
  },
  {
   "cell_type": "code",
   "execution_count": 133,
   "metadata": {},
   "outputs": [],
   "source": [
    "import numpy as np"
   ]
  },
  {
   "cell_type": "code",
   "execution_count": 134,
   "metadata": {},
   "outputs": [
    {
     "name": "stdout",
     "output_type": "stream",
     "text": [
      "Mean Squared Error (MSE): 3.528419848719074e-07\n",
      "R-squared (R²) Score: 0.9999996345306358\n"
     ]
    }
   ],
   "source": [
    "y_pred_test = model_one.predict(X_test)\n",
    "test_mse = mean_squared_error(y_test, y_pred_test)\n",
    "r2_test = r2_score(y_test, y_pred_test)\n",
    "print(\"Mean Squared Error (MSE):\", test_mse)\n",
    "print(\"R-squared (R²) Score:\", r2_test)"
   ]
  },
  {
   "cell_type": "markdown",
   "metadata": {},
   "source": [
    "##### Graphical Display.\n",
    "---"
   ]
  },
  {
   "cell_type": "code",
   "execution_count": 135,
   "metadata": {},
   "outputs": [
    {
     "data": {
      "image/png": "[encoded data removed]",
      "text/plain": [
       "<Figure size 1000x600 with 1 Axes>"
      ]
     },
     "metadata": {},
     "output_type": "display_data"
    }
   ],
   "source": [
    "# Create scatter plot of actual vs predicted values\n",
    "plt.figure(figsize=(10, 6))\n",
    "plt.scatter(y_test, y_pred_test, alpha=0.5)\n",
    "plt.plot([y_test.min(), y_test.max()], [y_test.min(), y_test.max()], 'r--', lw=2)\n",
    "plt.xlabel('Actual Values')\n",
    "plt.ylabel('Predicted Values')\n",
    "plt.title('Actual vs Predicted Values')\n",
    "plt.tight_layout()\n",
    "plt.show()\n"
   ]
  },
  {
   "cell_type": "code",
   "execution_count": 136,
   "metadata": {},
   "outputs": [
    {
     "data": {
      "text/plain": [
       "<Figure size 640x480 with 0 Axes>"
      ]
     },
     "metadata": {},
     "output_type": "display_data"
    },
    {
     "data": {
      "image/png": "[encoded data removed]",
      "text/plain": [
       "<Figure size 1500x600 with 1 Axes>"
      ]
     },
     "metadata": {},
     "output_type": "display_data"
    }
   ],
   "source": [
    "plt.clf()\n",
    "\n",
    "loss_values = [train_mse, test_mse]\n",
    "labels = ['Training Loss', 'Validation Loss']\n",
    "\n",
    "plt.figure(figsize=fig_size)\n",
    "\n",
    "plt.plot(labels, loss_values, marker='o', color='blue', linewidth=2)\n",
    "\n",
    "plt.title('Training and Validation Loss (MSE)', fontsize=12, pad=20)\n",
    "plt.ylabel('Mean Squared Error', fontsize=10)\n",
    "plt.grid(True, linestyle='--', alpha=0.7)\n",
    "\n",
    "for i, value in enumerate(loss_values):\n",
    "    plt.annotate(f'{value:.11f}', \n",
    "                (i, value),\n",
    "                textcoords=\"offset points\", \n",
    "                xytext=(0,10), \n",
    "                ha='center')\n",
    "\n",
    "plt.margins(x=0.1)\n",
    "plt.show()"
   ]
  },
  {
   "cell_type": "code",
   "execution_count": 137,
   "metadata": {},
   "outputs": [
    {
     "data": {
      "image/png": "[encoded data removed]",
      "text/plain": [
       "<Figure size 1500x600 with 2 Axes>"
      ]
     },
     "metadata": {},
     "output_type": "display_data"
    },
    {
     "name": "stdout",
     "output_type": "stream",
     "text": [
      "\n",
      "📉 Residual Statistics:\n",
      "Mean of residuals: 0.000186\n",
      "Standard deviation of residuals: 0.000564\n"
     ]
    }
   ],
   "source": [
    "# Calculate residuals\n",
    "residuals = y_test - y_pred_test\n",
    "\n",
    "# Plot residuals\n",
    "plt.figure(figsize=fig_size)\n",
    "\n",
    "# Residual plot\n",
    "plt.subplot(121)\n",
    "plt.scatter(y_pred_test, residuals, alpha=0.5)\n",
    "plt.xlabel('Predicted Values')\n",
    "plt.ylabel('Residuals')\n",
    "plt.title('Residual Plot')\n",
    "plt.axhline(y=0, color='r', linestyle='--')\n",
    "\n",
    "# Residual distribution\n",
    "plt.subplot(122)\n",
    "plt.hist(residuals, bins=30, edgecolor='black')\n",
    "plt.xlabel('Residual Value')\n",
    "plt.ylabel('Frequency')\n",
    "plt.title('Residual Distribution')\n",
    "\n",
    "plt.tight_layout()\n",
    "plt.show()\n",
    "\n",
    "# Print residual statistics\n",
    "print(\"\\n📉 Residual Statistics:\")\n",
    "print(f\"Mean of residuals: {np.mean(residuals):.6f}\")\n",
    "print(f\"Standard deviation of residuals: {np.std(residuals):.6f}\")"
   ]
  },
  {
   "cell_type": "markdown",
   "metadata": {},
   "source": [
    "#### Building the Neural Network 🧠  \n",
    "---  "
   ]
  },
  {
   "cell_type": "code",
   "execution_count": 138,
   "metadata": {},
   "outputs": [],
   "source": [
    "import tensorflow as tf\n",
    "from tensorflow.keras.models import Sequential\n",
    "from tensorflow.keras.layers import Dense\n"
   ]
  },
  {
   "cell_type": "markdown",
   "metadata": {},
   "source": [
    "##### Model Building.\n",
    "---"
   ]
  },
  {
   "cell_type": "code",
   "execution_count": 139,
   "metadata": {},
   "outputs": [
    {
     "name": "stderr",
     "output_type": "stream",
     "text": [
      "c:\\Users\\HP\\Documents\\Projects\\school\\machinelearning_self_learn\\.venv\\Lib\\site-packages\\keras\\src\\layers\\core\\dense.py:87: UserWarning: Do not pass an `input_shape`/`input_dim` argument to a layer. When using Sequential models, prefer using an `Input(shape)` object as the first layer in the model instead.\n",
      "  super().__init__(activity_regularizer=activity_regularizer, **kwargs)\n"
     ]
    }
   ],
   "source": [
    "model_two = Sequential()\n",
    "model_two.add(Dense(128, input_dim=X_train.shape[1], activation='relu')) \n",
    "model_two.add(Dense(64,  activation='relu'))  \n",
    "model_two.add(Dense(32, activation='relu'))  \n",
    "model_two.add(Dense(16, activation='relu'))\n",
    "\n",
    "model_two.add(Dense(1))\n",
    "model_two.compile(optimizer = 'adam', loss = 'mean_squared_error')"
   ]
  },
  {
   "cell_type": "markdown",
   "metadata": {},
   "source": [
    "##### Model Training and Evaluation.\n",
    "---"
   ]
  },
  {
   "cell_type": "code",
   "execution_count": 140,
   "metadata": {},
   "outputs": [
    {
     "name": "stdout",
     "output_type": "stream",
     "text": [
      "Epoch 1/100\n",
      "\u001b[1m25/25\u001b[0m \u001b[32m━━━━━━━━━━━━━━━━━━━━\u001b[0m\u001b[37m\u001b[0m \u001b[1m4s\u001b[0m 36ms/step - loss: 0.4576 - val_loss: 0.0839\n",
      "Epoch 2/100\n",
      "\u001b[1m25/25\u001b[0m \u001b[32m━━━━━━━━━━━━━━━━━━━━\u001b[0m\u001b[37m\u001b[0m \u001b[1m0s\u001b[0m 13ms/step - loss: 0.0474 - val_loss: 0.0049\n",
      "Epoch 3/100\n",
      "\u001b[1m25/25\u001b[0m \u001b[32m━━━━━━━━━━━━━━━━━━━━\u001b[0m\u001b[37m\u001b[0m \u001b[1m0s\u001b[0m 11ms/step - loss: 0.0086 - val_loss: 0.0042\n",
      "Epoch 4/100\n",
      "\u001b[1m25/25\u001b[0m \u001b[32m━━━━━━━━━━━━━━━━━━━━\u001b[0m\u001b[37m\u001b[0m \u001b[1m0s\u001b[0m 7ms/step - loss: 0.0037 - val_loss: 0.0029\n",
      "Epoch 5/100\n",
      "\u001b[1m25/25\u001b[0m \u001b[32m━━━━━━━━━━━━━━━━━━━━\u001b[0m\u001b[37m\u001b[0m \u001b[1m0s\u001b[0m 6ms/step - loss: 0.0018 - val_loss: 0.0016\n",
      "Epoch 6/100\n",
      "\u001b[1m25/25\u001b[0m \u001b[32m━━━━━━━━━━━━━━━━━━━━\u001b[0m\u001b[37m\u001b[0m \u001b[1m0s\u001b[0m 7ms/step - loss: 0.0014 - val_loss: 9.8425e-04\n",
      "Epoch 7/100\n",
      "\u001b[1m25/25\u001b[0m \u001b[32m━━━━━━━━━━━━━━━━━━━━\u001b[0m\u001b[37m\u001b[0m \u001b[1m0s\u001b[0m 11ms/step - loss: 9.4847e-04 - val_loss: 5.9281e-04\n",
      "Epoch 8/100\n",
      "\u001b[1m25/25\u001b[0m \u001b[32m━━━━━━━━━━━━━━━━━━━━\u001b[0m\u001b[37m\u001b[0m \u001b[1m0s\u001b[0m 12ms/step - loss: 9.4767e-04 - val_loss: 4.5763e-04\n",
      "Epoch 9/100\n",
      "\u001b[1m25/25\u001b[0m \u001b[32m━━━━━━━━━━━━━━━━━━━━\u001b[0m\u001b[37m\u001b[0m \u001b[1m0s\u001b[0m 11ms/step - loss: 4.4543e-04 - val_loss: 3.1722e-04\n",
      "Epoch 10/100\n",
      "\u001b[1m25/25\u001b[0m \u001b[32m━━━━━━━━━━━━━━━━━━━━\u001b[0m\u001b[37m\u001b[0m \u001b[1m0s\u001b[0m 12ms/step - loss: 4.9323e-04 - val_loss: 1.9021e-04\n",
      "Epoch 11/100\n",
      "\u001b[1m25/25\u001b[0m \u001b[32m━━━━━━━━━━━━━━━━━━━━\u001b[0m\u001b[37m\u001b[0m \u001b[1m0s\u001b[0m 14ms/step - loss: 3.7855e-04 - val_loss: 7.0564e-04\n",
      "Epoch 12/100\n",
      "\u001b[1m25/25\u001b[0m \u001b[32m━━━━━━━━━━━━━━━━━━━━\u001b[0m\u001b[37m\u001b[0m \u001b[1m0s\u001b[0m 13ms/step - loss: 3.1329e-04 - val_loss: 1.8342e-04\n",
      "Epoch 13/100\n",
      "\u001b[1m25/25\u001b[0m \u001b[32m━━━━━━━━━━━━━━━━━━━━\u001b[0m\u001b[37m\u001b[0m \u001b[1m0s\u001b[0m 13ms/step - loss: 8.8579e-04 - val_loss: 4.5384e-04\n",
      "Epoch 14/100\n",
      "\u001b[1m25/25\u001b[0m \u001b[32m━━━━━━━━━━━━━━━━━━━━\u001b[0m\u001b[37m\u001b[0m \u001b[1m0s\u001b[0m 9ms/step - loss: 5.1626e-04 - val_loss: 4.1703e-04\n",
      "Epoch 15/100\n",
      "\u001b[1m25/25\u001b[0m \u001b[32m━━━━━━━━━━━━━━━━━━━━\u001b[0m\u001b[37m\u001b[0m \u001b[1m0s\u001b[0m 8ms/step - loss: 2.6523e-04 - val_loss: 1.5721e-04\n",
      "Epoch 16/100\n",
      "\u001b[1m25/25\u001b[0m \u001b[32m━━━━━━━━━━━━━━━━━━━━\u001b[0m\u001b[37m\u001b[0m \u001b[1m0s\u001b[0m 13ms/step - loss: 4.6998e-04 - val_loss: 2.4519e-04\n",
      "Epoch 17/100\n",
      "\u001b[1m25/25\u001b[0m \u001b[32m━━━━━━━━━━━━━━━━━━━━\u001b[0m\u001b[37m\u001b[0m \u001b[1m0s\u001b[0m 9ms/step - loss: 2.4472e-04 - val_loss: 5.1029e-04\n",
      "Epoch 18/100\n",
      "\u001b[1m25/25\u001b[0m \u001b[32m━━━━━━━━━━━━━━━━━━━━\u001b[0m\u001b[37m\u001b[0m \u001b[1m0s\u001b[0m 9ms/step - loss: 1.4124e-04 - val_loss: 1.2730e-04\n",
      "Epoch 19/100\n",
      "\u001b[1m25/25\u001b[0m \u001b[32m━━━━━━━━━━━━━━━━━━━━\u001b[0m\u001b[37m\u001b[0m \u001b[1m0s\u001b[0m 6ms/step - loss: 1.8842e-04 - val_loss: 2.5747e-04\n",
      "Epoch 20/100\n",
      "\u001b[1m25/25\u001b[0m \u001b[32m━━━━━━━━━━━━━━━━━━━━\u001b[0m\u001b[37m\u001b[0m \u001b[1m0s\u001b[0m 13ms/step - loss: 1.6569e-04 - val_loss: 0.0013\n",
      "Epoch 21/100\n",
      "\u001b[1m25/25\u001b[0m \u001b[32m━━━━━━━━━━━━━━━━━━━━\u001b[0m\u001b[37m\u001b[0m \u001b[1m0s\u001b[0m 11ms/step - loss: 0.0016 - val_loss: 2.3605e-04\n",
      "Epoch 22/100\n",
      "\u001b[1m25/25\u001b[0m \u001b[32m━━━━━━━━━━━━━━━━━━━━\u001b[0m\u001b[37m\u001b[0m \u001b[1m0s\u001b[0m 7ms/step - loss: 0.0012 - val_loss: 6.0450e-04\n",
      "Epoch 23/100\n",
      "\u001b[1m25/25\u001b[0m \u001b[32m━━━━━━━━━━━━━━━━━━━━\u001b[0m\u001b[37m\u001b[0m \u001b[1m0s\u001b[0m 10ms/step - loss: 1.2813e-04 - val_loss: 1.7201e-04\n",
      "Epoch 24/100\n",
      "\u001b[1m25/25\u001b[0m \u001b[32m━━━━━━━━━━━━━━━━━━━━\u001b[0m\u001b[37m\u001b[0m \u001b[1m0s\u001b[0m 6ms/step - loss: 2.3137e-04 - val_loss: 1.8544e-04\n",
      "Epoch 25/100\n",
      "\u001b[1m25/25\u001b[0m \u001b[32m━━━━━━━━━━━━━━━━━━━━\u001b[0m\u001b[37m\u001b[0m \u001b[1m0s\u001b[0m 7ms/step - loss: 1.6183e-04 - val_loss: 2.3050e-04\n",
      "Epoch 26/100\n",
      "\u001b[1m25/25\u001b[0m \u001b[32m━━━━━━━━━━━━━━━━━━━━\u001b[0m\u001b[37m\u001b[0m \u001b[1m0s\u001b[0m 11ms/step - loss: 1.3626e-04 - val_loss: 1.3001e-04\n",
      "Epoch 27/100\n",
      "\u001b[1m25/25\u001b[0m \u001b[32m━━━━━━━━━━━━━━━━━━━━\u001b[0m\u001b[37m\u001b[0m \u001b[1m0s\u001b[0m 11ms/step - loss: 1.2244e-04 - val_loss: 0.0010\n",
      "Epoch 28/100\n",
      "\u001b[1m25/25\u001b[0m \u001b[32m━━━━━━━━━━━━━━━━━━━━\u001b[0m\u001b[37m\u001b[0m \u001b[1m0s\u001b[0m 10ms/step - loss: 4.7050e-04 - val_loss: 1.2401e-04\n",
      "Epoch 29/100\n",
      "\u001b[1m25/25\u001b[0m \u001b[32m━━━━━━━━━━━━━━━━━━━━\u001b[0m\u001b[37m\u001b[0m \u001b[1m0s\u001b[0m 8ms/step - loss: 3.2534e-04 - val_loss: 0.0010\n",
      "Epoch 30/100\n",
      "\u001b[1m25/25\u001b[0m \u001b[32m━━━━━━━━━━━━━━━━━━━━\u001b[0m\u001b[37m\u001b[0m \u001b[1m0s\u001b[0m 8ms/step - loss: 0.0012 - val_loss: 9.1649e-05\n",
      "Epoch 31/100\n",
      "\u001b[1m25/25\u001b[0m \u001b[32m━━━━━━━━━━━━━━━━━━━━\u001b[0m\u001b[37m\u001b[0m \u001b[1m0s\u001b[0m 8ms/step - loss: 1.9404e-04 - val_loss: 2.8266e-04\n",
      "Epoch 32/100\n",
      "\u001b[1m25/25\u001b[0m \u001b[32m━━━━━━━━━━━━━━━━━━━━\u001b[0m\u001b[37m\u001b[0m \u001b[1m0s\u001b[0m 7ms/step - loss: 1.5593e-04 - val_loss: 2.0296e-04\n",
      "Epoch 33/100\n",
      "\u001b[1m25/25\u001b[0m \u001b[32m━━━━━━━━━━━━━━━━━━━━\u001b[0m\u001b[37m\u001b[0m \u001b[1m0s\u001b[0m 12ms/step - loss: 1.7879e-04 - val_loss: 1.7425e-04\n",
      "Epoch 34/100\n",
      "\u001b[1m25/25\u001b[0m \u001b[32m━━━━━━━━━━━━━━━━━━━━\u001b[0m\u001b[37m\u001b[0m \u001b[1m0s\u001b[0m 14ms/step - loss: 2.6213e-04 - val_loss: 2.0653e-04\n",
      "Epoch 35/100\n",
      "\u001b[1m25/25\u001b[0m \u001b[32m━━━━━━━━━━━━━━━━━━━━\u001b[0m\u001b[37m\u001b[0m \u001b[1m0s\u001b[0m 7ms/step - loss: 2.2451e-04 - val_loss: 0.0015\n",
      "Epoch 36/100\n",
      "\u001b[1m25/25\u001b[0m \u001b[32m━━━━━━━━━━━━━━━━━━━━\u001b[0m\u001b[37m\u001b[0m \u001b[1m1s\u001b[0m 13ms/step - loss: 7.3433e-04 - val_loss: 1.1863e-04\n",
      "Epoch 37/100\n",
      "\u001b[1m25/25\u001b[0m \u001b[32m━━━━━━━━━━━━━━━━━━━━\u001b[0m\u001b[37m\u001b[0m \u001b[1m0s\u001b[0m 12ms/step - loss: 2.6297e-04 - val_loss: 3.7749e-04\n",
      "Epoch 38/100\n",
      "\u001b[1m25/25\u001b[0m \u001b[32m━━━━━━━━━━━━━━━━━━━━\u001b[0m\u001b[37m\u001b[0m \u001b[1m0s\u001b[0m 8ms/step - loss: 2.9909e-04 - val_loss: 2.1701e-04\n",
      "Epoch 39/100\n",
      "\u001b[1m25/25\u001b[0m \u001b[32m━━━━━━━━━━━━━━━━━━━━\u001b[0m\u001b[37m\u001b[0m \u001b[1m1s\u001b[0m 14ms/step - loss: 8.6588e-05 - val_loss: 1.2199e-04\n",
      "Epoch 40/100\n",
      "\u001b[1m25/25\u001b[0m \u001b[32m━━━━━━━━━━━━━━━━━━━━\u001b[0m\u001b[37m\u001b[0m \u001b[1m1s\u001b[0m 15ms/step - loss: 2.0454e-04 - val_loss: 1.5260e-04\n",
      "Epoch 41/100\n",
      "\u001b[1m25/25\u001b[0m \u001b[32m━━━━━━━━━━━━━━━━━━━━\u001b[0m\u001b[37m\u001b[0m \u001b[1m0s\u001b[0m 12ms/step - loss: 9.6825e-05 - val_loss: 3.9333e-04\n",
      "Epoch 42/100\n",
      "\u001b[1m25/25\u001b[0m \u001b[32m━━━━━━━━━━━━━━━━━━━━\u001b[0m\u001b[37m\u001b[0m \u001b[1m0s\u001b[0m 12ms/step - loss: 3.0678e-04 - val_loss: 8.5685e-05\n",
      "Epoch 43/100\n",
      "\u001b[1m25/25\u001b[0m \u001b[32m━━━━━━━━━━━━━━━━━━━━\u001b[0m\u001b[37m\u001b[0m \u001b[1m0s\u001b[0m 12ms/step - loss: 9.9472e-05 - val_loss: 1.4442e-04\n",
      "Epoch 44/100\n",
      "\u001b[1m25/25\u001b[0m \u001b[32m━━━━━━━━━━━━━━━━━━━━\u001b[0m\u001b[37m\u001b[0m \u001b[1m0s\u001b[0m 15ms/step - loss: 1.4758e-04 - val_loss: 2.0224e-04\n",
      "Epoch 45/100\n",
      "\u001b[1m25/25\u001b[0m \u001b[32m━━━━━━━━━━━━━━━━━━━━\u001b[0m\u001b[37m\u001b[0m \u001b[1m0s\u001b[0m 13ms/step - loss: 1.7868e-04 - val_loss: 2.0861e-04\n",
      "Epoch 46/100\n",
      "\u001b[1m25/25\u001b[0m \u001b[32m━━━━━━━━━━━━━━━━━━━━\u001b[0m\u001b[37m\u001b[0m \u001b[1m0s\u001b[0m 9ms/step - loss: 1.5008e-04 - val_loss: 1.4660e-04\n",
      "Epoch 47/100\n",
      "\u001b[1m25/25\u001b[0m \u001b[32m━━━━━━━━━━━━━━━━━━━━\u001b[0m\u001b[37m\u001b[0m \u001b[1m0s\u001b[0m 10ms/step - loss: 1.1642e-04 - val_loss: 1.2450e-04\n",
      "Epoch 48/100\n",
      "\u001b[1m25/25\u001b[0m \u001b[32m━━━━━━━━━━━━━━━━━━━━\u001b[0m\u001b[37m\u001b[0m \u001b[1m0s\u001b[0m 11ms/step - loss: 1.3152e-04 - val_loss: 4.3093e-05\n",
      "Epoch 49/100\n",
      "\u001b[1m25/25\u001b[0m \u001b[32m━━━━━━━━━━━━━━━━━━━━\u001b[0m\u001b[37m\u001b[0m \u001b[1m0s\u001b[0m 11ms/step - loss: 4.7269e-04 - val_loss: 1.5670e-04\n",
      "Epoch 50/100\n",
      "\u001b[1m25/25\u001b[0m \u001b[32m━━━━━━━━━━━━━━━━━━━━\u001b[0m\u001b[37m\u001b[0m \u001b[1m0s\u001b[0m 14ms/step - loss: 9.9114e-05 - val_loss: 1.4080e-04\n",
      "Epoch 51/100\n",
      "\u001b[1m25/25\u001b[0m \u001b[32m━━━━━━━━━━━━━━━━━━━━\u001b[0m\u001b[37m\u001b[0m \u001b[1m0s\u001b[0m 9ms/step - loss: 1.4118e-04 - val_loss: 3.9848e-04\n",
      "Epoch 52/100\n",
      "\u001b[1m25/25\u001b[0m \u001b[32m━━━━━━━━━━━━━━━━━━━━\u001b[0m\u001b[37m\u001b[0m \u001b[1m1s\u001b[0m 14ms/step - loss: 9.0131e-05 - val_loss: 5.0761e-05\n",
      "Epoch 53/100\n",
      "\u001b[1m25/25\u001b[0m \u001b[32m━━━━━━━━━━━━━━━━━━━━\u001b[0m\u001b[37m\u001b[0m \u001b[1m1s\u001b[0m 14ms/step - loss: 1.3247e-04 - val_loss: 5.8685e-04\n",
      "Epoch 54/100\n",
      "\u001b[1m25/25\u001b[0m \u001b[32m━━━━━━━━━━━━━━━━━━━━\u001b[0m\u001b[37m\u001b[0m \u001b[1m0s\u001b[0m 8ms/step - loss: 5.5838e-04 - val_loss: 1.1435e-04\n",
      "Epoch 55/100\n",
      "\u001b[1m25/25\u001b[0m \u001b[32m━━━━━━━━━━━━━━━━━━━━\u001b[0m\u001b[37m\u001b[0m \u001b[1m0s\u001b[0m 12ms/step - loss: 1.5616e-04 - val_loss: 1.9061e-04\n",
      "Epoch 56/100\n",
      "\u001b[1m25/25\u001b[0m \u001b[32m━━━━━━━━━━━━━━━━━━━━\u001b[0m\u001b[37m\u001b[0m \u001b[1m0s\u001b[0m 8ms/step - loss: 2.0337e-04 - val_loss: 5.4701e-05\n",
      "Epoch 57/100\n",
      "\u001b[1m25/25\u001b[0m \u001b[32m━━━━━━━━━━━━━━━━━━━━\u001b[0m\u001b[37m\u001b[0m \u001b[1m0s\u001b[0m 11ms/step - loss: 2.5879e-04 - val_loss: 5.4771e-04\n",
      "Epoch 58/100\n",
      "\u001b[1m25/25\u001b[0m \u001b[32m━━━━━━━━━━━━━━━━━━━━\u001b[0m\u001b[37m\u001b[0m \u001b[1m0s\u001b[0m 14ms/step - loss: 2.1116e-04 - val_loss: 1.7560e-04\n",
      "Epoch 59/100\n",
      "\u001b[1m25/25\u001b[0m \u001b[32m━━━━━━━━━━━━━━━━━━━━\u001b[0m\u001b[37m\u001b[0m \u001b[1m0s\u001b[0m 13ms/step - loss: 2.2740e-04 - val_loss: 3.5613e-04\n",
      "Epoch 60/100\n",
      "\u001b[1m25/25\u001b[0m \u001b[32m━━━━━━━━━━━━━━━━━━━━\u001b[0m\u001b[37m\u001b[0m \u001b[1m0s\u001b[0m 12ms/step - loss: 1.1856e-04 - val_loss: 8.9960e-05\n",
      "Epoch 61/100\n",
      "\u001b[1m25/25\u001b[0m \u001b[32m━━━━━━━━━━━━━━━━━━━━\u001b[0m\u001b[37m\u001b[0m \u001b[1m0s\u001b[0m 9ms/step - loss: 1.2371e-04 - val_loss: 2.7414e-04\n",
      "Epoch 62/100\n",
      "\u001b[1m25/25\u001b[0m \u001b[32m━━━━━━━━━━━━━━━━━━━━\u001b[0m\u001b[37m\u001b[0m \u001b[1m0s\u001b[0m 13ms/step - loss: 3.1386e-05 - val_loss: 6.9324e-05\n",
      "Epoch 63/100\n",
      "\u001b[1m25/25\u001b[0m \u001b[32m━━━━━━━━━━━━━━━━━━━━\u001b[0m\u001b[37m\u001b[0m \u001b[1m0s\u001b[0m 14ms/step - loss: 3.3737e-04 - val_loss: 1.0226e-04\n",
      "Epoch 64/100\n",
      "\u001b[1m25/25\u001b[0m \u001b[32m━━━━━━━━━━━━━━━━━━━━\u001b[0m\u001b[37m\u001b[0m \u001b[1m1s\u001b[0m 17ms/step - loss: 3.2051e-04 - val_loss: 1.2530e-04\n",
      "Epoch 65/100\n",
      "\u001b[1m25/25\u001b[0m \u001b[32m━━━━━━━━━━━━━━━━━━━━\u001b[0m\u001b[37m\u001b[0m \u001b[1m0s\u001b[0m 8ms/step - loss: 2.3312e-04 - val_loss: 3.3362e-04\n",
      "Epoch 66/100\n",
      "\u001b[1m25/25\u001b[0m \u001b[32m━━━━━━━━━━━━━━━━━━━━\u001b[0m\u001b[37m\u001b[0m \u001b[1m0s\u001b[0m 9ms/step - loss: 1.0891e-04 - val_loss: 8.8585e-05\n",
      "Epoch 67/100\n",
      "\u001b[1m25/25\u001b[0m \u001b[32m━━━━━━━━━━━━━━━━━━━━\u001b[0m\u001b[37m\u001b[0m \u001b[1m0s\u001b[0m 15ms/step - loss: 1.6752e-04 - val_loss: 2.4538e-04\n",
      "Epoch 68/100\n",
      "\u001b[1m25/25\u001b[0m \u001b[32m━━━━━━━━━━━━━━━━━━━━\u001b[0m\u001b[37m\u001b[0m \u001b[1m1s\u001b[0m 16ms/step - loss: 2.4730e-04 - val_loss: 2.7618e-04\n",
      "Epoch 69/100\n",
      "\u001b[1m25/25\u001b[0m \u001b[32m━━━━━━━━━━━━━━━━━━━━\u001b[0m\u001b[37m\u001b[0m \u001b[1m0s\u001b[0m 11ms/step - loss: 2.9982e-04 - val_loss: 5.7876e-05\n",
      "Epoch 70/100\n",
      "\u001b[1m25/25\u001b[0m \u001b[32m━━━━━━━━━━━━━━━━━━━━\u001b[0m\u001b[37m\u001b[0m \u001b[1m0s\u001b[0m 11ms/step - loss: 1.1166e-04 - val_loss: 2.5774e-04\n",
      "Epoch 71/100\n",
      "\u001b[1m25/25\u001b[0m \u001b[32m━━━━━━━━━━━━━━━━━━━━\u001b[0m\u001b[37m\u001b[0m \u001b[1m1s\u001b[0m 15ms/step - loss: 1.1468e-04 - val_loss: 7.6043e-05\n",
      "Epoch 72/100\n",
      "\u001b[1m25/25\u001b[0m \u001b[32m━━━━━━━━━━━━━━━━━━━━\u001b[0m\u001b[37m\u001b[0m \u001b[1m0s\u001b[0m 9ms/step - loss: 3.7661e-04 - val_loss: 7.9378e-04\n",
      "Epoch 73/100\n",
      "\u001b[1m25/25\u001b[0m \u001b[32m━━━━━━━━━━━━━━━━━━━━\u001b[0m\u001b[37m\u001b[0m \u001b[1m1s\u001b[0m 15ms/step - loss: 2.6710e-04 - val_loss: 2.9094e-04\n",
      "Epoch 74/100\n",
      "\u001b[1m25/25\u001b[0m \u001b[32m━━━━━━━━━━━━━━━━━━━━\u001b[0m\u001b[37m\u001b[0m \u001b[1m0s\u001b[0m 11ms/step - loss: 8.8262e-04 - val_loss: 0.0014\n",
      "Epoch 75/100\n",
      "\u001b[1m25/25\u001b[0m \u001b[32m━━━━━━━━━━━━━━━━━━━━\u001b[0m\u001b[37m\u001b[0m \u001b[1m0s\u001b[0m 12ms/step - loss: 4.7602e-04 - val_loss: 2.5411e-04\n",
      "Epoch 76/100\n",
      "\u001b[1m25/25\u001b[0m \u001b[32m━━━━━━━━━━━━━━━━━━━━\u001b[0m\u001b[37m\u001b[0m \u001b[1m1s\u001b[0m 18ms/step - loss: 2.9477e-04 - val_loss: 7.1101e-05\n",
      "Epoch 77/100\n",
      "\u001b[1m25/25\u001b[0m \u001b[32m━━━━━━━━━━━━━━━━━━━━\u001b[0m\u001b[37m\u001b[0m \u001b[1m0s\u001b[0m 8ms/step - loss: 2.6886e-04 - val_loss: 1.3622e-04\n",
      "Epoch 78/100\n",
      "\u001b[1m25/25\u001b[0m \u001b[32m━━━━━━━━━━━━━━━━━━━━\u001b[0m\u001b[37m\u001b[0m \u001b[1m0s\u001b[0m 14ms/step - loss: 1.4857e-04 - val_loss: 2.6091e-04\n",
      "Epoch 79/100\n",
      "\u001b[1m25/25\u001b[0m \u001b[32m━━━━━━━━━━━━━━━━━━━━\u001b[0m\u001b[37m\u001b[0m \u001b[1m0s\u001b[0m 12ms/step - loss: 2.8776e-04 - val_loss: 1.7872e-04\n",
      "Epoch 80/100\n",
      "\u001b[1m25/25\u001b[0m \u001b[32m━━━━━━━━━━━━━━━━━━━━\u001b[0m\u001b[37m\u001b[0m \u001b[1m0s\u001b[0m 11ms/step - loss: 2.4643e-04 - val_loss: 1.2641e-04\n",
      "Epoch 81/100\n",
      "\u001b[1m25/25\u001b[0m \u001b[32m━━━━━━━━━━━━━━━━━━━━\u001b[0m\u001b[37m\u001b[0m \u001b[1m0s\u001b[0m 7ms/step - loss: 9.9466e-05 - val_loss: 9.2040e-05\n",
      "Epoch 82/100\n",
      "\u001b[1m25/25\u001b[0m \u001b[32m━━━━━━━━━━━━━━━━━━━━\u001b[0m\u001b[37m\u001b[0m \u001b[1m0s\u001b[0m 9ms/step - loss: 9.7429e-05 - val_loss: 2.6474e-04\n",
      "Epoch 83/100\n",
      "\u001b[1m25/25\u001b[0m \u001b[32m━━━━━━━━━━━━━━━━━━━━\u001b[0m\u001b[37m\u001b[0m \u001b[1m1s\u001b[0m 13ms/step - loss: 1.0606e-04 - val_loss: 1.0570e-04\n",
      "Epoch 84/100\n",
      "\u001b[1m25/25\u001b[0m \u001b[32m━━━━━━━━━━━━━━━━━━━━\u001b[0m\u001b[37m\u001b[0m \u001b[1m0s\u001b[0m 7ms/step - loss: 9.4177e-05 - val_loss: 1.6471e-04\n",
      "Epoch 85/100\n",
      "\u001b[1m25/25\u001b[0m \u001b[32m━━━━━━━━━━━━━━━━━━━━\u001b[0m\u001b[37m\u001b[0m \u001b[1m0s\u001b[0m 7ms/step - loss: 1.2803e-04 - val_loss: 4.3414e-04\n",
      "Epoch 86/100\n",
      "\u001b[1m25/25\u001b[0m \u001b[32m━━━━━━━━━━━━━━━━━━━━\u001b[0m\u001b[37m\u001b[0m \u001b[1m0s\u001b[0m 8ms/step - loss: 3.8626e-04 - val_loss: 1.0109e-04\n",
      "Epoch 87/100\n",
      "\u001b[1m25/25\u001b[0m \u001b[32m━━━━━━━━━━━━━━━━━━━━\u001b[0m\u001b[37m\u001b[0m \u001b[1m1s\u001b[0m 13ms/step - loss: 8.6141e-05 - val_loss: 3.8095e-05\n",
      "Epoch 88/100\n",
      "\u001b[1m25/25\u001b[0m \u001b[32m━━━━━━━━━━━━━━━━━━━━\u001b[0m\u001b[37m\u001b[0m \u001b[1m0s\u001b[0m 10ms/step - loss: 5.8212e-05 - val_loss: 1.2966e-04\n",
      "Epoch 89/100\n",
      "\u001b[1m25/25\u001b[0m \u001b[32m━━━━━━━━━━━━━━━━━━━━\u001b[0m\u001b[37m\u001b[0m \u001b[1m0s\u001b[0m 12ms/step - loss: 3.2649e-05 - val_loss: 5.5868e-05\n",
      "Epoch 90/100\n",
      "\u001b[1m25/25\u001b[0m \u001b[32m━━━━━━━━━━━━━━━━━━━━\u001b[0m\u001b[37m\u001b[0m \u001b[1m1s\u001b[0m 13ms/step - loss: 1.3714e-04 - val_loss: 3.3075e-04\n",
      "Epoch 91/100\n",
      "\u001b[1m25/25\u001b[0m \u001b[32m━━━━━━━━━━━━━━━━━━━━\u001b[0m\u001b[37m\u001b[0m \u001b[1m0s\u001b[0m 13ms/step - loss: 1.2198e-04 - val_loss: 1.3966e-04\n",
      "Epoch 92/100\n",
      "\u001b[1m25/25\u001b[0m \u001b[32m━━━━━━━━━━━━━━━━━━━━\u001b[0m\u001b[37m\u001b[0m \u001b[1m1s\u001b[0m 15ms/step - loss: 1.2741e-04 - val_loss: 5.4850e-05\n",
      "Epoch 93/100\n",
      "\u001b[1m25/25\u001b[0m \u001b[32m━━━━━━━━━━━━━━━━━━━━\u001b[0m\u001b[37m\u001b[0m \u001b[1m0s\u001b[0m 9ms/step - loss: 1.9558e-04 - val_loss: 5.5146e-05\n",
      "Epoch 94/100\n",
      "\u001b[1m25/25\u001b[0m \u001b[32m━━━━━━━━━━━━━━━━━━━━\u001b[0m\u001b[37m\u001b[0m \u001b[1m0s\u001b[0m 13ms/step - loss: 5.0937e-05 - val_loss: 4.0541e-05\n",
      "Epoch 95/100\n",
      "\u001b[1m25/25\u001b[0m \u001b[32m━━━━━━━━━━━━━━━━━━━━\u001b[0m\u001b[37m\u001b[0m \u001b[1m0s\u001b[0m 7ms/step - loss: 1.2116e-04 - val_loss: 4.4614e-05\n",
      "Epoch 96/100\n",
      "\u001b[1m25/25\u001b[0m \u001b[32m━━━━━━━━━━━━━━━━━━━━\u001b[0m\u001b[37m\u001b[0m \u001b[1m0s\u001b[0m 12ms/step - loss: 5.6799e-05 - val_loss: 3.9657e-04\n",
      "Epoch 97/100\n",
      "\u001b[1m25/25\u001b[0m \u001b[32m━━━━━━━━━━━━━━━━━━━━\u001b[0m\u001b[37m\u001b[0m \u001b[1m0s\u001b[0m 7ms/step - loss: 5.7745e-04 - val_loss: 9.9594e-05\n",
      "Epoch 98/100\n",
      "\u001b[1m25/25\u001b[0m \u001b[32m━━━━━━━━━━━━━━━━━━━━\u001b[0m\u001b[37m\u001b[0m \u001b[1m0s\u001b[0m 10ms/step - loss: 1.8324e-04 - val_loss: 6.6849e-04\n",
      "Epoch 99/100\n",
      "\u001b[1m25/25\u001b[0m \u001b[32m━━━━━━━━━━━━━━━━━━━━\u001b[0m\u001b[37m\u001b[0m \u001b[1m0s\u001b[0m 14ms/step - loss: 1.7153e-04 - val_loss: 1.0552e-04\n",
      "Epoch 100/100\n",
      "\u001b[1m25/25\u001b[0m \u001b[32m━━━━━━━━━━━━━━━━━━━━\u001b[0m\u001b[37m\u001b[0m \u001b[1m1s\u001b[0m 14ms/step - loss: 3.0429e-04 - val_loss: 6.4429e-04\n",
      "\u001b[1m7/7\u001b[0m \u001b[32m━━━━━━━━━━━━━━━━━━━━\u001b[0m\u001b[37m\u001b[0m \u001b[1m0s\u001b[0m 10ms/step - loss: 8.3686e-04\n",
      "Test Loss (Mean Squared Error): 0.0006442866870202124\n",
      "\u001b[1m7/7\u001b[0m \u001b[32m━━━━━━━━━━━━━━━━━━━━\u001b[0m\u001b[37m\u001b[0m \u001b[1m0s\u001b[0m 23ms/step\n"
     ]
    }
   ],
   "source": [
    "history = model_two.fit(X_train, y_train, epochs=100, batch_size=32, validation_data=(X_test, y_test))\n",
    "\n",
    "# Evaluating the model on the test set\n",
    "test_loss = model_two.evaluate(X_test, y_test)\n",
    "print(f\"Test Loss (Mean Squared Error): {test_loss}\")\n",
    "\n",
    "predictions = model_two.predict(X_test)"
   ]
  },
  {
   "cell_type": "markdown",
   "metadata": {},
   "source": [
    "##### Loss Graphical Display.\n",
    "---"
   ]
  },
  {
   "cell_type": "code",
   "execution_count": 142,
   "metadata": {},
   "outputs": [
    {
     "data": {
      "image/png": "[encoded data removed]",
      "text/plain": [
       "<Figure size 1500x600 with 1 Axes>"
      ]
     },
     "metadata": {},
     "output_type": "display_data"
    }
   ],
   "source": [
    "plt.figure(figsize=fig_size)\n",
    "plt.plot(history.history['loss'], label='Training Loss')\n",
    "plt.plot(history.history['val_loss'], label='Validation Loss')\n",
    "plt.title('Training and Validation Loss')\n",
    "plt.xlabel('Epochs')\n",
    "plt.ylabel('Loss')\n",
    "plt.legend()\n",
    "plt.show()\n"
   ]
  }
 ],
 "metadata": {
  "kernelspec": {
   "display_name": "base",
   "language": "python",
   "name": "python3"
  },
  "language_info": {
   "codemirror_mode": {
    "name": "ipython",
    "version": 3
   },
   "file_extension": ".py",
   "mimetype": "text/x-python",
   "name": "python",
   "nbconvert_exporter": "python",
   "pygments_lexer": "ipython3",
   "version": "3.12.2"
  }
 },
 "nbformat": 4,
 "nbformat_minor": 2
}
