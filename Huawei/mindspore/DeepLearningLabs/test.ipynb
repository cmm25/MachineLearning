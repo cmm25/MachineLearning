{
 "cells": [
  {
   "cell_type": "code",
   "execution_count": 5,
   "metadata": {},
   "outputs": [],
   "source": [
    "import os\n",
    "import mindspore \n",
    "import numpy as np\n",
    "from mindspore import  Tensor\n",
    "from mindspore import dtype as mstype\n",
    "from mindspore.dataset import transforms\n",
    "from mindspore.dataset import vision\n",
    "from mindspore.dataset import MindDataset, GeneratorDataset, MnistDataset, NumpySlicesDataset\n",
    "from mindspore.mindrecord import FileWriter\n",
    "import matplotlib.pyplot as plt\n"
   ]
  },
  {
   "cell_type": "code",
   "execution_count": 6,
   "metadata": {},
   "outputs": [
    {
     "name": "stdout",
     "output_type": "stream",
     "text": [
      "2.4.0\n"
     ]
    }
   ],
   "source": [
    "print(mindspore.__version__)"
   ]
  },
  {
   "cell_type": "code",
   "execution_count": 7,
   "metadata": {},
   "outputs": [
    {
     "name": "stdout",
     "output_type": "stream",
     "text": [
      "[Tensor(shape=[2], dtype=Float64, value= [ 1.00000000e+00,  1.00000000e+00]), Tensor(shape=[1], dtype=Float64, value= [ 0.00000000e+00])]\n",
      "[Tensor(shape=[2], dtype=Float64, value= [ 1.00000000e+00,  1.00000000e+00]), Tensor(shape=[1], dtype=Float64, value= [ 0.00000000e+00])]\n",
      "[Tensor(shape=[2], dtype=Float64, value= [ 1.00000000e+00,  1.00000000e+00]), Tensor(shape=[1], dtype=Float64, value= [ 0.00000000e+00])]\n",
      "[Tensor(shape=[2], dtype=Float64, value= [ 1.00000000e+00,  1.00000000e+00]), Tensor(shape=[1], dtype=Float64, value= [ 0.00000000e+00])]\n",
      "[Tensor(shape=[2], dtype=Float64, value= [ 1.00000000e+00,  1.00000000e+00]), Tensor(shape=[1], dtype=Float64, value= [ 0.00000000e+00])]\n"
     ]
    }
   ],
   "source": [
    "# Random-accessible object as input source\n",
    "class RandomAccessDataset:\n",
    "    def __init__(self):\n",
    "        self._data = np.ones((5, 2))\n",
    "        self._label = np.zeros((5, 1))\n",
    "    def __getitem__(self, index):\n",
    "        return self._data[index], self._label[index]\n",
    "    def __len__(self):\n",
    "        return len(self._data)\n",
    "\n",
    "loader = RandomAccessDataset()\n",
    "dataset = GeneratorDataset(source=loader, column_names=[\"data\", \"label\"])\n",
    "\n",
    "for data in dataset:\n",
    "    print(data)\n"
   ]
  },
  {
   "cell_type": "code",
   "execution_count": 8,
   "metadata": {},
   "outputs": [
    {
     "data": {
      "text/plain": [
       "Tensor(shape=[2, 2], dtype=Int32, value=\n",
       "[[1, 2],\n",
       " [3, 4]])"
      ]
     },
     "execution_count": 8,
     "metadata": {},
     "output_type": "execute_result"
    }
   ],
   "source": [
    "x = Tensor(np.array([[1, 2], [3, 4]]), mstype.int32) \n",
    "x"
   ]
  }
 ],
 "metadata": {
  "kernelspec": {
   "display_name": "mind",
   "language": "python",
   "name": "python3"
  },
  "language_info": {
   "codemirror_mode": {
    "name": "ipython",
    "version": 3
   },
   "file_extension": ".py",
   "mimetype": "text/x-python",
   "name": "python",
   "nbconvert_exporter": "python",
   "pygments_lexer": "ipython3",
   "version": "3.11.9"
  }
 },
 "nbformat": 4,
 "nbformat_minor": 2
}
