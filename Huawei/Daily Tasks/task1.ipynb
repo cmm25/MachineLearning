{
 "cells": [
  {
   "cell_type": "markdown",
   "metadata": {},
   "source": [
    "### Imports.\n",
    "---"
   ]
  },
  {
   "cell_type": "code",
   "execution_count": 1,
   "metadata": {},
   "outputs": [],
   "source": [
    "import numpy as np\n",
    "import pandas as pd"
   ]
  },
  {
   "cell_type": "markdown",
   "metadata": {},
   "source": [
    "### Version Confirmation.\n",
    "---"
   ]
  },
  {
   "cell_type": "code",
   "execution_count": 2,
   "metadata": {},
   "outputs": [
    {
     "name": "stdout",
     "output_type": "stream",
     "text": [
      "1.26.4\n"
     ]
    }
   ],
   "source": [
    "print(np.version.version)"
   ]
  },
  {
   "cell_type": "code",
   "execution_count": 3,
   "metadata": {},
   "outputs": [
    {
     "name": "stdout",
     "output_type": "stream",
     "text": [
      "2.2.3\n"
     ]
    }
   ],
   "source": [
    "print(pd.__version__)"
   ]
  },
  {
   "cell_type": "markdown",
   "metadata": {},
   "source": [
    "### Salutions.\n",
    "---"
   ]
  },
  {
   "cell_type": "code",
   "execution_count": 4,
   "metadata": {},
   "outputs": [
    {
     "name": "stdout",
     "output_type": "stream",
     "text": [
      "Hello HCIA PDTP-Huawei Team\n"
     ]
    }
   ],
   "source": [
    "print('Hello HCIA PDTP-Huawei Team')"
   ]
  },
  {
   "cell_type": "markdown",
   "metadata": {},
   "source": [
    "### Two Variables Program.\n",
    "---"
   ]
  },
  {
   "cell_type": "code",
   "execution_count": 5,
   "metadata": {},
   "outputs": [
    {
     "name": "stdout",
     "output_type": "stream",
     "text": [
      "99\n"
     ]
    }
   ],
   "source": [
    "var1= 23\n",
    "var2 = 76\n",
    "print(var1 + var2)"
   ]
  },
  {
   "cell_type": "markdown",
   "metadata": {},
   "source": [
    "### Tuple Questions.\n",
    "---"
   ]
  },
  {
   "cell_type": "code",
   "execution_count": 6,
   "metadata": {},
   "outputs": [
    {
     "name": "stdout",
     "output_type": "stream",
     "text": [
      "Maxy\n"
     ]
    }
   ],
   "source": [
    "tuple_1= ('Maxy')\n",
    "print(tuple_1)"
   ]
  },
  {
   "cell_type": "code",
   "execution_count": 7,
   "metadata": {},
   "outputs": [
    {
     "name": "stdout",
     "output_type": "stream",
     "text": [
      "Tuple content 234\n",
      "Tuple content MAX\n",
      "Tuple content Justus\n",
      "Tuple content Ben\n"
     ]
    }
   ],
   "source": [
    "tuple_2 = (234, \"MAX\", \"Justus\", 'Ben')\n",
    "for i in tuple_2:\n",
    "    print(\"Tuple content\", i)"
   ]
  },
  {
   "cell_type": "markdown",
   "metadata": {},
   "source": [
    "### Dictionary Exercise.\n",
    "---"
   ]
  },
  {
   "cell_type": "code",
   "execution_count": 8,
   "metadata": {},
   "outputs": [
    {
     "name": "stdout",
     "output_type": "stream",
     "text": [
      "name\n",
      "Phone_number\n",
      "Reagan\n",
      "+254 722 222333\n"
     ]
    }
   ],
   "source": [
    "dict_2 ={ \"name\":\"Reagan\", \"Phone_number\":\"+254 722 222333\"}\n",
    "for key in dict_2:\n",
    "    print(key)\n",
    "for key in dict_2:\n",
    "    print(dict_2[key])"
   ]
  },
  {
   "cell_type": "code",
   "execution_count": 9,
   "metadata": {},
   "outputs": [
    {
     "name": "stdout",
     "output_type": "stream",
     "text": [
      "Phone Number Owner and details {'name': 'Reagan', 'Phone_number': '+254 722 222333'}\n"
     ]
    }
   ],
   "source": [
    "dict_1 ={ \"name\":\"Reagan\", \"Phone_number\":\"+254 722 222333\"}\n",
    "print('Phone Number Owner and details', dict_1)"
   ]
  },
  {
   "cell_type": "markdown",
   "metadata": {},
   "source": [
    "### Multiplication.\n",
    "----"
   ]
  },
  {
   "cell_type": "code",
   "execution_count": 10,
   "metadata": {},
   "outputs": [
    {
     "name": "stdout",
     "output_type": "stream",
     "text": [
      "48\n"
     ]
    }
   ],
   "source": [
    "def multiply(x,y):\n",
    "    return print(x*y)\n",
    "multiply(8,6)"
   ]
  },
  {
   "cell_type": "code",
   "execution_count": 11,
   "metadata": {},
   "outputs": [
    {
     "name": "stdout",
     "output_type": "stream",
     "text": [
      "100\n"
     ]
    }
   ],
   "source": [
    "def sqrprod(x,y):\n",
    "    return print((x*y)*(y*x))\n",
    "sqrprod(2,5)"
   ]
  },
  {
   "cell_type": "markdown",
   "metadata": {},
   "source": [
    "### Numpy Tasks.\n",
    "---"
   ]
  },
  {
   "cell_type": "code",
   "execution_count": 12,
   "metadata": {},
   "outputs": [
    {
     "name": "stdout",
     "output_type": "stream",
     "text": [
      "[[0 0 0 0 0]\n",
      " [0 0 0 0 0]\n",
      " [0 0 0 0 0]\n",
      " [0 0 0 0 0]\n",
      " [0 0 0 0 0]]\n"
     ]
    }
   ],
   "source": [
    "array_1 = np.full((5,5),0)\n",
    "print(array_1)"
   ]
  },
  {
   "cell_type": "code",
   "execution_count": 14,
   "metadata": {},
   "outputs": [
    {
     "name": "stdout",
     "output_type": "stream",
     "text": [
      "[[0 1 2]\n",
      " [3 4 5]\n",
      " [6 7 8]]\n"
     ]
    }
   ],
   "source": [
    "matrix = np.arange(9).reshape(3,3)\n",
    "print(matrix)"
   ]
  },
  {
   "cell_type": "code",
   "execution_count": 15,
   "metadata": {},
   "outputs": [
    {
     "name": "stdout",
     "output_type": "stream",
     "text": [
      "(array([0, 1, 4], dtype=int64),)\n"
     ]
    }
   ],
   "source": [
    "indices = np.array([1,2,0,0,4,0])\n",
    "\n",
    "non_zero = np.nonzero(indices)\n",
    "\n",
    "print(non_zero)"
   ]
  },
  {
   "cell_type": "code",
   "execution_count": 17,
   "metadata": {},
   "outputs": [
    {
     "name": "stdout",
     "output_type": "stream",
     "text": [
      "[0]\n",
      "[0, 1]\n",
      "[0, 1]\n",
      "[0, 1]\n",
      "[0, 1, 4]\n",
      "[0, 1, 4]\n"
     ]
    }
   ],
   "source": [
    "indices = [1,2,0,0,4,0]\n",
    "non_zero_2 = []\n",
    "for i in range(len(indices)):\n",
    "    if indices[i] != 0:\n",
    "        non_zero_2.append(i)\n",
    "        \n",
    "    print (non_zero_2)"
   ]
  },
  {
   "cell_type": "code",
   "execution_count": 21,
   "metadata": {},
   "outputs": [
    {
     "name": "stdout",
     "output_type": "stream",
     "text": [
      "[[0.44660433 0.47406933 0.46400039 0.23229988 0.00459622 0.24862274\n",
      "  0.82785491 0.14627357 0.87167493 0.48347429]\n",
      " [0.10897267 0.80597214 0.66719492 0.68298392 0.01459506 0.18539244\n",
      "  0.93541128 0.63809673 0.6520369  0.54394868]\n",
      " [0.8494073  0.33111741 0.37241278 0.26905546 0.24971051 0.89946041\n",
      "  0.68231232 0.96867669 0.95538143 0.40186176]\n",
      " [0.53796832 0.80906546 0.31853745 0.71598329 0.84091718 0.02866884\n",
      "  0.28891508 0.35065957 0.12731755 0.81573023]\n",
      " [0.98723215 0.63875706 0.01399946 0.755281   0.74651022 0.19011017\n",
      "  0.71855637 0.19856369 0.23820332 0.95409708]\n",
      " [0.15414128 0.61450036 0.72069926 0.72698753 0.97268453 0.00427878\n",
      "  0.61260193 0.91944842 0.5864368  0.65827662]\n",
      " [0.35920981 0.77704909 0.00398005 0.18172802 0.20357992 0.71672637\n",
      "  0.7226214  0.37895678 0.73832119 0.79262513]\n",
      " [0.98038383 0.45944705 0.61467679 0.34101045 0.25831974 0.24690443\n",
      "  0.04922141 0.80204471 0.49706667 0.1730085 ]\n",
      " [0.1105869  0.89217582 0.41528504 0.381654   0.69664405 0.8570555\n",
      "  0.50797155 0.72696014 0.70483515 0.93318854]\n",
      " [0.63078676 0.29111056 0.60243584 0.59946219 0.7710268  0.09592737\n",
      "  0.60435755 0.83701804 0.91142253 0.61421662]]\n",
      "0.003980046675335247\n"
     ]
    }
   ],
   "source": [
    "array_3 = np.random.rand(10,10)\n",
    "print(array_3)\n",
    "\n",
    "small = np.min(array_3)\n",
    "print(small)"
   ]
  }
 ],
 "metadata": {
  "kernelspec": {
   "display_name": ".venv",
   "language": "python",
   "name": "python3"
  },
  "language_info": {
   "codemirror_mode": {
    "name": "ipython",
    "version": 3
   },
   "file_extension": ".py",
   "mimetype": "text/x-python",
   "name": "python",
   "nbconvert_exporter": "python",
   "pygments_lexer": "ipython3",
   "version": "3.12.2"
  }
 },
 "nbformat": 4,
 "nbformat_minor": 2
}
